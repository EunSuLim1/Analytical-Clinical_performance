{
 "cells": [
  {
   "cell_type": "code",
   "execution_count": 1,
   "id": "77199a9b",
   "metadata": {},
   "outputs": [
    {
     "name": "stdout",
     "output_type": "stream",
     "text": [
      "Requirement already satisfied: mlxtend in c:\\users\\pcl\\anaconda3\\lib\\site-packages (0.19.0)\n",
      "Requirement already satisfied: setuptools in c:\\users\\pcl\\anaconda3\\lib\\site-packages (from mlxtend) (52.0.0.post20210125)\n",
      "Requirement already satisfied: scipy>=1.2.1 in c:\\users\\pcl\\anaconda3\\lib\\site-packages (from mlxtend) (1.6.2)\n",
      "Requirement already satisfied: matplotlib>=3.0.0 in c:\\users\\pcl\\anaconda3\\lib\\site-packages (from mlxtend) (3.3.4)\n",
      "Requirement already satisfied: joblib>=0.13.2 in c:\\users\\pcl\\anaconda3\\lib\\site-packages (from mlxtend) (1.0.1)\n",
      "Requirement already satisfied: pandas>=0.24.2 in c:\\users\\pcl\\anaconda3\\lib\\site-packages (from mlxtend) (1.2.4)\n",
      "Requirement already satisfied: scikit-learn>=0.20.3 in c:\\users\\pcl\\anaconda3\\lib\\site-packages (from mlxtend) (0.24.1)\n",
      "Requirement already satisfied: numpy>=1.16.2 in c:\\users\\pcl\\anaconda3\\lib\\site-packages (from mlxtend) (1.20.1)\n",
      "Requirement already satisfied: python-dateutil>=2.1 in c:\\users\\pcl\\anaconda3\\lib\\site-packages (from matplotlib>=3.0.0->mlxtend) (2.8.1)\n",
      "Requirement already satisfied: pillow>=6.2.0 in c:\\users\\pcl\\anaconda3\\lib\\site-packages (from matplotlib>=3.0.0->mlxtend) (8.2.0)\n",
      "Requirement already satisfied: cycler>=0.10 in c:\\users\\pcl\\anaconda3\\lib\\site-packages (from matplotlib>=3.0.0->mlxtend) (0.10.0)\n",
      "Requirement already satisfied: kiwisolver>=1.0.1 in c:\\users\\pcl\\anaconda3\\lib\\site-packages (from matplotlib>=3.0.0->mlxtend) (1.3.1)\n",
      "Requirement already satisfied: pyparsing!=2.0.4,!=2.1.2,!=2.1.6,>=2.0.3 in c:\\users\\pcl\\anaconda3\\lib\\site-packages (from matplotlib>=3.0.0->mlxtend) (2.4.7)\n",
      "Requirement already satisfied: six in c:\\users\\pcl\\anaconda3\\lib\\site-packages (from cycler>=0.10->matplotlib>=3.0.0->mlxtend) (1.15.0)\n",
      "Requirement already satisfied: pytz>=2017.3 in c:\\users\\pcl\\anaconda3\\lib\\site-packages (from pandas>=0.24.2->mlxtend) (2021.1)\n",
      "Requirement already satisfied: threadpoolctl>=2.0.0 in c:\\users\\pcl\\anaconda3\\lib\\site-packages (from scikit-learn>=0.20.3->mlxtend) (2.1.0)\n"
     ]
    }
   ],
   "source": [
    "import pandas as pd\n",
    "import seaborn as sns\n",
    "import matplotlib as mpl\n",
    "import scipy.stats as stats\n",
    "import random\n",
    "import numpy as np\n",
    "import math\n",
    "!pip install mlxtend\n",
    "from mlxtend.preprocessing import TransactionEncoder\n",
    "from mlxtend.frequent_patterns import apriori"
   ]
  },
  {
   "cell_type": "code",
   "execution_count": 2,
   "id": "93f7be4b",
   "metadata": {},
   "outputs": [],
   "source": [
    "# df1 = pd.read_excel(\"내 PC/cloudium 서버 (U:)/PCLOK II/00. 연구원 개인폴더/임은수/LOB,D_Raw.xlsx\")\n",
    "# print(df1.shape)\n",
    "# df1.head(10)"
   ]
  },
  {
   "cell_type": "code",
   "execution_count": 3,
   "id": "04b4c5f2",
   "metadata": {
    "scrolled": true
   },
   "outputs": [
    {
     "data": {
      "text/html": [
       "<div>\n",
       "<style scoped>\n",
       "    .dataframe tbody tr th:only-of-type {\n",
       "        vertical-align: middle;\n",
       "    }\n",
       "\n",
       "    .dataframe tbody tr th {\n",
       "        vertical-align: top;\n",
       "    }\n",
       "\n",
       "    .dataframe thead th {\n",
       "        text-align: right;\n",
       "    }\n",
       "</style>\n",
       "<table border=\"1\" class=\"dataframe\">\n",
       "  <thead>\n",
       "    <tr style=\"text-align: right;\">\n",
       "      <th></th>\n",
       "      <th>rep</th>\n",
       "      <th>Blank</th>\n",
       "    </tr>\n",
       "  </thead>\n",
       "  <tbody>\n",
       "    <tr>\n",
       "      <th>0</th>\n",
       "      <td>1</td>\n",
       "      <td>0.557013</td>\n",
       "    </tr>\n",
       "    <tr>\n",
       "      <th>1</th>\n",
       "      <td>2</td>\n",
       "      <td>0.844893</td>\n",
       "    </tr>\n",
       "    <tr>\n",
       "      <th>2</th>\n",
       "      <td>3</td>\n",
       "      <td>0.359660</td>\n",
       "    </tr>\n",
       "  </tbody>\n",
       "</table>\n",
       "</div>"
      ],
      "text/plain": [
       "   rep     Blank\n",
       "0    1  0.557013\n",
       "1    2  0.844893\n",
       "2    3  0.359660"
      ]
     },
     "execution_count": 3,
     "metadata": {},
     "output_type": "execute_result"
    }
   ],
   "source": [
    "blank_random = [random.random() for i in range(1,61)]\n",
    "rep = [i for i in range(1,61)]\n",
    "df2 = pd.DataFrame({'rep': rep, 'Blank' : blank_random})\n",
    "df2.head(3)"
   ]
  },
  {
   "cell_type": "code",
   "execution_count": 4,
   "id": "e2c87763",
   "metadata": {},
   "outputs": [],
   "source": [
    "# df2=df1.rename(columns={'Unnamed: 1' : 'rep'}).drop(columns=['Unnamed: 0']).set_index('rep')"
   ]
  },
  {
   "cell_type": "code",
   "execution_count": 5,
   "id": "cceed42b",
   "metadata": {},
   "outputs": [
    {
     "data": {
      "text/plain": [
       "<AxesSubplot:xlabel='Blank', ylabel='Count'>"
      ]
     },
     "execution_count": 5,
     "metadata": {},
     "output_type": "execute_result"
    },
    {
     "data": {
      "image/png": "[encoded data removed]",
      "text/plain": [
       "<Figure size 432x288 with 1 Axes>"
      ]
     },
     "metadata": {
      "needs_background": "light"
     },
     "output_type": "display_data"
    }
   ],
   "source": [
    "sns.histplot(data=df2, x='blank_Conc', kde = True)"
   ]
  },
  {
   "cell_type": "code",
   "execution_count": 6,
   "id": "6a4787df",
   "metadata": {},
   "outputs": [
    {
     "data": {
      "text/plain": [
       "0.014188589705615658"
      ]
     },
     "execution_count": 6,
     "metadata": {},
     "output_type": "execute_result"
    }
   ],
   "source": [
    "# 정규성 검정, 귀무가설: 정규성이다. 대립가설: 정규성 아니다.\n",
    "p_val=stats.normaltest(df2['blank_Conc'])[1]\n",
    "p_val"
   ]
  },
  {
   "cell_type": "code",
   "execution_count": 7,
   "id": "610224e1",
   "metadata": {
    "scrolled": true
   },
   "outputs": [],
   "source": [
    "# print(len(df2['rep']))\n",
    "# print(np.mean(df2['Blank']))\n",
    "# print(np.std(df2['Blank']))"
   ]
  },
  {
   "cell_type": "code",
   "execution_count": 8,
   "id": "fcce012b",
   "metadata": {
    "scrolled": true
   },
   "outputs": [],
   "source": [
    "df3 = df2.sort_values(by= 'Blank')"
   ]
  },
  {
   "cell_type": "markdown",
   "id": "2c6f68d7",
   "metadata": {},
   "source": [
    "### LOB\n",
    " 1. two reagent lot\n",
    " 2. one instrument system\n",
    " 3. Tree days\n",
    " 4. Four blank sample -> LOB\n",
    " 5. Four low measurand sample (positive) -> LOD\n",
    " 6. Two replicates per sample\n",
    " 7. 60 total blank (low sample) replicates per reagent , "
   ]
  },
  {
   "cell_type": "markdown",
   "id": "152fae72",
   "metadata": {},
   "source": [
    "#### 실수에서 정수부분 소수 부분 분리하는 함수 math.modf\n",
    "a = 1.2345\n",
    "math.modf(a)[0]"
   ]
  },
  {
   "cell_type": "code",
   "execution_count": 9,
   "id": "8ba66f86",
   "metadata": {
    "collapsed": true
   },
   "outputs": [
    {
     "data": {
      "text/html": [
       "<div>\n",
       "<style scoped>\n",
       "    .dataframe tbody tr th:only-of-type {\n",
       "        vertical-align: middle;\n",
       "    }\n",
       "\n",
       "    .dataframe tbody tr th {\n",
       "        vertical-align: top;\n",
       "    }\n",
       "\n",
       "    .dataframe thead th {\n",
       "        text-align: right;\n",
       "    }\n",
       "</style>\n",
       "<table border=\"1\" class=\"dataframe\">\n",
       "  <thead>\n",
       "    <tr style=\"text-align: right;\">\n",
       "      <th></th>\n",
       "      <th>Blank</th>\n",
       "      <th>rank_position</th>\n",
       "    </tr>\n",
       "  </thead>\n",
       "  <tbody>\n",
       "    <tr>\n",
       "      <th>19</th>\n",
       "      <td>0.533476</td>\n",
       "      <td>30.0</td>\n",
       "    </tr>\n",
       "  </tbody>\n",
       "</table>\n",
       "</div>"
      ],
      "text/plain": [
       "       Blank  rank_position\n",
       "19  0.533476           30.0"
      ]
     },
     "execution_count": 9,
     "metadata": {},
     "output_type": "execute_result"
    }
   ],
   "source": [
    "# df3['rank_position'] = df3['blank_Conc'].rank(method='dense')\n",
    "# df3\n",
    "# df4=df3[['Blank', 'rank_position']].loc[(df3['rank_position'] == 30)]\n",
    "# df4"
   ]
  },
  {
   "cell_type": "code",
   "execution_count": 12,
   "id": "e35529ee",
   "metadata": {},
   "outputs": [
    {
     "name": "stdout",
     "output_type": "stream",
     "text": [
      "0.6635991437697711\n"
     ]
    }
   ],
   "source": [
    "# LOB ,a=bate = type\n",
    "# K= Sample 종류 식을 생각해보지\n",
    "B = len(df2['Result.no'])  # Total result of blank samples\n",
    "M=df3['blank_Conc'].mean()\n",
    "SD=df3['blank_Conc'].var()\n",
    "if p_val > 0.05:\n",
    "    R_P =  (0.5+B*0.95)\n",
    "    if type(R_P) == float:\n",
    "        df3['rank_position'] = df3['blank_Conc'].rank(method='dense')\n",
    "        f=math.modf(R_P)[0]\n",
    "        n=math.modf(R_P)[1]\n",
    "        LoB = df3['blank_Conc'][n-1]+f*(df3['blank_Conc'][n-1]-df3['blank_Conc'][n-2])\n",
    "        print(LoB)\n",
    "else:\n",
    "    c = (1.645 / (1-(1/(4*(B-6)))))\n",
    "    LoB = M + c*SD\n",
    "    print(LoB)\n",
    "        \n",
    "#         df4=df3[['Blank', 'rank_position']].loc[(df3['rank_position'] == round(rank_LoB))]\n",
    "#         result = df4['rank_position'].tolist()[0]\n",
    "#         print(df4)"
   ]
  },
  {
   "cell_type": "code",
   "execution_count": 13,
   "id": "3659e8fa",
   "metadata": {
    "collapsed": true
   },
   "outputs": [
    {
     "data": {
      "text/html": [
       "<div>\n",
       "<style scoped>\n",
       "    .dataframe tbody tr th:only-of-type {\n",
       "        vertical-align: middle;\n",
       "    }\n",
       "\n",
       "    .dataframe tbody tr th {\n",
       "        vertical-align: top;\n",
       "    }\n",
       "\n",
       "    .dataframe thead th {\n",
       "        text-align: right;\n",
       "    }\n",
       "</style>\n",
       "<table border=\"1\" class=\"dataframe\">\n",
       "  <thead>\n",
       "    <tr style=\"text-align: right;\">\n",
       "      <th></th>\n",
       "      <th>rep</th>\n",
       "      <th>Low_sample</th>\n",
       "    </tr>\n",
       "  </thead>\n",
       "  <tbody>\n",
       "    <tr>\n",
       "      <th>0</th>\n",
       "      <td>1</td>\n",
       "      <td>1.841634</td>\n",
       "    </tr>\n",
       "    <tr>\n",
       "      <th>1</th>\n",
       "      <td>2</td>\n",
       "      <td>1.416914</td>\n",
       "    </tr>\n",
       "    <tr>\n",
       "      <th>2</th>\n",
       "      <td>3</td>\n",
       "      <td>4.826778</td>\n",
       "    </tr>\n",
       "    <tr>\n",
       "      <th>3</th>\n",
       "      <td>4</td>\n",
       "      <td>4.895480</td>\n",
       "    </tr>\n",
       "    <tr>\n",
       "      <th>4</th>\n",
       "      <td>5</td>\n",
       "      <td>3.606706</td>\n",
       "    </tr>\n",
       "    <tr>\n",
       "      <th>5</th>\n",
       "      <td>6</td>\n",
       "      <td>1.531054</td>\n",
       "    </tr>\n",
       "    <tr>\n",
       "      <th>6</th>\n",
       "      <td>7</td>\n",
       "      <td>1.409679</td>\n",
       "    </tr>\n",
       "    <tr>\n",
       "      <th>7</th>\n",
       "      <td>8</td>\n",
       "      <td>2.628041</td>\n",
       "    </tr>\n",
       "    <tr>\n",
       "      <th>8</th>\n",
       "      <td>9</td>\n",
       "      <td>4.599784</td>\n",
       "    </tr>\n",
       "    <tr>\n",
       "      <th>9</th>\n",
       "      <td>10</td>\n",
       "      <td>3.847766</td>\n",
       "    </tr>\n",
       "  </tbody>\n",
       "</table>\n",
       "</div>"
      ],
      "text/plain": [
       "   rep  Low_sample\n",
       "0    1    1.841634\n",
       "1    2    1.416914\n",
       "2    3    4.826778\n",
       "3    4    4.895480\n",
       "4    5    3.606706\n",
       "5    6    1.531054\n",
       "6    7    1.409679\n",
       "7    8    2.628041\n",
       "8    9    4.599784\n",
       "9   10    3.847766"
      ]
     },
     "execution_count": 13,
     "metadata": {},
     "output_type": "execute_result"
    }
   ],
   "source": [
    "# LOD 5 day, 5 sample, 최소 sample lot day 합쳐서 40 반복\n",
    "\n",
    "# randam_LOD = [random.uniform(1,5) for i in range(1,201)]\n",
    "# rep_LOD = [i for i in range(1,201)]\n",
    "# df5 = pd.DataFrame({'rep':rep_LOD, 'Low_sample':randam_LOD})\n",
    "# df5.head(10)"
   ]
  },
  {
   "cell_type": "code",
   "execution_count": 44,
   "id": "13defd85",
   "metadata": {},
   "outputs": [
    {
     "data": {
      "text/plain": [
       "Index(['day', 'Lot', 'Sample', 'conc'], dtype='object')"
      ]
     },
     "execution_count": 44,
     "metadata": {},
     "output_type": "execute_result"
    }
   ],
   "source": [
    "LOD_raw = pd.read_excel(\"F:\\LOD_Python.xlsx\")\n",
    "cond1 = (LOD_raw['Lot'] == 1)\n",
    "cond2 = (LOD_raw['Sample'] == 'L1')\n",
    "cond3 = (LOD_raw['Sample'] == 'L2')\n",
    "cond4 = (LOD_raw['Sample'] == 'L3')\n",
    "cond5 = (LOD_raw['Sample'] == 'L4')\n",
    "\n",
    "lot1_L1 = LOD_raw.loc[cond1&cond2]\n",
    "SD1=lot1_L1['conc'].std()\n",
    "# LOD_raw.loc(cond1)\n",
    "LOD_raw.columns"
   ]
  },
  {
   "cell_type": "code",
   "execution_count": 46,
   "id": "68f4b954",
   "metadata": {},
   "outputs": [
    {
     "data": {
      "text/plain": [
       "<AxesSubplot:xlabel='conc', ylabel='Count'>"
      ]
     },
     "execution_count": 46,
     "metadata": {},
     "output_type": "execute_result"
    },
    {
     "data": {
      "image/png": "[encoded data removed]",
      "text/plain": [
       "<Figure size 432x288 with 1 Axes>"
      ]
     },
     "metadata": {
      "needs_background": "light"
     },
     "output_type": "display_data"
    }
   ],
   "source": [
    "# 정규성 확인\n",
    "sns.histplot(data=LOD_raw, x='conc', kde=True)"
   ]
  },
  {
   "cell_type": "code",
   "execution_count": 48,
   "id": "cbb54450",
   "metadata": {},
   "outputs": [
    {
     "data": {
      "text/plain": [
       "NormaltestResult(statistic=4.305863663323758, pvalue=0.11614314597049764)"
      ]
     },
     "execution_count": 48,
     "metadata": {},
     "output_type": "execute_result"
    }
   ],
   "source": [
    "# 정규성 검정 : 귀무-정규성을 갖는다\n",
    "\n",
    "p_low_sample = stats.normaltest(LOD_raw['conc'])\n",
    "p_low_sample[1]"
   ]
  },
  {
   "cell_type": "code",
   "execution_count": null,
   "id": "ee05e929",
   "metadata": {},
   "outputs": [],
   "source": [
    "\n",
    "if p_low_sample[1] >0.5:\n",
    "    \n",
    "\n",
    "c = (1.645/(1-(1/(4(l-6)))))\n",
    "LoD = LoB + c*df3['Blank'].std()\n",
    "print(LoD)\n"
   ]
  }
 ],
 "metadata": {
  "kernelspec": {
   "display_name": "Python 3",
   "language": "python",
   "name": "python3"
  },
  "language_info": {
   "codemirror_mode": {
    "name": "ipython",
    "version": 3
   },
   "file_extension": ".py",
   "mimetype": "text/x-python",
   "name": "python",
   "nbconvert_exporter": "python",
   "pygments_lexer": "ipython3",
   "version": "3.8.8"
  }
 },
 "nbformat": 4,
 "nbformat_minor": 5
}
