{
 "cells": [
  {
   "cell_type": "code",
   "execution_count": 40,
   "id": "118bee81",
   "metadata": {},
   "outputs": [],
   "source": [
    "import pandas as pb\n",
    "import numpy as np\n",
    "import matplotlib.pyplot as plt\n",
    "\n",
    "np.random.seed(2021)"
   ]
  },
  {
   "cell_type": "markdown",
   "id": "3309664a",
   "metadata": {},
   "source": [
    "### data load\n",
    "#### sklearn.datasets 의 load_diabetes"
   ]
  },
  {
   "cell_type": "code",
   "execution_count": 42,
   "id": "8f33eb1e",
   "metadata": {},
   "outputs": [],
   "source": [
    "from sklearn.datasets import load_diabetes\n",
    "\n",
    "diabetes = load_diabetes()"
   ]
  },
  {
   "cell_type": "code",
   "execution_count": 45,
   "id": "080b4b65",
   "metadata": {},
   "outputs": [
    {
     "data": {
      "text/plain": [
       "['age', 'sex', 'bmi', 'bp', 's1', 's2', 's3', 's4', 's5', 's6']"
      ]
     },
     "execution_count": 45,
     "metadata": {},
     "output_type": "execute_result"
    }
   ],
   "source": [
    "diabetes['feature_names']"
   ]
  },
  {
   "cell_type": "code",
   "execution_count": 47,
   "id": "53d23bad",
   "metadata": {},
   "outputs": [],
   "source": [
    "data, target = diabetes['data'], diabetes['target']"
   ]
  },
  {
   "cell_type": "code",
   "execution_count": 51,
   "id": "729ea6ac",
   "metadata": {},
   "outputs": [
    {
     "data": {
      "text/plain": [
       "(442,)"
      ]
     },
     "execution_count": 51,
     "metadata": {},
     "output_type": "execute_result"
    }
   ],
   "source": [
    "target[0]\n",
    "target.shape"
   ]
  },
  {
   "cell_type": "code",
   "execution_count": 50,
   "id": "5f0c5532",
   "metadata": {
    "scrolled": true
   },
   "outputs": [
    {
     "data": {
      "text/plain": [
       "(442, 10)"
      ]
     },
     "execution_count": 50,
     "metadata": {},
     "output_type": "execute_result"
    }
   ],
   "source": [
    "data[0]\n",
    "data.shape"
   ]
  },
  {
   "cell_type": "markdown",
   "id": "ed8fd605",
   "metadata": {},
   "source": [
    "#### data EDA"
   ]
  },
  {
   "cell_type": "code",
   "execution_count": 52,
   "id": "e1fac6c2",
   "metadata": {},
   "outputs": [],
   "source": [
    "df = pd.DataFrame(data, columns=diabetes['feature_names'])"
   ]
  },
  {
   "cell_type": "code",
   "execution_count": 55,
   "id": "57333a9b",
   "metadata": {
    "collapsed": true
   },
   "outputs": [
    {
     "data": {
      "text/html": [
       "<div>\n",
       "<style scoped>\n",
       "    .dataframe tbody tr th:only-of-type {\n",
       "        vertical-align: middle;\n",
       "    }\n",
       "\n",
       "    .dataframe tbody tr th {\n",
       "        vertical-align: top;\n",
       "    }\n",
       "\n",
       "    .dataframe thead th {\n",
       "        text-align: right;\n",
       "    }\n",
       "</style>\n",
       "<table border=\"1\" class=\"dataframe\">\n",
       "  <thead>\n",
       "    <tr style=\"text-align: right;\">\n",
       "      <th></th>\n",
       "      <th>age</th>\n",
       "      <th>sex</th>\n",
       "      <th>bmi</th>\n",
       "      <th>bp</th>\n",
       "      <th>s1</th>\n",
       "      <th>s2</th>\n",
       "      <th>s3</th>\n",
       "      <th>s4</th>\n",
       "      <th>s5</th>\n",
       "      <th>s6</th>\n",
       "    </tr>\n",
       "  </thead>\n",
       "  <tbody>\n",
       "    <tr>\n",
       "      <th>count</th>\n",
       "      <td>4.420000e+02</td>\n",
       "      <td>4.420000e+02</td>\n",
       "      <td>4.420000e+02</td>\n",
       "      <td>4.420000e+02</td>\n",
       "      <td>4.420000e+02</td>\n",
       "      <td>4.420000e+02</td>\n",
       "      <td>4.420000e+02</td>\n",
       "      <td>4.420000e+02</td>\n",
       "      <td>4.420000e+02</td>\n",
       "      <td>4.420000e+02</td>\n",
       "    </tr>\n",
       "    <tr>\n",
       "      <th>mean</th>\n",
       "      <td>-3.634285e-16</td>\n",
       "      <td>1.308343e-16</td>\n",
       "      <td>-8.045349e-16</td>\n",
       "      <td>1.281655e-16</td>\n",
       "      <td>-8.835316e-17</td>\n",
       "      <td>1.327024e-16</td>\n",
       "      <td>-4.574646e-16</td>\n",
       "      <td>3.777301e-16</td>\n",
       "      <td>-3.830854e-16</td>\n",
       "      <td>-3.412882e-16</td>\n",
       "    </tr>\n",
       "    <tr>\n",
       "      <th>std</th>\n",
       "      <td>4.761905e-02</td>\n",
       "      <td>4.761905e-02</td>\n",
       "      <td>4.761905e-02</td>\n",
       "      <td>4.761905e-02</td>\n",
       "      <td>4.761905e-02</td>\n",
       "      <td>4.761905e-02</td>\n",
       "      <td>4.761905e-02</td>\n",
       "      <td>4.761905e-02</td>\n",
       "      <td>4.761905e-02</td>\n",
       "      <td>4.761905e-02</td>\n",
       "    </tr>\n",
       "    <tr>\n",
       "      <th>min</th>\n",
       "      <td>-1.072256e-01</td>\n",
       "      <td>-4.464164e-02</td>\n",
       "      <td>-9.027530e-02</td>\n",
       "      <td>-1.123996e-01</td>\n",
       "      <td>-1.267807e-01</td>\n",
       "      <td>-1.156131e-01</td>\n",
       "      <td>-1.023071e-01</td>\n",
       "      <td>-7.639450e-02</td>\n",
       "      <td>-1.260974e-01</td>\n",
       "      <td>-1.377672e-01</td>\n",
       "    </tr>\n",
       "    <tr>\n",
       "      <th>25%</th>\n",
       "      <td>-3.729927e-02</td>\n",
       "      <td>-4.464164e-02</td>\n",
       "      <td>-3.422907e-02</td>\n",
       "      <td>-3.665645e-02</td>\n",
       "      <td>-3.424784e-02</td>\n",
       "      <td>-3.035840e-02</td>\n",
       "      <td>-3.511716e-02</td>\n",
       "      <td>-3.949338e-02</td>\n",
       "      <td>-3.324879e-02</td>\n",
       "      <td>-3.317903e-02</td>\n",
       "    </tr>\n",
       "    <tr>\n",
       "      <th>50%</th>\n",
       "      <td>5.383060e-03</td>\n",
       "      <td>-4.464164e-02</td>\n",
       "      <td>-7.283766e-03</td>\n",
       "      <td>-5.670611e-03</td>\n",
       "      <td>-4.320866e-03</td>\n",
       "      <td>-3.819065e-03</td>\n",
       "      <td>-6.584468e-03</td>\n",
       "      <td>-2.592262e-03</td>\n",
       "      <td>-1.947634e-03</td>\n",
       "      <td>-1.077698e-03</td>\n",
       "    </tr>\n",
       "    <tr>\n",
       "      <th>75%</th>\n",
       "      <td>3.807591e-02</td>\n",
       "      <td>5.068012e-02</td>\n",
       "      <td>3.124802e-02</td>\n",
       "      <td>3.564384e-02</td>\n",
       "      <td>2.835801e-02</td>\n",
       "      <td>2.984439e-02</td>\n",
       "      <td>2.931150e-02</td>\n",
       "      <td>3.430886e-02</td>\n",
       "      <td>3.243323e-02</td>\n",
       "      <td>2.791705e-02</td>\n",
       "    </tr>\n",
       "    <tr>\n",
       "      <th>max</th>\n",
       "      <td>1.107267e-01</td>\n",
       "      <td>5.068012e-02</td>\n",
       "      <td>1.705552e-01</td>\n",
       "      <td>1.320442e-01</td>\n",
       "      <td>1.539137e-01</td>\n",
       "      <td>1.987880e-01</td>\n",
       "      <td>1.811791e-01</td>\n",
       "      <td>1.852344e-01</td>\n",
       "      <td>1.335990e-01</td>\n",
       "      <td>1.356118e-01</td>\n",
       "    </tr>\n",
       "  </tbody>\n",
       "</table>\n",
       "</div>"
      ],
      "text/plain": [
       "                age           sex           bmi            bp            s1  \\\n",
       "count  4.420000e+02  4.420000e+02  4.420000e+02  4.420000e+02  4.420000e+02   \n",
       "mean  -3.634285e-16  1.308343e-16 -8.045349e-16  1.281655e-16 -8.835316e-17   \n",
       "std    4.761905e-02  4.761905e-02  4.761905e-02  4.761905e-02  4.761905e-02   \n",
       "min   -1.072256e-01 -4.464164e-02 -9.027530e-02 -1.123996e-01 -1.267807e-01   \n",
       "25%   -3.729927e-02 -4.464164e-02 -3.422907e-02 -3.665645e-02 -3.424784e-02   \n",
       "50%    5.383060e-03 -4.464164e-02 -7.283766e-03 -5.670611e-03 -4.320866e-03   \n",
       "75%    3.807591e-02  5.068012e-02  3.124802e-02  3.564384e-02  2.835801e-02   \n",
       "max    1.107267e-01  5.068012e-02  1.705552e-01  1.320442e-01  1.539137e-01   \n",
       "\n",
       "                 s2            s3            s4            s5            s6  \n",
       "count  4.420000e+02  4.420000e+02  4.420000e+02  4.420000e+02  4.420000e+02  \n",
       "mean   1.327024e-16 -4.574646e-16  3.777301e-16 -3.830854e-16 -3.412882e-16  \n",
       "std    4.761905e-02  4.761905e-02  4.761905e-02  4.761905e-02  4.761905e-02  \n",
       "min   -1.156131e-01 -1.023071e-01 -7.639450e-02 -1.260974e-01 -1.377672e-01  \n",
       "25%   -3.035840e-02 -3.511716e-02 -3.949338e-02 -3.324879e-02 -3.317903e-02  \n",
       "50%   -3.819065e-03 -6.584468e-03 -2.592262e-03 -1.947634e-03 -1.077698e-03  \n",
       "75%    2.984439e-02  2.931150e-02  3.430886e-02  3.243323e-02  2.791705e-02  \n",
       "max    1.987880e-01  1.811791e-01  1.852344e-01  1.335990e-01  1.356118e-01  "
      ]
     },
     "execution_count": 55,
     "metadata": {},
     "output_type": "execute_result"
    }
   ],
   "source": [
    "df.describe()"
   ]
  },
  {
   "cell_type": "markdown",
   "id": "a0383446",
   "metadata": {},
   "source": [
    "#### data split\n",
    "sklearn.model_selection의 train_test_split 함수를 이용해 데이터를 나눔\n",
    "\n",
    "```python\n",
    "train_test_split(\n",
    "    *array,\n",
    "    test_size=None,\n",
    "    train_size=None,\n",
    "    random_state=None,\n",
    "    suffle=True,\n",
    "    stratify=None,\n",
    ")\n",
    "```\n",
    "    - array: array로 이루어진 데이터를 받는다.\n",
    "    - test_size: test로 분할될 사이즈를 정한다.\n",
    "    - train_size: train 으로 분할될 사이즈를 정한다.\n",
    "    - random_state: 다음에도 같은 값을 얻기위해서 난수를 고정항다.\n",
    "    - shuffle: 데이터 섞을지\n",
    "    - stratify: 데이터를 나눌 떄 정답의 분포를 반영합니다."
   ]
  },
  {
   "cell_type": "code",
   "execution_count": 62,
   "id": "66120a82",
   "metadata": {},
   "outputs": [],
   "source": [
    "from sklearn.model_selection import train_test_split\n",
    "\n",
    "train_data, test_data, train_target, test_target = train_test_split(data, target, test_size=0.3)"
   ]
  },
  {
   "cell_type": "code",
   "execution_count": 63,
   "id": "91281bab",
   "metadata": {},
   "outputs": [
    {
     "data": {
      "text/plain": [
       "(442, 309, 133)"
      ]
     },
     "execution_count": 63,
     "metadata": {},
     "output_type": "execute_result"
    }
   ],
   "source": [
    "len(data), len(train_data), len(test_data)"
   ]
  },
  {
   "cell_type": "code",
   "execution_count": 69,
   "id": "b6469b6f",
   "metadata": {},
   "outputs": [
    {
     "name": "stdout",
     "output_type": "stream",
     "text": [
      "train ratio: 0.70\n",
      "test ration:  0.30\n"
     ]
    }
   ],
   "source": [
    "print(\"train ratio: {:.2f}\".format(len(train_data)/len(data)))\n",
    "print('test ration: {: .2f}'.format(len(test_data)/len(data)))"
   ]
  },
  {
   "cell_type": "markdown",
   "id": "3d01ee11",
   "metadata": {},
   "source": [
    "### multivariate regression"
   ]
  },
  {
   "cell_type": "code",
   "execution_count": 70,
   "id": "c60ff9c5",
   "metadata": {},
   "outputs": [
    {
     "data": {
      "text/plain": [
       "LinearRegression()"
      ]
     },
     "execution_count": 70,
     "metadata": {},
     "output_type": "execute_result"
    }
   ],
   "source": [
    "from sklearn.linear_model import LinearRegression\n",
    "\n",
    "multi_regressor = LinearRegression()\n",
    "multi_regressor.fit(train_data, train_target)"
   ]
  },
  {
   "cell_type": "code",
   "execution_count": 71,
   "id": "10ee78a2",
   "metadata": {},
   "outputs": [
    {
     "data": {
      "text/plain": [
       "153.5154889787856"
      ]
     },
     "execution_count": 71,
     "metadata": {},
     "output_type": "execute_result"
    }
   ],
   "source": [
    "multi_regressor.intercept_"
   ]
  },
  {
   "cell_type": "code",
   "execution_count": 72,
   "id": "2531d692",
   "metadata": {},
   "outputs": [
    {
     "data": {
      "text/plain": [
       "array([ -27.19011439, -167.52330771,  498.931702  ,  384.60694846,\n",
       "       -882.16770299,  517.04440745,  163.98087712,  162.59846459,\n",
       "        775.40093413,  116.88999043])"
      ]
     },
     "execution_count": 72,
     "metadata": {},
     "output_type": "execute_result"
    }
   ],
   "source": [
    "multi_regressor.coef_"
   ]
  },
  {
   "cell_type": "code",
   "execution_count": 80,
   "id": "41242926",
   "metadata": {},
   "outputs": [
    {
     "data": {
      "text/plain": [
       "array([133.89865896, 171.55720168, 122.15949407, 137.72157491,\n",
       "       245.9622304 , 137.17572683, 269.3037162 , 208.23799972,\n",
       "        79.75537084,  56.07742356])"
      ]
     },
     "execution_count": 80,
     "metadata": {},
     "output_type": "execute_result"
    }
   ],
   "source": [
    "multi_train_pre=multi_regressor.predict(train_data)\n",
    "multi_test_pred=multi_regressor.predict(test_data)\n",
    "multi_train_pre\n",
    "multi_test_pred[:10]"
   ]
  },
  {
   "cell_type": "markdown",
   "id": "7a44a1d2",
   "metadata": {},
   "source": [
    "### 평가\n",
    "평가는 'sklearn.metrics' 의 mean_squared_error를 이용, mean_squared_error는 두값의 차이의 제곱의 평균을 계산해줍니다."
   ]
  },
  {
   "cell_type": "code",
   "execution_count": 81,
   "id": "a3d693b2",
   "metadata": {},
   "outputs": [],
   "source": [
    "from sklearn.metrics import mean_squared_error\n",
    "\n",
    "multi_train_mse = mean_squared_error(multi_train_pre, train_target)\n",
    "multi_test_mse = mean_squared_error(multi_test_pred, test_target)"
   ]
  },
  {
   "cell_type": "code",
   "execution_count": 87,
   "id": "0db0d5be",
   "metadata": {
    "scrolled": false
   },
   "outputs": [
    {
     "name": "stdout",
     "output_type": "stream",
     "text": [
      "multi regression train MSE 2798.3273\n",
      "multi regression test MSE 3104.1424\n"
     ]
    }
   ],
   "source": [
    "print(f'multi regression train MSE {multi_train_mse:.4f}')\n",
    "print(f'multi regression test MSE {multi_test_mse:.4f}')"
   ]
  },
  {
   "cell_type": "markdown",
   "id": "16c1d55f",
   "metadata": {},
   "source": [
    "# ridge regression\n",
    "\n",
    "과대적합을 피하는 거 (l2 규제, l2 규제란?"
   ]
  },
  {
   "cell_type": "code",
   "execution_count": 89,
   "id": "5c573c90",
   "metadata": {},
   "outputs": [
    {
     "data": {
      "text/plain": [
       "Ridge()"
      ]
     },
     "execution_count": 89,
     "metadata": {},
     "output_type": "execute_result"
    }
   ],
   "source": [
    "from sklearn.linear_model import Ridge\n",
    "\n",
    "ridge_regressor = Ridge()\n",
    "ridge_regressor.fit(train_data, train_target)"
   ]
  },
  {
   "cell_type": "code",
   "execution_count": 90,
   "id": "e8b33726",
   "metadata": {},
   "outputs": [
    {
     "data": {
      "text/plain": [
       "153.84489096503088"
      ]
     },
     "execution_count": 90,
     "metadata": {},
     "output_type": "execute_result"
    }
   ],
   "source": [
    "ridge_regressor.intercept_"
   ]
  },
  {
   "cell_type": "code",
   "execution_count": 92,
   "id": "9ab6248c",
   "metadata": {},
   "outputs": [
    {
     "data": {
      "text/plain": [
       "array([  41.49457477,  -39.59105231,  254.79451474,  195.42676873,\n",
       "         10.21503696,  -24.72963589, -132.86644373,   98.33771876,\n",
       "        234.56527585,  123.59827361])"
      ]
     },
     "execution_count": 92,
     "metadata": {},
     "output_type": "execute_result"
    }
   ],
   "source": [
    "ridge_regressor.coef_"
   ]
  },
  {
   "cell_type": "code",
   "execution_count": 93,
   "id": "55889272",
   "metadata": {},
   "outputs": [],
   "source": [
    "#  예측\n",
    "ridge_train_pred = ridge_regressor.predict(train_data)\n",
    "ridge_test_pred = ridge_regressor.predict(test_data)"
   ]
  },
  {
   "cell_type": "code",
   "execution_count": 94,
   "id": "7da79689",
   "metadata": {},
   "outputs": [],
   "source": [
    "# 평가 sklearn.metrics import mean_squared_error\n",
    "ridge_train_mse = mean_squared_error(ridge_train_pred, train_target)\n",
    "ridge_test_mse = mean_squared_error(ridge_test_pred, test_target)\n"
   ]
  },
  {
   "cell_type": "code",
   "execution_count": 95,
   "id": "8db53d76",
   "metadata": {},
   "outputs": [
    {
     "name": "stdout",
     "output_type": "stream",
     "text": [
      "ridge regression Train mse 3354.2735\n",
      "ridge regression Test mse  3565.3842\n"
     ]
    }
   ],
   "source": [
    "print(f'ridge regression Train mse {ridge_train_mse:.4f}')\n",
    "print(f'ridge regression Test mse {ridge_test_mse: .4f}')"
   ]
  },
  {
   "cell_type": "markdown",
   "id": "bb6435da",
   "metadata": {},
   "source": [
    "# LASSO Regression\n",
    "\n",
    "과대적합을 줄이는 방법 (l1 규제)"
   ]
  },
  {
   "cell_type": "code",
   "execution_count": 96,
   "id": "70908895",
   "metadata": {},
   "outputs": [
    {
     "data": {
      "text/plain": [
       "Lasso()"
      ]
     },
     "execution_count": 96,
     "metadata": {},
     "output_type": "execute_result"
    }
   ],
   "source": [
    "from sklearn.linear_model import Lasso\n",
    "\n",
    "lasso_regressor = Lasso()\n",
    "lasso_regressor.fit(train_data, train_target)"
   ]
  },
  {
   "cell_type": "code",
   "execution_count": 97,
   "id": "f4a18d25",
   "metadata": {},
   "outputs": [
    {
     "data": {
      "text/plain": [
       "154.11772791777125"
      ]
     },
     "execution_count": 97,
     "metadata": {},
     "output_type": "execute_result"
    }
   ],
   "source": [
    "lasso_regressor.intercept_"
   ]
  },
  {
   "cell_type": "code",
   "execution_count": 98,
   "id": "943c2354",
   "metadata": {},
   "outputs": [
    {
     "data": {
      "text/plain": [
       "array([  0.        ,   0.        , 318.24804461,  60.82040112,\n",
       "         0.        ,   0.        ,  -0.        ,   0.        ,\n",
       "       334.50178639,   0.        ])"
      ]
     },
     "execution_count": 98,
     "metadata": {},
     "output_type": "execute_result"
    }
   ],
   "source": [
    "lasso_regressor.coef_"
   ]
  },
  {
   "cell_type": "code",
   "execution_count": 108,
   "id": "6e294759",
   "metadata": {},
   "outputs": [
    {
     "data": {
      "text/plain": [
       "array(['bmi', 'bp', 's5'], dtype='<U3')"
      ]
     },
     "execution_count": 108,
     "metadata": {},
     "output_type": "execute_result"
    }
   ],
   "source": [
    "np.array(diabetes['feature_names'])[lasso_regressor.coef_!=0]"
   ]
  },
  {
   "cell_type": "code",
   "execution_count": 109,
   "id": "97349e38",
   "metadata": {},
   "outputs": [],
   "source": [
    "lasso_train_pred = lasso_regressor.predict(train_data)\n",
    "lasso_test_pred = lasso_regressor.predict(test_data)"
   ]
  },
  {
   "cell_type": "code",
   "execution_count": 110,
   "id": "81af9b2c",
   "metadata": {},
   "outputs": [],
   "source": [
    "lasso_train_mse = mean_squared_error(lasso_train_pred, train_target)\n",
    "lasso_test_mse = mean_squared_error(lasso_test_pred, test_target)"
   ]
  },
  {
   "cell_type": "code",
   "execution_count": 112,
   "id": "d57e5a98",
   "metadata": {
    "scrolled": true
   },
   "outputs": [
    {
     "name": "stdout",
     "output_type": "stream",
     "text": [
      "lasso regression train mse 3729.7548\n",
      "lasso regression test mse 3829.1928\n"
     ]
    }
   ],
   "source": [
    "print(f'lasso regression train mse {lasso_train_mse :.4f}')\n",
    "print(f'lasso regression test mse {lasso_test_mse :.4f}')"
   ]
  },
  {
   "cell_type": "code",
   "execution_count": 113,
   "id": "7b2630ca",
   "metadata": {},
   "outputs": [
    {
     "name": "stdout",
     "output_type": "stream",
     "text": [
      "Multi Regression Test MSE is 3104.1424\n",
      "Ridge Regression Test MSE is 3565.3842\n",
      "LASSO Regression Test MSE is 3829.1928\n"
     ]
    }
   ],
   "source": [
    "print(f\"Multi Regression Test MSE is {multi_test_mse:.4f}\")\n",
    "print(f\"Ridge Regression Test MSE is {ridge_test_mse:.4f}\")\n",
    "print(f\"LASSO Regression Test MSE is {lasso_test_mse:.4f}\")"
   ]
  },
  {
   "cell_type": "code",
   "execution_count": 143,
   "id": "7111bea3",
   "metadata": {},
   "outputs": [
    {
     "data": {
      "image/png": "[encoded data removed]",
      "text/plain": [
       "<Figure size 1080x360 with 3 Axes>"
      ]
     },
     "metadata": {
      "needs_background": "light"
     },
     "output_type": "display_data"
    }
   ],
   "source": [
    "fig, axes=  plt.subplots(nrows=1, ncols=3, figsize=(15,5))\n",
    "preds =[\n",
    "    ('Multi regression', multi_test_pred),\n",
    "    ('Ridge regression', ridge_test_pred),\n",
    "    ('LASSO regression', lasso_test_pred)\n",
    "]\n",
    "for idx, (name, test_pred) in enumerate(preds):\n",
    "    ax=axes[idx]\n",
    "    ax.scatter(test_pred, test_target)\n",
    "    ax.plot(np.linspace(0,330,100), np.linspace(0,330,100), color='red')\n",
    "    ax.set_xlabel(\"Predict\")\n",
    "    ax.set_ylabel(\"Real\")\n",
    "    ax.set_title(name)\n"
   ]
  }
 ],
 "metadata": {
  "kernelspec": {
   "display_name": "Python 3",
   "language": "python",
   "name": "python3"
  },
  "language_info": {
   "codemirror_mode": {
    "name": "ipython",
    "version": 3
   },
   "file_extension": ".py",
   "mimetype": "text/x-python",
   "name": "python",
   "nbconvert_exporter": "python",
   "pygments_lexer": "ipython3",
   "version": "3.8.8"
  }
 },
 "nbformat": 4,
 "nbformat_minor": 5
}
