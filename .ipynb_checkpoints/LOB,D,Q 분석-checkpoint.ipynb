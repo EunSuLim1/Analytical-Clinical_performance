{
 "cells": [
  {
   "cell_type": "code",
   "execution_count": 1,
   "id": "77199a9b",
   "metadata": {},
   "outputs": [
    {
     "name": "stdout",
     "output_type": "stream",
     "text": [
      "Requirement already satisfied: mlxtend in c:\\users\\pcl\\anaconda3\\lib\\site-packages (0.19.0)\n",
      "Requirement already satisfied: setuptools in c:\\users\\pcl\\anaconda3\\lib\\site-packages (from mlxtend) (52.0.0.post20210125)\n",
      "Requirement already satisfied: numpy>=1.16.2 in c:\\users\\pcl\\anaconda3\\lib\\site-packages (from mlxtend) (1.20.1)\n",
      "Requirement already satisfied: scikit-learn>=0.20.3 in c:\\users\\pcl\\anaconda3\\lib\\site-packages (from mlxtend) (0.24.1)\n",
      "Requirement already satisfied: joblib>=0.13.2 in c:\\users\\pcl\\anaconda3\\lib\\site-packages (from mlxtend) (1.0.1)\n",
      "Requirement already satisfied: scipy>=1.2.1 in c:\\users\\pcl\\anaconda3\\lib\\site-packages (from mlxtend) (1.6.2)\n",
      "Requirement already satisfied: pandas>=0.24.2 in c:\\users\\pcl\\anaconda3\\lib\\site-packages (from mlxtend) (1.2.4)\n",
      "Requirement already satisfied: matplotlib>=3.0.0 in c:\\users\\pcl\\anaconda3\\lib\\site-packages (from mlxtend) (3.3.4)\n",
      "Requirement already satisfied: pyparsing!=2.0.4,!=2.1.2,!=2.1.6,>=2.0.3 in c:\\users\\pcl\\anaconda3\\lib\\site-packages (from matplotlib>=3.0.0->mlxtend) (2.4.7)\n",
      "Requirement already satisfied: pillow>=6.2.0 in c:\\users\\pcl\\anaconda3\\lib\\site-packages (from matplotlib>=3.0.0->mlxtend) (8.2.0)\n",
      "Requirement already satisfied: cycler>=0.10 in c:\\users\\pcl\\anaconda3\\lib\\site-packages (from matplotlib>=3.0.0->mlxtend) (0.10.0)\n",
      "Requirement already satisfied: python-dateutil>=2.1 in c:\\users\\pcl\\anaconda3\\lib\\site-packages (from matplotlib>=3.0.0->mlxtend) (2.8.1)\n",
      "Requirement already satisfied: kiwisolver>=1.0.1 in c:\\users\\pcl\\anaconda3\\lib\\site-packages (from matplotlib>=3.0.0->mlxtend) (1.3.1)\n",
      "Requirement already satisfied: six in c:\\users\\pcl\\anaconda3\\lib\\site-packages (from cycler>=0.10->matplotlib>=3.0.0->mlxtend) (1.15.0)\n",
      "Requirement already satisfied: pytz>=2017.3 in c:\\users\\pcl\\anaconda3\\lib\\site-packages (from pandas>=0.24.2->mlxtend) (2021.1)\n",
      "Requirement already satisfied: threadpoolctl>=2.0.0 in c:\\users\\pcl\\anaconda3\\lib\\site-packages (from scikit-learn>=0.20.3->mlxtend) (2.1.0)\n"
     ]
    }
   ],
   "source": [
    "import pandas as pd\n",
    "import seaborn as sns\n",
    "import matplotlib as mpl\n",
    "import scipy.stats as stats\n",
    "import random\n",
    "import numpy as np\n",
    "import math\n",
    "!pip install mlxtend\n",
    "from mlxtend.preprocessing import TransactionEncoder\n",
    "from mlxtend.frequent_patterns import apriori"
   ]
  },
  {
   "cell_type": "code",
   "execution_count": 2,
   "id": "93f7be4b",
   "metadata": {},
   "outputs": [],
   "source": [
    "# df1 = pd.read_excel(\"내 PC/cloudium 서버 (U:)/PCLOK II/00. 연구원 개인폴더/임은수/LOB,D_Raw.xlsx\")\n",
    "# print(df1.shape)\n",
    "# df1.head(10)"
   ]
  },
  {
   "cell_type": "code",
   "execution_count": 3,
   "id": "04b4c5f2",
   "metadata": {},
   "outputs": [
    {
     "data": {
      "text/html": [
       "<div>\n",
       "<style scoped>\n",
       "    .dataframe tbody tr th:only-of-type {\n",
       "        vertical-align: middle;\n",
       "    }\n",
       "\n",
       "    .dataframe tbody tr th {\n",
       "        vertical-align: top;\n",
       "    }\n",
       "\n",
       "    .dataframe thead th {\n",
       "        text-align: right;\n",
       "    }\n",
       "</style>\n",
       "<table border=\"1\" class=\"dataframe\">\n",
       "  <thead>\n",
       "    <tr style=\"text-align: right;\">\n",
       "      <th></th>\n",
       "      <th>rep</th>\n",
       "      <th>Blank_Conc</th>\n",
       "    </tr>\n",
       "  </thead>\n",
       "  <tbody>\n",
       "    <tr>\n",
       "      <th>0</th>\n",
       "      <td>1</td>\n",
       "      <td>0.426069</td>\n",
       "    </tr>\n",
       "    <tr>\n",
       "      <th>1</th>\n",
       "      <td>2</td>\n",
       "      <td>0.654632</td>\n",
       "    </tr>\n",
       "    <tr>\n",
       "      <th>2</th>\n",
       "      <td>3</td>\n",
       "      <td>0.806848</td>\n",
       "    </tr>\n",
       "  </tbody>\n",
       "</table>\n",
       "</div>"
      ],
      "text/plain": [
       "   rep  Blank_Conc\n",
       "0    1    0.426069\n",
       "1    2    0.654632\n",
       "2    3    0.806848"
      ]
     },
     "execution_count": 3,
     "metadata": {},
     "output_type": "execute_result"
    }
   ],
   "source": [
    "blank_random = [random.random() for i in range(1,61)]\n",
    "rep = [i for i in range(1,61)]\n",
    "df2 = pd.DataFrame({'rep': rep, 'Blank_Conc' : blank_random})\n",
    "df2.head(3)"
   ]
  },
  {
   "cell_type": "code",
   "execution_count": 4,
   "id": "e2c87763",
   "metadata": {},
   "outputs": [],
   "source": [
    "# df2=df1.rename(columns={'Unnamed: 1' : 'rep'}).drop(columns=['Unnamed: 0']).set_index('rep')"
   ]
  },
  {
   "cell_type": "code",
   "execution_count": 5,
   "id": "cceed42b",
   "metadata": {
    "collapsed": true
   },
   "outputs": [
    {
     "data": {
      "text/plain": [
       "<AxesSubplot:xlabel='Blank_Conc', ylabel='Count'>"
      ]
     },
     "execution_count": 5,
     "metadata": {},
     "output_type": "execute_result"
    },
    {
     "data": {
      "image/png": "[encoded data removed]",
      "text/plain": [
       "<Figure size 432x288 with 1 Axes>"
      ]
     },
     "metadata": {
      "needs_background": "light"
     },
     "output_type": "display_data"
    }
   ],
   "source": [
    "sns.histplot(data=df2, x='Blank_Conc', kde = True)"
   ]
  },
  {
   "cell_type": "code",
   "execution_count": 6,
   "id": "6a4787df",
   "metadata": {
    "collapsed": true
   },
   "outputs": [
    {
     "data": {
      "text/plain": [
       "0.0027708161474800713"
      ]
     },
     "execution_count": 6,
     "metadata": {},
     "output_type": "execute_result"
    }
   ],
   "source": [
    "# 정규성 검정, 귀무가설: 정규성이다. 대립가설: 정규성 아니다.\n",
    "p_val=stats.normaltest(df2['Blank_Conc'])[1]\n",
    "p_val"
   ]
  },
  {
   "cell_type": "code",
   "execution_count": 7,
   "id": "610224e1",
   "metadata": {
    "scrolled": true
   },
   "outputs": [],
   "source": [
    "# print(len(df2['rep']))\n",
    "# print(np.mean(df2['Blank']))\n",
    "# print(np.std(df2['Blank']))"
   ]
  },
  {
   "cell_type": "code",
   "execution_count": 8,
   "id": "fcce012b",
   "metadata": {
    "scrolled": true
   },
   "outputs": [],
   "source": [
    "df3 = df2.sort_values(by= 'Blank_Conc')"
   ]
  },
  {
   "cell_type": "markdown",
   "id": "49a37218",
   "metadata": {},
   "source": [
    "### LOB\n",
    " 1. two reagent lot\n",
    " 2. one instrument system\n",
    " 3. Tree days\n",
    " 4. Four blank sample -> LOB\n",
    " 5. Four low measurand sample (positive) -> LOD\n",
    " 6. Two replicates per sample\n",
    " 7. 60 total blank (low sample) replicates per reagent , "
   ]
  },
  {
   "cell_type": "markdown",
   "id": "152fae72",
   "metadata": {},
   "source": [
    "#### 실수에서 정수부분 소수 부분 분리하는 함수 marh.modf\n",
    "a = 1.2345\n",
    "math.modf(a)[0]"
   ]
  },
  {
   "cell_type": "code",
   "execution_count": 9,
   "id": "8ba66f86",
   "metadata": {},
   "outputs": [
    {
     "data": {
      "text/html": [
       "<div>\n",
       "<style scoped>\n",
       "    .dataframe tbody tr th:only-of-type {\n",
       "        vertical-align: middle;\n",
       "    }\n",
       "\n",
       "    .dataframe tbody tr th {\n",
       "        vertical-align: top;\n",
       "    }\n",
       "\n",
       "    .dataframe thead th {\n",
       "        text-align: right;\n",
       "    }\n",
       "</style>\n",
       "<table border=\"1\" class=\"dataframe\">\n",
       "  <thead>\n",
       "    <tr style=\"text-align: right;\">\n",
       "      <th></th>\n",
       "      <th>Blank_Conc</th>\n",
       "      <th>rank_position</th>\n",
       "    </tr>\n",
       "  </thead>\n",
       "  <tbody>\n",
       "    <tr>\n",
       "      <th>34</th>\n",
       "      <td>0.466659</td>\n",
       "      <td>30.0</td>\n",
       "    </tr>\n",
       "  </tbody>\n",
       "</table>\n",
       "</div>"
      ],
      "text/plain": [
       "    Blank_Conc  rank_position\n",
       "34    0.466659           30.0"
      ]
     },
     "execution_count": 9,
     "metadata": {},
     "output_type": "execute_result"
    }
   ],
   "source": [
    "df3['rank_position'] = df3['Blank_Conc'].rank(method='dense')\n",
    "df3\n",
    "df4=df3[['Blank_Conc', 'rank_position']].loc[(df3['rank_position'] == 30)]\n",
    "df4"
   ]
  },
  {
   "cell_type": "code",
   "execution_count": 10,
   "id": "e35529ee",
   "metadata": {},
   "outputs": [
    {
     "name": "stdout",
     "output_type": "stream",
     "text": [
      "0.6373343318619025\n"
     ]
    }
   ],
   "source": [
    "# LOB ,a=bate = type\n",
    "# K= Sample 종류 식을 생각해보지\n",
    "B = len(df2['rep'])  # Total result of blank samples\n",
    "M=df3['Blank_Conc'].mean()\n",
    "SD=df3['Blank_Conc'].var()\n",
    "if p_val > 0.05:\n",
    "    R_P =  (0.5+B*0.95)\n",
    "    if type(R_P) == float:\n",
    "        df3['rank_position'] = df3['Blank_Conc'].rank(method='dense')\n",
    "        f=math.modf(R_P)[0]\n",
    "        n=math.modf(R_P)[1]\n",
    "        LoB = df3['Blank_Conc'][n-1]+f*(df3['Blank_Conc'][n-1]-df3['Blank_Conc'][n-2])\n",
    "        print(LoB)\n",
    "else:\n",
    "    c = (1.645 / (1-(1/(4*(B-6)))))\n",
    "    LoB = M + c*SD\n",
    "    print(LoB)\n",
    "        \n",
    "#         df4=df3[['Blank', 'rank_position']].loc[(df3['rank_position'] == round(rank_LoB))]\n",
    "#         result = df4['rank_position'].tolist()[0]\n",
    "#         print(df4)"
   ]
  },
  {
   "cell_type": "code",
   "execution_count": 11,
   "id": "3659e8fa",
   "metadata": {},
   "outputs": [],
   "source": [
    "# LOD 5 day, 5 sample, 최소 sample lot day 합쳐서 40 반복\n",
    "\n",
    "# randam_LOD = [random.uniform(1,5) for i in range(1,201)]\n",
    "# rep_LOD = [i for i in range(1,201)]\n",
    "# df5 = pd.DataFrame({'rep':rep_LOD, 'Low_sample':randam_LOD})\n",
    "# df5.head(10)"
   ]
  },
  {
   "cell_type": "code",
   "execution_count": 21,
   "id": "4365fb1e",
   "metadata": {
    "collapsed": true
   },
   "outputs": [
    {
     "data": {
      "text/html": [
       "<div>\n",
       "<style scoped>\n",
       "    .dataframe tbody tr th:only-of-type {\n",
       "        vertical-align: middle;\n",
       "    }\n",
       "\n",
       "    .dataframe tbody tr th {\n",
       "        vertical-align: top;\n",
       "    }\n",
       "\n",
       "    .dataframe thead th {\n",
       "        text-align: right;\n",
       "    }\n",
       "</style>\n",
       "<table border=\"1\" class=\"dataframe\">\n",
       "  <thead>\n",
       "    <tr style=\"text-align: right;\">\n",
       "      <th></th>\n",
       "      <th>LOT1</th>\n",
       "      <th>LOT2</th>\n",
       "    </tr>\n",
       "  </thead>\n",
       "  <tbody>\n",
       "    <tr>\n",
       "      <th>0</th>\n",
       "      <td>0.103078</td>\n",
       "      <td>0.174547</td>\n",
       "    </tr>\n",
       "    <tr>\n",
       "      <th>1</th>\n",
       "      <td>0.230561</td>\n",
       "      <td>0.154137</td>\n",
       "    </tr>\n",
       "    <tr>\n",
       "      <th>2</th>\n",
       "      <td>0.328874</td>\n",
       "      <td>0.125000</td>\n",
       "    </tr>\n",
       "    <tr>\n",
       "      <th>3</th>\n",
       "      <td>0.388962</td>\n",
       "      <td>0.369809</td>\n",
       "    </tr>\n",
       "  </tbody>\n",
       "</table>\n",
       "</div>"
      ],
      "text/plain": [
       "       LOT1      LOT2\n",
       "0  0.103078  0.174547\n",
       "1  0.230561  0.154137\n",
       "2  0.328874  0.125000\n",
       "3  0.388962  0.369809"
      ]
     },
     "execution_count": 21,
     "metadata": {},
     "output_type": "execute_result"
    }
   ],
   "source": [
    "LOD_raw = pd.read_excel(\"F:\\LOD_Python.xlsx\")\n",
    "lot1 = (LOD_raw['Lot'] == 1)\n",
    "lot2 =(LOD_raw['Lot'] == 2)\n",
    "cond1 = (LOD_raw['Sample'] == 'L1')\n",
    "cond2 = (LOD_raw['Sample'] == 'L2')\n",
    "cond3 = (LOD_raw['Sample'] == 'L3')\n",
    "cond4 = (LOD_raw['Sample'] == 'L4')\n",
    "\n",
    "lot1_L1 = LOD_raw.loc[lot1&cond1]\n",
    "lot1_L2 = LOD_raw.loc[lot1&cond2]\n",
    "lot1_L3 = LOD_raw.loc[lot1&cond3]\n",
    "lot1_L4 = LOD_raw.loc[lot1&cond4]\n",
    "\n",
    "lot2_L1 = LOD_raw.loc[lot2&cond1]\n",
    "lot2_L2 = LOD_raw.loc[lot2&cond2]\n",
    "lot2_L3 = LOD_raw.loc[lot2&cond3]\n",
    "lot2_L4 = LOD_raw.loc[lot2&cond4]\n",
    "\n",
    "\n",
    "SD1_1=lot1_L1['LOW_Conc'].std()\n",
    "SD1_2=lot1_L2['LOW_Conc'].std()\n",
    "SD1_3=lot1_L3['LOW_Conc'].std()\n",
    "SD1_4=lot1_L4['LOW_Conc'].std()\n",
    "\n",
    "SD2_1=lot2_L1['LOW_Conc'].std()\n",
    "SD2_2=lot2_L2['LOW_Conc'].std()\n",
    "SD2_3=lot2_L3['LOW_Conc'].std()\n",
    "SD2_4=lot2_L4['LOW_Conc'].std()\n",
    "\n",
    "LOD_SD = pd.DataFrame({'LOT1':[SD1_1,SD1_2,SD1_3,SD1_4], 'LOT2' : [SD2_1,SD2_2,SD2_3,SD2_4]})\n",
    "# LOD_raw.loc(cond1)\n",
    "LOD_SD"
   ]
  },
  {
   "cell_type": "code",
   "execution_count": 13,
   "id": "68f4b954",
   "metadata": {
    "collapsed": true
   },
   "outputs": [
    {
     "data": {
      "text/plain": [
       "<AxesSubplot:xlabel='conc', ylabel='Count'>"
      ]
     },
     "execution_count": 13,
     "metadata": {},
     "output_type": "execute_result"
    },
    {
     "data": {
      "image/png": "[encoded data removed]",
      "text/plain": [
       "<Figure size 432x288 with 1 Axes>"
      ]
     },
     "metadata": {
      "needs_background": "light"
     },
     "output_type": "display_data"
    }
   ],
   "source": [
    "# 정규성 확인\n",
    "sns.histplot(data=LOD_raw, x='conc', kde=True)"
   ]
  },
  {
   "cell_type": "code",
   "execution_count": 14,
   "id": "cbb54450",
   "metadata": {},
   "outputs": [
    {
     "data": {
      "text/plain": [
       "0.11614314597049764"
      ]
     },
     "execution_count": 14,
     "metadata": {},
     "output_type": "execute_result"
    }
   ],
   "source": [
    "# 정규성 검정 : 귀무-정규성을 갖는다\n",
    "\n",
    "p_low_sample = stats.normaltest(LOD_raw['LOW_Conc'])\n",
    "p_low_sample[1]"
   ]
  },
  {
   "cell_type": "code",
   "execution_count": 92,
   "id": "a6c76e60",
   "metadata": {},
   "outputs": [],
   "source": [
    "# L : total number, J : Low sample numder\n",
    "L=len(LOD_raw.index)\n",
    "J=LOD_raw['Sample'].nunique()\n",
    "N=LOD_raw['Sample'].value_counts()[0]\n",
    "\n",
    "LOT1_SDL= math.sqrt(np.sum((N-1)*LOD_SD**2)[0]/(N-1)*J)\n",
    "LOT2_SDL= math.sqrt(np.sum((N-1)*LOD_SD**2)[1]/(N-1)*J)"
   ]
  },
  {
   "cell_type": "code",
   "execution_count": 105,
   "id": "ee05e929",
   "metadata": {},
   "outputs": [
    {
     "name": "stdout",
     "output_type": "stream",
     "text": [
      "LoD 값은 2.528 입니다.\n"
     ]
    }
   ],
   "source": [
    "LOD_raw\n",
    "LOD_SD\n",
    "c = (1.645/(1-(1/(4*(L-N)))))\n",
    "LoD1 = LoB + c*LOT1_SDL\n",
    "LoD2 = LoB + c*LOT2_SDL\n",
    "\n",
    "print('LoD 값은 %s 입니다.' %round(max([LoD1,LoD2]),3))"
   ]
  }
 ],
 "metadata": {
  "kernelspec": {
   "display_name": "Python 3",
   "language": "python",
   "name": "python3"
  },
  "language_info": {
   "codemirror_mode": {
    "name": "ipython",
    "version": 3
   },
   "file_extension": ".py",
   "mimetype": "text/x-python",
   "name": "python",
   "nbconvert_exporter": "python",
   "pygments_lexer": "ipython3",
   "version": "3.8.8"
  }
 },
 "nbformat": 4,
 "nbformat_minor": 5
}
