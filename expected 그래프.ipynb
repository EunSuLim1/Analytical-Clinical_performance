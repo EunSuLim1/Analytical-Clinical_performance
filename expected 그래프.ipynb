{
 "cells": [
  {
   "cell_type": "code",
   "execution_count": 25,
   "id": "085a32ac",
   "metadata": {},
   "outputs": [],
   "source": [
    "import pandas as pd\n",
    "import seaborn as sns\n",
    "import numpy as np\n",
    "import scipy.stats as stats\n",
    "import matplotlib.pyplot as plt"
   ]
  },
  {
   "cell_type": "code",
   "execution_count": 21,
   "id": "e001a63a",
   "metadata": {},
   "outputs": [
    {
     "data": {
      "text/plain": [
       "Rank number               int64\n",
       "PCL No.                  object\n",
       "Gender                   object\n",
       "Concentraion(pmol/L)    float64\n",
       "dtype: object"
      ]
     },
     "execution_count": 21,
     "metadata": {},
     "output_type": "execute_result"
    }
   ],
   "source": [
    "# 엑셀불러오기\n",
    "HE4_RAW = pd.read_excel(\"G:\\expected_HE4(2).xlsx\")\n",
    "HE4_RAW.head(10)\n",
    "HE4_RAW.columns = ['Rank number', 'PCL No.', 'Gender', 'Concentraion(pmol/L)']\n",
    "HE4_RAW['Concentraion(pmol/L)'].astype(int)\n",
    "HE4_RAW.dtypes"
   ]
  },
  {
   "cell_type": "code",
   "execution_count": 87,
   "id": "e0189651",
   "metadata": {},
   "outputs": [
    {
     "data": {
      "text/html": [
       "<div>\n",
       "<style scoped>\n",
       "    .dataframe tbody tr th:only-of-type {\n",
       "        vertical-align: middle;\n",
       "    }\n",
       "\n",
       "    .dataframe tbody tr th {\n",
       "        vertical-align: top;\n",
       "    }\n",
       "\n",
       "    .dataframe thead th {\n",
       "        text-align: right;\n",
       "    }\n",
       "</style>\n",
       "<table border=\"1\" class=\"dataframe\">\n",
       "  <thead>\n",
       "    <tr style=\"text-align: right;\">\n",
       "      <th></th>\n",
       "      <th>Rank number</th>\n",
       "      <th>PCL No.</th>\n",
       "      <th>Gender</th>\n",
       "      <th>Concentraion(pmol/L)</th>\n",
       "    </tr>\n",
       "  </thead>\n",
       "  <tbody>\n",
       "    <tr>\n",
       "      <th>0</th>\n",
       "      <td>1</td>\n",
       "      <td>N99</td>\n",
       "      <td>F</td>\n",
       "      <td>1.02</td>\n",
       "    </tr>\n",
       "    <tr>\n",
       "      <th>1</th>\n",
       "      <td>2</td>\n",
       "      <td>N79</td>\n",
       "      <td>F</td>\n",
       "      <td>1.02</td>\n",
       "    </tr>\n",
       "    <tr>\n",
       "      <th>2</th>\n",
       "      <td>3</td>\n",
       "      <td>N81</td>\n",
       "      <td>F</td>\n",
       "      <td>1.09</td>\n",
       "    </tr>\n",
       "    <tr>\n",
       "      <th>3</th>\n",
       "      <td>4</td>\n",
       "      <td>N119</td>\n",
       "      <td>F</td>\n",
       "      <td>1.20</td>\n",
       "    </tr>\n",
       "    <tr>\n",
       "      <th>4</th>\n",
       "      <td>5</td>\n",
       "      <td>N89</td>\n",
       "      <td>F</td>\n",
       "      <td>1.21</td>\n",
       "    </tr>\n",
       "    <tr>\n",
       "      <th>...</th>\n",
       "      <td>...</td>\n",
       "      <td>...</td>\n",
       "      <td>...</td>\n",
       "      <td>...</td>\n",
       "    </tr>\n",
       "    <tr>\n",
       "      <th>225</th>\n",
       "      <td>136</td>\n",
       "      <td>N125</td>\n",
       "      <td>F</td>\n",
       "      <td>81.03</td>\n",
       "    </tr>\n",
       "    <tr>\n",
       "      <th>226</th>\n",
       "      <td>137</td>\n",
       "      <td>N99</td>\n",
       "      <td>F</td>\n",
       "      <td>85.21</td>\n",
       "    </tr>\n",
       "    <tr>\n",
       "      <th>227</th>\n",
       "      <td>138</td>\n",
       "      <td>N113</td>\n",
       "      <td>F</td>\n",
       "      <td>106.92</td>\n",
       "    </tr>\n",
       "    <tr>\n",
       "      <th>228</th>\n",
       "      <td>139</td>\n",
       "      <td>N55</td>\n",
       "      <td>F</td>\n",
       "      <td>114.43</td>\n",
       "    </tr>\n",
       "    <tr>\n",
       "      <th>229</th>\n",
       "      <td>140</td>\n",
       "      <td>N119</td>\n",
       "      <td>F</td>\n",
       "      <td>115.58</td>\n",
       "    </tr>\n",
       "  </tbody>\n",
       "</table>\n",
       "<p>230 rows × 4 columns</p>\n",
       "</div>"
      ],
      "text/plain": [
       "     Rank number PCL No. Gender  Concentraion(pmol/L)\n",
       "0              1     N99      F                  1.02\n",
       "1              2     N79      F                  1.02\n",
       "2              3     N81      F                  1.09\n",
       "3              4    N119      F                  1.20\n",
       "4              5     N89      F                  1.21\n",
       "..           ...     ...    ...                   ...\n",
       "225          136    N125      F                 81.03\n",
       "226          137     N99      F                 85.21\n",
       "227          138    N113      F                106.92\n",
       "228          139     N55      F                114.43\n",
       "229          140    N119      F                115.58\n",
       "\n",
       "[230 rows x 4 columns]"
      ]
     },
     "execution_count": 87,
     "metadata": {},
     "output_type": "execute_result"
    }
   ],
   "source": [
    "HE4_RAW"
   ]
  },
  {
   "cell_type": "code",
   "execution_count": 86,
   "id": "6b726487",
   "metadata": {},
   "outputs": [
    {
     "data": {
      "text/plain": [
       "0        1.02\n",
       "1        1.02\n",
       "2        1.09\n",
       "3        1.20\n",
       "4        1.21\n",
       "        ...  \n",
       "225     81.03\n",
       "226     85.21\n",
       "227    106.92\n",
       "228    114.43\n",
       "229    115.58\n",
       "Name: Concentraion(pmol/L), Length: 230, dtype: float64"
      ]
     },
     "execution_count": 86,
     "metadata": {},
     "output_type": "execute_result"
    }
   ],
   "source": [
    "HE4_RAW['Concentraion(pmol/L)']"
   ]
  },
  {
   "cell_type": "code",
   "execution_count": 18,
   "id": "357cdedd",
   "metadata": {},
   "outputs": [],
   "source": [
    "HE4_Age = HE4_RAW.sort_values(by=['Age',\"Concentration(pmol/L)\"])[['Age','Concentration(pmol/L)']].reset_index(drop=True)"
   ]
  },
  {
   "cell_type": "code",
   "execution_count": 66,
   "id": "bd983692",
   "metadata": {},
   "outputs": [],
   "source": [
    "HE4_Age.drop(columns=['Age_group'], inplace=True)"
   ]
  },
  {
   "cell_type": "code",
   "execution_count": 71,
   "id": "fb7a5846",
   "metadata": {
    "scrolled": true
   },
   "outputs": [],
   "source": [
    "cond1 = HE4_Age['Age']>=50\n",
    "HE4_50 = HE4_Age.loc[cond1]"
   ]
  },
  {
   "cell_type": "code",
   "execution_count": 91,
   "id": "c2a0ad24",
   "metadata": {},
   "outputs": [
    {
     "data": {
      "text/plain": [
       "0      False\n",
       "1      False\n",
       "2      False\n",
       "3      False\n",
       "4      False\n",
       "       ...  \n",
       "149     True\n",
       "150     True\n",
       "151     True\n",
       "152     True\n",
       "153     True\n",
       "Name: Age, Length: 154, dtype: bool"
      ]
     },
     "execution_count": 91,
     "metadata": {},
     "output_type": "execute_result"
    }
   ],
   "source": [
    "cond1"
   ]
  },
  {
   "cell_type": "code",
   "execution_count": 79,
   "id": "82506fdc",
   "metadata": {},
   "outputs": [
    {
     "data": {
      "text/html": [
       "<div>\n",
       "<style scoped>\n",
       "    .dataframe tbody tr th:only-of-type {\n",
       "        vertical-align: middle;\n",
       "    }\n",
       "\n",
       "    .dataframe tbody tr th {\n",
       "        vertical-align: top;\n",
       "    }\n",
       "\n",
       "    .dataframe thead th {\n",
       "        text-align: right;\n",
       "    }\n",
       "</style>\n",
       "<table border=\"1\" class=\"dataframe\">\n",
       "  <thead>\n",
       "    <tr style=\"text-align: right;\">\n",
       "      <th></th>\n",
       "      <th>Age</th>\n",
       "      <th>Concentration(pmol/L)</th>\n",
       "    </tr>\n",
       "  </thead>\n",
       "  <tbody>\n",
       "    <tr>\n",
       "      <th>0</th>\n",
       "      <td>22</td>\n",
       "      <td>32.96</td>\n",
       "    </tr>\n",
       "    <tr>\n",
       "      <th>1</th>\n",
       "      <td>22</td>\n",
       "      <td>40.21</td>\n",
       "    </tr>\n",
       "    <tr>\n",
       "      <th>2</th>\n",
       "      <td>22</td>\n",
       "      <td>44.34</td>\n",
       "    </tr>\n",
       "    <tr>\n",
       "      <th>3</th>\n",
       "      <td>22</td>\n",
       "      <td>55.77</td>\n",
       "    </tr>\n",
       "    <tr>\n",
       "      <th>4</th>\n",
       "      <td>23</td>\n",
       "      <td>22.93</td>\n",
       "    </tr>\n",
       "    <tr>\n",
       "      <th>...</th>\n",
       "      <td>...</td>\n",
       "      <td>...</td>\n",
       "    </tr>\n",
       "    <tr>\n",
       "      <th>119</th>\n",
       "      <td>48</td>\n",
       "      <td>63.00</td>\n",
       "    </tr>\n",
       "    <tr>\n",
       "      <th>120</th>\n",
       "      <td>49</td>\n",
       "      <td>30.35</td>\n",
       "    </tr>\n",
       "    <tr>\n",
       "      <th>121</th>\n",
       "      <td>49</td>\n",
       "      <td>43.86</td>\n",
       "    </tr>\n",
       "    <tr>\n",
       "      <th>122</th>\n",
       "      <td>49</td>\n",
       "      <td>48.37</td>\n",
       "    </tr>\n",
       "    <tr>\n",
       "      <th>123</th>\n",
       "      <td>49</td>\n",
       "      <td>60.08</td>\n",
       "    </tr>\n",
       "  </tbody>\n",
       "</table>\n",
       "<p>124 rows × 2 columns</p>\n",
       "</div>"
      ],
      "text/plain": [
       "     Age  Concentration(pmol/L)\n",
       "0     22                  32.96\n",
       "1     22                  40.21\n",
       "2     22                  44.34\n",
       "3     22                  55.77\n",
       "4     23                  22.93\n",
       "..   ...                    ...\n",
       "119   48                  63.00\n",
       "120   49                  30.35\n",
       "121   49                  43.86\n",
       "122   49                  48.37\n",
       "123   49                  60.08\n",
       "\n",
       "[124 rows x 2 columns]"
      ]
     },
     "execution_count": 79,
     "metadata": {},
     "output_type": "execute_result"
    }
   ],
   "source": [
    "HE4_50_under = HE4_Age.loc[~cond1]\n",
    "HE4_50_under"
   ]
  },
  {
   "cell_type": "code",
   "execution_count": 22,
   "id": "ed4836da",
   "metadata": {},
   "outputs": [
    {
     "data": {
      "text/plain": [
       "NormaltestResult(statistic=22.977006310973135, pvalue=1.0247229767574301e-05)"
      ]
     },
     "execution_count": 22,
     "metadata": {},
     "output_type": "execute_result"
    }
   ],
   "source": [
    "# stats.normaltest(HE4_Age['Concentration(pmol/L)'])\n",
    "stats.normaltest(HE4_RAW['Concentraion(pmol/L)'])"
   ]
  },
  {
   "cell_type": "code",
   "execution_count": 105,
   "id": "c5769a3a",
   "metadata": {},
   "outputs": [
    {
     "data": {
      "text/plain": [
       "Text(0.5, 1.0, 'Total age group')"
      ]
     },
     "execution_count": 105,
     "metadata": {},
     "output_type": "execute_result"
    },
    {
     "data": {
      "image/png": "[encoded data removed]",
      "text/plain": [
       "<Figure size 432x288 with 1 Axes>"
      ]
     },
     "metadata": {
      "needs_background": "light"
     },
     "output_type": "display_data"
    }
   ],
   "source": [
    "ax= plt.subplot()\n",
    "ax=sns.histplot(data = HE4_Age, x = 'Concentration(pmol/L)', kde= True)\n",
    "ax.set_title('Total age group')"
   ]
  },
  {
   "cell_type": "code",
   "execution_count": 106,
   "id": "2b182b44",
   "metadata": {},
   "outputs": [
    {
     "data": {
      "text/plain": [
       "Text(0.5, 1.0, 'Age group: 50s and older')"
      ]
     },
     "execution_count": 106,
     "metadata": {},
     "output_type": "execute_result"
    },
    {
     "data": {
      "image/png": "[encoded data removed]",
      "text/plain": [
       "<Figure size 432x288 with 1 Axes>"
      ]
     },
     "metadata": {
      "needs_background": "light"
     },
     "output_type": "display_data"
    }
   ],
   "source": [
    "ax= plt.subplot()\n",
    "ax=sns.histplot(data = HE4_50, x = 'Concentration(pmol/L)', kde= True)\n",
    "ax.set_title('Age group: 50s and older')"
   ]
  },
  {
   "cell_type": "code",
   "execution_count": 131,
   "id": "74c25a48",
   "metadata": {},
   "outputs": [
    {
     "data": {
      "text/plain": [
       "Text(0.5, 1.0, 'Age group: under 50s')"
      ]
     },
     "execution_count": 131,
     "metadata": {},
     "output_type": "execute_result"
    },
    {
     "data": {
      "image/png": "[encoded data removed]",
      "text/plain": [
       "<Figure size 432x288 with 1 Axes>"
      ]
     },
     "metadata": {
      "needs_background": "light"
     },
     "output_type": "display_data"
    }
   ],
   "source": [
    "ax= plt.subplot()\n",
    "ax=sns.histplot(data = HE4_50_under, x = 'Concentration(pmol/L)', kde= True)\n",
    "ax.set_title('Age group: under 50s')"
   ]
  },
  {
   "cell_type": "code",
   "execution_count": 28,
   "id": "93df806a",
   "metadata": {},
   "outputs": [
    {
     "data": {
      "text/plain": [
       "Text(0.5, 1.0, 'Distribution of HE4 values')"
      ]
     },
     "execution_count": 28,
     "metadata": {},
     "output_type": "execute_result"
    },
    {
     "data": {
      "image/png": "[encoded data removed]",
      "text/plain": [
       "<Figure size 432x288 with 1 Axes>"
      ]
     },
     "metadata": {
      "needs_background": "light"
     },
     "output_type": "display_data"
    }
   ],
   "source": [
    "ax = plt.subplot()\n",
    "ax = sns.histplot(data = HE4_RAW, x = 'Concentraion(pmol/L)', kde =True)\n",
    "ax.set_title('Distribution of HE4 values')"
   ]
  },
  {
   "cell_type": "code",
   "execution_count": 54,
   "id": "f8c2936a",
   "metadata": {},
   "outputs": [
    {
     "data": {
      "text/plain": [
       "0        1.02\n",
       "1        1.02\n",
       "2        1.09\n",
       "3        1.20\n",
       "4        1.21\n",
       "        ...  \n",
       "225     81.03\n",
       "226     85.21\n",
       "227    106.92\n",
       "228    114.43\n",
       "229    115.58\n",
       "Name: Concentraion(pmol/L), Length: 230, dtype: float64"
      ]
     },
     "execution_count": 54,
     "metadata": {},
     "output_type": "execute_result"
    }
   ],
   "source": [
    "HE4_RAW['Concentraion(pmol/L)']"
   ]
  },
  {
   "cell_type": "code",
   "execution_count": 109,
   "id": "6f236582",
   "metadata": {},
   "outputs": [
    {
     "data": {
      "text/plain": [
       "Index(['Rank number', 'PCL No.', 'Gender', 'Concentration_x000D_\\n(U/mL)'], dtype='object')"
      ]
     },
     "execution_count": 109,
     "metadata": {},
     "output_type": "execute_result"
    }
   ],
   "source": [
    "CA125_RAW = pd.read_excel(\"G:/expected_CA125(3).xlsx\")\n",
    "CA125_RAW.columns"
   ]
  },
  {
   "cell_type": "code",
   "execution_count": 110,
   "id": "e5ecce35",
   "metadata": {
    "scrolled": true
   },
   "outputs": [],
   "source": [
    "CA125_RAW.columns = ['No', 'PCL No.', 'Gender', 'Concentration(U/mL)']"
   ]
  },
  {
   "cell_type": "code",
   "execution_count": 111,
   "id": "48cdd908",
   "metadata": {},
   "outputs": [
    {
     "data": {
      "text/plain": [
       "Index(['No', 'PCL No.', 'Gender', 'Concentration(U/mL)'], dtype='object')"
      ]
     },
     "execution_count": 111,
     "metadata": {},
     "output_type": "execute_result"
    }
   ],
   "source": [
    "CA125_RAW.columns"
   ]
  },
  {
   "cell_type": "code",
   "execution_count": 112,
   "id": "4c4ea68e",
   "metadata": {
    "scrolled": false
   },
   "outputs": [
    {
     "data": {
      "text/plain": [
       "0       1.03\n",
       "1       1.05\n",
       "2       1.08\n",
       "3       1.24\n",
       "4       1.29\n",
       "       ...  \n",
       "135    31.21\n",
       "136    32.18\n",
       "137    35.89\n",
       "138    47.63\n",
       "139    53.53\n",
       "Name: Concentration(U/mL), Length: 140, dtype: float64"
      ]
     },
     "execution_count": 112,
     "metadata": {},
     "output_type": "execute_result"
    }
   ],
   "source": [
    "CA125_RAW['Concentration(U/mL)']"
   ]
  },
  {
   "cell_type": "code",
   "execution_count": 119,
   "id": "20decf54",
   "metadata": {},
   "outputs": [
    {
     "data": {
      "text/html": [
       "<div>\n",
       "<style scoped>\n",
       "    .dataframe tbody tr th:only-of-type {\n",
       "        vertical-align: middle;\n",
       "    }\n",
       "\n",
       "    .dataframe tbody tr th {\n",
       "        vertical-align: top;\n",
       "    }\n",
       "\n",
       "    .dataframe thead th {\n",
       "        text-align: right;\n",
       "    }\n",
       "</style>\n",
       "<table border=\"1\" class=\"dataframe\">\n",
       "  <thead>\n",
       "    <tr style=\"text-align: right;\">\n",
       "      <th></th>\n",
       "      <th>No.</th>\n",
       "      <th>Sample</th>\n",
       "      <th>Type</th>\n",
       "      <th>Age</th>\n",
       "      <th>Relative Fluoresence signal</th>\n",
       "      <th>Concentration(U/mL)</th>\n",
       "    </tr>\n",
       "  </thead>\n",
       "  <tbody>\n",
       "    <tr>\n",
       "      <th>0</th>\n",
       "      <td>1</td>\n",
       "      <td>AZ-17-0013</td>\n",
       "      <td>Serum</td>\n",
       "      <td>50</td>\n",
       "      <td>1.02</td>\n",
       "      <td>0.00</td>\n",
       "    </tr>\n",
       "    <tr>\n",
       "      <th>1</th>\n",
       "      <td>2</td>\n",
       "      <td>AZ-17-0064</td>\n",
       "      <td>Serum</td>\n",
       "      <td>60</td>\n",
       "      <td>1.02</td>\n",
       "      <td>0.00</td>\n",
       "    </tr>\n",
       "    <tr>\n",
       "      <th>2</th>\n",
       "      <td>3</td>\n",
       "      <td>AZ-17-0110</td>\n",
       "      <td>Serum</td>\n",
       "      <td>25</td>\n",
       "      <td>1.32</td>\n",
       "      <td>0.00</td>\n",
       "    </tr>\n",
       "    <tr>\n",
       "      <th>3</th>\n",
       "      <td>4</td>\n",
       "      <td>AZ-17-0114</td>\n",
       "      <td>Serum</td>\n",
       "      <td>37</td>\n",
       "      <td>1.13</td>\n",
       "      <td>0.00</td>\n",
       "    </tr>\n",
       "    <tr>\n",
       "      <th>4</th>\n",
       "      <td>5</td>\n",
       "      <td>AZ-17-0116</td>\n",
       "      <td>Serum</td>\n",
       "      <td>37</td>\n",
       "      <td>1.09</td>\n",
       "      <td>0.00</td>\n",
       "    </tr>\n",
       "    <tr>\n",
       "      <th>...</th>\n",
       "      <td>...</td>\n",
       "      <td>...</td>\n",
       "      <td>...</td>\n",
       "      <td>...</td>\n",
       "      <td>...</td>\n",
       "      <td>...</td>\n",
       "    </tr>\n",
       "    <tr>\n",
       "      <th>149</th>\n",
       "      <td>150</td>\n",
       "      <td>5419350</td>\n",
       "      <td>Plasma</td>\n",
       "      <td>23</td>\n",
       "      <td>1.32</td>\n",
       "      <td>0.00</td>\n",
       "    </tr>\n",
       "    <tr>\n",
       "      <th>150</th>\n",
       "      <td>151</td>\n",
       "      <td>5404836</td>\n",
       "      <td>Plasma</td>\n",
       "      <td>30</td>\n",
       "      <td>2.37</td>\n",
       "      <td>12.29</td>\n",
       "    </tr>\n",
       "    <tr>\n",
       "      <th>151</th>\n",
       "      <td>152</td>\n",
       "      <td>5451573</td>\n",
       "      <td>Plasma</td>\n",
       "      <td>23</td>\n",
       "      <td>2.54</td>\n",
       "      <td>14.37</td>\n",
       "    </tr>\n",
       "    <tr>\n",
       "      <th>152</th>\n",
       "      <td>153</td>\n",
       "      <td>5141094</td>\n",
       "      <td>Plasma</td>\n",
       "      <td>29</td>\n",
       "      <td>3.21</td>\n",
       "      <td>23.07</td>\n",
       "    </tr>\n",
       "    <tr>\n",
       "      <th>153</th>\n",
       "      <td>154</td>\n",
       "      <td>5581651</td>\n",
       "      <td>Plasma</td>\n",
       "      <td>47</td>\n",
       "      <td>3.09</td>\n",
       "      <td>21.52</td>\n",
       "    </tr>\n",
       "  </tbody>\n",
       "</table>\n",
       "<p>154 rows × 6 columns</p>\n",
       "</div>"
      ],
      "text/plain": [
       "     No.      Sample    Type  Age  Relative Fluoresence signal  \\\n",
       "0      1  AZ-17-0013   Serum   50                         1.02   \n",
       "1      2  AZ-17-0064   Serum   60                         1.02   \n",
       "2      3  AZ-17-0110   Serum   25                         1.32   \n",
       "3      4  AZ-17-0114   Serum   37                         1.13   \n",
       "4      5  AZ-17-0116   Serum   37                         1.09   \n",
       "..   ...         ...     ...  ...                          ...   \n",
       "149  150     5419350  Plasma   23                         1.32   \n",
       "150  151     5404836  Plasma   30                         2.37   \n",
       "151  152     5451573  Plasma   23                         2.54   \n",
       "152  153     5141094  Plasma   29                         3.21   \n",
       "153  154     5581651  Plasma   47                         3.09   \n",
       "\n",
       "     Concentration(U/mL)  \n",
       "0                   0.00  \n",
       "1                   0.00  \n",
       "2                   0.00  \n",
       "3                   0.00  \n",
       "4                   0.00  \n",
       "..                   ...  \n",
       "149                 0.00  \n",
       "150                12.29  \n",
       "151                14.37  \n",
       "152                23.07  \n",
       "153                21.52  \n",
       "\n",
       "[154 rows x 6 columns]"
      ]
     },
     "execution_count": 119,
     "metadata": {},
     "output_type": "execute_result"
    }
   ],
   "source": [
    "# CA125_RAW.columns=['No.','Sample','Type','Age','Relative Fluoresence signal','Concentration(U/mL)']\n",
    "# CA125_RAW.reset_index(drop=True)"
   ]
  },
  {
   "cell_type": "code",
   "execution_count": 101,
   "id": "7ae68404",
   "metadata": {
    "scrolled": true
   },
   "outputs": [
    {
     "data": {
      "text/html": [
       "<div>\n",
       "<style scoped>\n",
       "    .dataframe tbody tr th:only-of-type {\n",
       "        vertical-align: middle;\n",
       "    }\n",
       "\n",
       "    .dataframe tbody tr th {\n",
       "        vertical-align: top;\n",
       "    }\n",
       "\n",
       "    .dataframe thead tr th {\n",
       "        text-align: left;\n",
       "    }\n",
       "</style>\n",
       "<table border=\"1\" class=\"dataframe\">\n",
       "  <thead>\n",
       "    <tr>\n",
       "      <th></th>\n",
       "      <th>Concentration(U/mL)</th>\n",
       "    </tr>\n",
       "  </thead>\n",
       "  <tbody>\n",
       "    <tr>\n",
       "      <th>0</th>\n",
       "      <td>1.03</td>\n",
       "    </tr>\n",
       "    <tr>\n",
       "      <th>1</th>\n",
       "      <td>1.05</td>\n",
       "    </tr>\n",
       "    <tr>\n",
       "      <th>2</th>\n",
       "      <td>1.08</td>\n",
       "    </tr>\n",
       "    <tr>\n",
       "      <th>3</th>\n",
       "      <td>1.24</td>\n",
       "    </tr>\n",
       "    <tr>\n",
       "      <th>4</th>\n",
       "      <td>1.29</td>\n",
       "    </tr>\n",
       "    <tr>\n",
       "      <th>...</th>\n",
       "      <td>...</td>\n",
       "    </tr>\n",
       "    <tr>\n",
       "      <th>135</th>\n",
       "      <td>31.21</td>\n",
       "    </tr>\n",
       "    <tr>\n",
       "      <th>136</th>\n",
       "      <td>32.18</td>\n",
       "    </tr>\n",
       "    <tr>\n",
       "      <th>137</th>\n",
       "      <td>35.89</td>\n",
       "    </tr>\n",
       "    <tr>\n",
       "      <th>138</th>\n",
       "      <td>47.63</td>\n",
       "    </tr>\n",
       "    <tr>\n",
       "      <th>139</th>\n",
       "      <td>53.53</td>\n",
       "    </tr>\n",
       "  </tbody>\n",
       "</table>\n",
       "<p>140 rows × 1 columns</p>\n",
       "</div>"
      ],
      "text/plain": [
       "    Concentration(U/mL)\n",
       "0                  1.03\n",
       "1                  1.05\n",
       "2                  1.08\n",
       "3                  1.24\n",
       "4                  1.29\n",
       "..                  ...\n",
       "135               31.21\n",
       "136               32.18\n",
       "137               35.89\n",
       "138               47.63\n",
       "139               53.53\n",
       "\n",
       "[140 rows x 1 columns]"
      ]
     },
     "execution_count": 101,
     "metadata": {},
     "output_type": "execute_result"
    }
   ],
   "source": [
    "CA125 = CA125_RAW['Concentration(U/mL)']\n",
    "CA125X"
   ]
  },
  {
   "cell_type": "code",
   "execution_count": 117,
   "id": "85d47901",
   "metadata": {},
   "outputs": [
    {
     "data": {
      "text/plain": [
       "NormaltestResult(statistic=44.12986805920842, pvalue=2.614092236968129e-10)"
      ]
     },
     "execution_count": 117,
     "metadata": {},
     "output_type": "execute_result"
    }
   ],
   "source": [
    "stats.normaltest(CA125_RAW['Concentration(U/mL)'])\n"
   ]
  },
  {
   "cell_type": "code",
   "execution_count": 115,
   "id": "076561a9",
   "metadata": {
    "scrolled": true
   },
   "outputs": [
    {
     "data": {
      "text/plain": [
       "Text(0.5, 1.0, 'Distribution of CA125 values')"
      ]
     },
     "execution_count": 115,
     "metadata": {},
     "output_type": "execute_result"
    },
    {
     "data": {
      "image/png": "[encoded data removed]",
      "text/plain": [
       "<Figure size 432x288 with 1 Axes>"
      ]
     },
     "metadata": {
      "needs_background": "light"
     },
     "output_type": "display_data"
    }
   ],
   "source": [
    "ax2 = plt.subplot()\n",
    "ax2 = sns.histplot(data = CA125_RAW, x='Concentration(U/mL)', kde=True)\n",
    "ax2.set_title('Distribution of CA125 values')"
   ]
  },
  {
   "cell_type": "code",
   "execution_count": 121,
   "id": "aac70c39",
   "metadata": {
    "collapsed": true
   },
   "outputs": [
    {
     "data": {
      "text/plain": [
       "0       True\n",
       "1       True\n",
       "2      False\n",
       "3      False\n",
       "4      False\n",
       "       ...  \n",
       "149    False\n",
       "150    False\n",
       "151    False\n",
       "152    False\n",
       "153    False\n",
       "Name: Age, Length: 154, dtype: bool"
      ]
     },
     "execution_count": 121,
     "metadata": {},
     "output_type": "execute_result"
    }
   ],
   "source": [
    "cond2 = CA125_RAW['Age']>=50\n",
    "cond2"
   ]
  },
  {
   "cell_type": "code",
   "execution_count": 122,
   "id": "99141bd2",
   "metadata": {},
   "outputs": [],
   "source": [
    "CA125_50 = CA125_RAW.loc[cond2]\n",
    "CA125_50_under = CA125_RAW.loc[~cond2]"
   ]
  },
  {
   "cell_type": "code",
   "execution_count": 132,
   "id": "3624cf9b",
   "metadata": {
    "scrolled": true
   },
   "outputs": [
    {
     "data": {
      "text/plain": [
       "NormaltestResult(statistic=29.939344599202144, pvalue=3.1532174724140394e-07)"
      ]
     },
     "execution_count": 132,
     "metadata": {},
     "output_type": "execute_result"
    },
    {
     "data": {
      "image/png": "[encoded data removed]",
      "text/plain": [
       "<Figure size 432x288 with 1 Axes>"
      ]
     },
     "metadata": {
      "needs_background": "light"
     },
     "output_type": "display_data"
    }
   ],
   "source": [
    "ax2 = plt.subplot()\n",
    "ax2 = sns.histplot(data = CA125_RAW, x = \"Concentration(U/mL)\", kde=True)\n",
    "ax2.set_title('Total age group')\n",
    "stats.normaltest(CA125_RAW['Concentration(U/mL)'])"
   ]
  },
  {
   "cell_type": "code",
   "execution_count": 129,
   "id": "b68277e5",
   "metadata": {},
   "outputs": [
    {
     "data": {
      "text/plain": [
       "Text(0.5, 1.0, 'Age group: 50s and older')"
      ]
     },
     "execution_count": 129,
     "metadata": {},
     "output_type": "execute_result"
    },
    {
     "data": {
      "image/png": "[encoded data removed]",
      "text/plain": [
       "<Figure size 432x288 with 1 Axes>"
      ]
     },
     "metadata": {
      "needs_background": "light"
     },
     "output_type": "display_data"
    }
   ],
   "source": [
    "ax2 = plt.subplot()\n",
    "ax2 = sns.histplot(data = CA125_50, x = \"Concentration(U/mL)\", kde =True)\n",
    "ax2.set_title('Age group: 50s and older')"
   ]
  },
  {
   "cell_type": "code",
   "execution_count": 130,
   "id": "cf67ce15",
   "metadata": {
    "scrolled": true
   },
   "outputs": [
    {
     "data": {
      "text/plain": [
       "Text(0.5, 1.0, 'Age group: under 50s')"
      ]
     },
     "execution_count": 130,
     "metadata": {},
     "output_type": "execute_result"
    },
    {
     "data": {
      "image/png": "[encoded data removed]",
      "text/plain": [
       "<Figure size 432x288 with 1 Axes>"
      ]
     },
     "metadata": {
      "needs_background": "light"
     },
     "output_type": "display_data"
    }
   ],
   "source": [
    "ax2 = plt.subplot()\n",
    "ax2 = sns.histplot(data = CA125_50_under, x = \"Concentration(U/mL)\", kde =True)\n",
    "ax2.set_title('Age group: under 50s')"
   ]
  }
 ],
 "metadata": {
  "kernelspec": {
   "display_name": "Python 3",
   "language": "python",
   "name": "python3"
  },
  "language_info": {
   "codemirror_mode": {
    "name": "ipython",
    "version": 3
   },
   "file_extension": ".py",
   "mimetype": "text/x-python",
   "name": "python",
   "nbconvert_exporter": "python",
   "pygments_lexer": "ipython3",
   "version": "3.8.8"
  }
 },
 "nbformat": 4,
 "nbformat_minor": 5
}
