{
 "cells": [
  {
   "cell_type": "markdown",
   "metadata": {
    "id": "lgCvq37S8Lnv"
   },
   "source": [
    "# Diabetes 데이터와 Linear Regression\n",
    "\n",
    "당뇨병 진행도와 관련된 데이터를 이용해 당뇨병 진행을 예측하는 Linear Regression을 학습해 보겠습니다."
   ]
  },
  {
   "cell_type": "code",
   "execution_count": 1,
   "metadata": {
    "executionInfo": {
     "elapsed": 255,
     "status": "ok",
     "timestamp": 1632204744662,
     "user": {
      "displayName": "Jongseob Jeon",
      "photoUrl": "https://lh3.googleusercontent.com/a/default-user=s64",
      "userId": "03523663544813654809"
     },
     "user_tz": -540
    },
    "id": "vOrznHBik5-i"
   },
   "outputs": [],
   "source": [
    "import pandas as pd\n",
    "import numpy as np\n",
    "import matplotlib.pyplot as plt\n",
    "\n",
    "\n",
    "np.random.seed(2021)"
   ]
  },
  {
   "cell_type": "markdown",
   "metadata": {
    "id": "P5qBr8Ff8Lnx"
   },
   "source": [
    "## 1. Data"
   ]
  },
  {
   "cell_type": "markdown",
   "metadata": {
    "id": "qDrpxJRl8Lny"
   },
   "source": [
    "### 1.1 Data Load\n",
    "데이터는 `sklearn.datasets` 의 `load_diabetes` 함수를 이용해 받을 수 있습니다."
   ]
  },
  {
   "cell_type": "code",
   "execution_count": 2,
   "metadata": {
    "executionInfo": {
     "elapsed": 630,
     "status": "ok",
     "timestamp": 1632204753640,
     "user": {
      "displayName": "Jongseob Jeon",
      "photoUrl": "https://lh3.googleusercontent.com/a/default-user=s64",
      "userId": "03523663544813654809"
     },
     "user_tz": -540
    },
    "id": "GBTY0big8Lnz"
   },
   "outputs": [],
   "source": [
    "from sklearn.datasets import load_diabetes\n",
    "\n",
    "diabetes = load_diabetes()"
   ]
  },
  {
   "cell_type": "markdown",
   "metadata": {
    "id": "_3Cu4LxZ8Ln0"
   },
   "source": [
    "당뇨병 데이터에서 사용되는 변수명은 `feature_names` 키 값으로 들어 있습니다.  \n",
    "변수명과 변수에 대한 설명은 다음과 같습니다.\n",
    "- `age`: 나이\n",
    "- `sex`: 성별\n",
    "- `bmi`: Body mass index\n",
    "- `bp`: Average blood pressure\n",
    "- 혈청에 대한 6가지 지표들\n",
    "    - `S1`, `S2`, `S3`, `S4`, `S5`, `S6`\n",
    "    "
   ]
  },
  {
   "cell_type": "code",
   "execution_count": 3,
   "metadata": {
    "colab": {
     "base_uri": "https://localhost:8080/"
    },
    "executionInfo": {
     "elapsed": 277,
     "status": "ok",
     "timestamp": 1632204759622,
     "user": {
      "displayName": "Jongseob Jeon",
      "photoUrl": "https://lh3.googleusercontent.com/a/default-user=s64",
      "userId": "03523663544813654809"
     },
     "user_tz": -540
    },
    "id": "fFHcr7bo8Ln0",
    "outputId": "de5d4433-a244-48df-9200-f2764f18b5ce"
   },
   "outputs": [
    {
     "data": {
      "text/plain": [
       "['age', 'sex', 'bmi', 'bp', 's1', 's2', 's3', 's4', 's5', 's6']"
      ]
     },
     "execution_count": 3,
     "metadata": {},
     "output_type": "execute_result"
    }
   ],
   "source": [
    "diabetes[\"feature_names\"]"
   ]
  },
  {
   "cell_type": "markdown",
   "metadata": {
    "id": "3tW7MVN48Ln2"
   },
   "source": [
    "데이터와 정답을 확인해 보겠습니다."
   ]
  },
  {
   "cell_type": "code",
   "execution_count": 4,
   "metadata": {
    "executionInfo": {
     "elapsed": 259,
     "status": "ok",
     "timestamp": 1632204779124,
     "user": {
      "displayName": "Jongseob Jeon",
      "photoUrl": "https://lh3.googleusercontent.com/a/default-user=s64",
      "userId": "03523663544813654809"
     },
     "user_tz": -540
    },
    "id": "Z-cqENTG8Ln3"
   },
   "outputs": [],
   "source": [
    "data, target = diabetes[\"data\"], diabetes[\"target\"]"
   ]
  },
  {
   "cell_type": "code",
   "execution_count": 5,
   "metadata": {
    "colab": {
     "base_uri": "https://localhost:8080/"
    },
    "executionInfo": {
     "elapsed": 290,
     "status": "ok",
     "timestamp": 1632204781719,
     "user": {
      "displayName": "Jongseob Jeon",
      "photoUrl": "https://lh3.googleusercontent.com/a/default-user=s64",
      "userId": "03523663544813654809"
     },
     "user_tz": -540
    },
    "id": "JXb6re3h8Ln4",
    "outputId": "4c0cb4be-6a09-48c9-bbb9-64b2d9a44381"
   },
   "outputs": [
    {
     "data": {
      "text/plain": [
       "array([ 0.03807591,  0.05068012,  0.06169621,  0.02187235, -0.0442235 ,\n",
       "       -0.03482076, -0.04340085, -0.00259226,  0.01990842, -0.01764613])"
      ]
     },
     "execution_count": 5,
     "metadata": {},
     "output_type": "execute_result"
    }
   ],
   "source": [
    "data[0]"
   ]
  },
  {
   "cell_type": "code",
   "execution_count": 6,
   "metadata": {
    "colab": {
     "base_uri": "https://localhost:8080/"
    },
    "executionInfo": {
     "elapsed": 254,
     "status": "ok",
     "timestamp": 1632204785985,
     "user": {
      "displayName": "Jongseob Jeon",
      "photoUrl": "https://lh3.googleusercontent.com/a/default-user=s64",
      "userId": "03523663544813654809"
     },
     "user_tz": -540
    },
    "id": "14p32kFN8Ln4",
    "outputId": "0d7635e5-5acd-4df6-9bcb-6d1a889afde7"
   },
   "outputs": [
    {
     "data": {
      "text/plain": [
       "151.0"
      ]
     },
     "execution_count": 6,
     "metadata": {},
     "output_type": "execute_result"
    }
   ],
   "source": [
    "target[0]"
   ]
  },
  {
   "cell_type": "markdown",
   "metadata": {
    "id": "kH2unwFN8Ln5"
   },
   "source": [
    "### 1.2 Data EDA"
   ]
  },
  {
   "cell_type": "code",
   "execution_count": 7,
   "metadata": {
    "executionInfo": {
     "elapsed": 251,
     "status": "ok",
     "timestamp": 1632204792319,
     "user": {
      "displayName": "Jongseob Jeon",
      "photoUrl": "https://lh3.googleusercontent.com/a/default-user=s64",
      "userId": "03523663544813654809"
     },
     "user_tz": -540
    },
    "id": "iAJpGEdV8Ln5"
   },
   "outputs": [],
   "source": [
    "df = pd.DataFrame(data, columns=diabetes[\"feature_names\"])"
   ]
  },
  {
   "cell_type": "code",
   "execution_count": 8,
   "metadata": {
    "colab": {
     "base_uri": "https://localhost:8080/",
     "height": 297
    },
    "executionInfo": {
     "elapsed": 12,
     "status": "ok",
     "timestamp": 1632204792723,
     "user": {
      "displayName": "Jongseob Jeon",
      "photoUrl": "https://lh3.googleusercontent.com/a/default-user=s64",
      "userId": "03523663544813654809"
     },
     "user_tz": -540
    },
    "id": "CXQd6P4Q8Ln5",
    "outputId": "fe4a34a6-9ed6-47ec-c4e7-b21fc73a89fe",
    "tags": []
   },
   "outputs": [
    {
     "data": {
      "text/html": [
       "<div>\n",
       "<style scoped>\n",
       "    .dataframe tbody tr th:only-of-type {\n",
       "        vertical-align: middle;\n",
       "    }\n",
       "\n",
       "    .dataframe tbody tr th {\n",
       "        vertical-align: top;\n",
       "    }\n",
       "\n",
       "    .dataframe thead th {\n",
       "        text-align: right;\n",
       "    }\n",
       "</style>\n",
       "<table border=\"1\" class=\"dataframe\">\n",
       "  <thead>\n",
       "    <tr style=\"text-align: right;\">\n",
       "      <th></th>\n",
       "      <th>age</th>\n",
       "      <th>sex</th>\n",
       "      <th>bmi</th>\n",
       "      <th>bp</th>\n",
       "      <th>s1</th>\n",
       "      <th>s2</th>\n",
       "      <th>s3</th>\n",
       "      <th>s4</th>\n",
       "      <th>s5</th>\n",
       "      <th>s6</th>\n",
       "    </tr>\n",
       "  </thead>\n",
       "  <tbody>\n",
       "    <tr>\n",
       "      <th>count</th>\n",
       "      <td>4.420000e+02</td>\n",
       "      <td>4.420000e+02</td>\n",
       "      <td>4.420000e+02</td>\n",
       "      <td>4.420000e+02</td>\n",
       "      <td>4.420000e+02</td>\n",
       "      <td>4.420000e+02</td>\n",
       "      <td>4.420000e+02</td>\n",
       "      <td>4.420000e+02</td>\n",
       "      <td>4.420000e+02</td>\n",
       "      <td>4.420000e+02</td>\n",
       "    </tr>\n",
       "    <tr>\n",
       "      <th>mean</th>\n",
       "      <td>-3.634285e-16</td>\n",
       "      <td>1.308343e-16</td>\n",
       "      <td>-8.045349e-16</td>\n",
       "      <td>1.281655e-16</td>\n",
       "      <td>-8.835316e-17</td>\n",
       "      <td>1.327024e-16</td>\n",
       "      <td>-4.574646e-16</td>\n",
       "      <td>3.777301e-16</td>\n",
       "      <td>-3.830854e-16</td>\n",
       "      <td>-3.412882e-16</td>\n",
       "    </tr>\n",
       "    <tr>\n",
       "      <th>std</th>\n",
       "      <td>4.761905e-02</td>\n",
       "      <td>4.761905e-02</td>\n",
       "      <td>4.761905e-02</td>\n",
       "      <td>4.761905e-02</td>\n",
       "      <td>4.761905e-02</td>\n",
       "      <td>4.761905e-02</td>\n",
       "      <td>4.761905e-02</td>\n",
       "      <td>4.761905e-02</td>\n",
       "      <td>4.761905e-02</td>\n",
       "      <td>4.761905e-02</td>\n",
       "    </tr>\n",
       "    <tr>\n",
       "      <th>min</th>\n",
       "      <td>-1.072256e-01</td>\n",
       "      <td>-4.464164e-02</td>\n",
       "      <td>-9.027530e-02</td>\n",
       "      <td>-1.123996e-01</td>\n",
       "      <td>-1.267807e-01</td>\n",
       "      <td>-1.156131e-01</td>\n",
       "      <td>-1.023071e-01</td>\n",
       "      <td>-7.639450e-02</td>\n",
       "      <td>-1.260974e-01</td>\n",
       "      <td>-1.377672e-01</td>\n",
       "    </tr>\n",
       "    <tr>\n",
       "      <th>25%</th>\n",
       "      <td>-3.729927e-02</td>\n",
       "      <td>-4.464164e-02</td>\n",
       "      <td>-3.422907e-02</td>\n",
       "      <td>-3.665645e-02</td>\n",
       "      <td>-3.424784e-02</td>\n",
       "      <td>-3.035840e-02</td>\n",
       "      <td>-3.511716e-02</td>\n",
       "      <td>-3.949338e-02</td>\n",
       "      <td>-3.324879e-02</td>\n",
       "      <td>-3.317903e-02</td>\n",
       "    </tr>\n",
       "    <tr>\n",
       "      <th>50%</th>\n",
       "      <td>5.383060e-03</td>\n",
       "      <td>-4.464164e-02</td>\n",
       "      <td>-7.283766e-03</td>\n",
       "      <td>-5.670611e-03</td>\n",
       "      <td>-4.320866e-03</td>\n",
       "      <td>-3.819065e-03</td>\n",
       "      <td>-6.584468e-03</td>\n",
       "      <td>-2.592262e-03</td>\n",
       "      <td>-1.947634e-03</td>\n",
       "      <td>-1.077698e-03</td>\n",
       "    </tr>\n",
       "    <tr>\n",
       "      <th>75%</th>\n",
       "      <td>3.807591e-02</td>\n",
       "      <td>5.068012e-02</td>\n",
       "      <td>3.124802e-02</td>\n",
       "      <td>3.564384e-02</td>\n",
       "      <td>2.835801e-02</td>\n",
       "      <td>2.984439e-02</td>\n",
       "      <td>2.931150e-02</td>\n",
       "      <td>3.430886e-02</td>\n",
       "      <td>3.243323e-02</td>\n",
       "      <td>2.791705e-02</td>\n",
       "    </tr>\n",
       "    <tr>\n",
       "      <th>max</th>\n",
       "      <td>1.107267e-01</td>\n",
       "      <td>5.068012e-02</td>\n",
       "      <td>1.705552e-01</td>\n",
       "      <td>1.320442e-01</td>\n",
       "      <td>1.539137e-01</td>\n",
       "      <td>1.987880e-01</td>\n",
       "      <td>1.811791e-01</td>\n",
       "      <td>1.852344e-01</td>\n",
       "      <td>1.335990e-01</td>\n",
       "      <td>1.356118e-01</td>\n",
       "    </tr>\n",
       "  </tbody>\n",
       "</table>\n",
       "</div>"
      ],
      "text/plain": [
       "                age           sex  ...            s5            s6\n",
       "count  4.420000e+02  4.420000e+02  ...  4.420000e+02  4.420000e+02\n",
       "mean  -3.634285e-16  1.308343e-16  ... -3.830854e-16 -3.412882e-16\n",
       "std    4.761905e-02  4.761905e-02  ...  4.761905e-02  4.761905e-02\n",
       "min   -1.072256e-01 -4.464164e-02  ... -1.260974e-01 -1.377672e-01\n",
       "25%   -3.729927e-02 -4.464164e-02  ... -3.324879e-02 -3.317903e-02\n",
       "50%    5.383060e-03 -4.464164e-02  ... -1.947634e-03 -1.077698e-03\n",
       "75%    3.807591e-02  5.068012e-02  ...  3.243323e-02  2.791705e-02\n",
       "max    1.107267e-01  5.068012e-02  ...  1.335990e-01  1.356118e-01\n",
       "\n",
       "[8 rows x 10 columns]"
      ]
     },
     "execution_count": 8,
     "metadata": {},
     "output_type": "execute_result"
    }
   ],
   "source": [
    "df.describe()"
   ]
  },
  {
   "cell_type": "markdown",
   "metadata": {
    "id": "fnduC7eG8Ln6"
   },
   "source": [
    "### 1.3 Data Split "
   ]
  },
  {
   "cell_type": "markdown",
   "metadata": {
    "id": "b9rxmXWu8Ln6"
   },
   "source": [
    "`sklearn.model_selection`의 `train_test_split`함수를 이용해 데이터를 나누겠습니다.\n",
    "\n",
    "\n",
    "```python\n",
    " train_test_split(\n",
    "    *arrays,\n",
    "    test_size=None,\n",
    "    train_size=None,\n",
    "    random_state=None,\n",
    "    shuffle=True,\n",
    "    stratify=None,\n",
    ")\n",
    "```\n",
    "- `*arrays`: 입력은 array로 이루어진 데이터을 받습니다.\n",
    "- `test_size`: test로 분할될 사이즈를 정합니다.\n",
    "- `train_size`: train으로 분할될 사이즈를 정합니다.\n",
    "- `random_state`: 다음에도 같은 값을 얻기 위해서 난수를 고정합니다\n",
    "- `shuffle`: 데이터를 섞을지 말지 결정합니다.\n",
    "- `stratify`: 데이터를 나눌 때 정답의 분포를 반영합니다."
   ]
  },
  {
   "cell_type": "code",
   "execution_count": 9,
   "metadata": {
    "executionInfo": {
     "elapsed": 247,
     "status": "ok",
     "timestamp": 1632204886343,
     "user": {
      "displayName": "Jongseob Jeon",
      "photoUrl": "https://lh3.googleusercontent.com/a/default-user=s64",
      "userId": "03523663544813654809"
     },
     "user_tz": -540
    },
    "id": "KhVO5-LQ8Ln7"
   },
   "outputs": [],
   "source": [
    "from sklearn.model_selection import train_test_split\n",
    "\n",
    "train_data, test_data, train_target, test_target = train_test_split(data, target, test_size=0.3)"
   ]
  },
  {
   "cell_type": "markdown",
   "metadata": {
    "id": "yC10rKnj8Ln7"
   },
   "source": [
    "train과 test를 7:3의 비율로 나누었습니다.  \n",
    "실제로 잘 나누어졌는지 확인해보겠습니다."
   ]
  },
  {
   "cell_type": "code",
   "execution_count": 10,
   "metadata": {
    "colab": {
     "base_uri": "https://localhost:8080/"
    },
    "executionInfo": {
     "elapsed": 253,
     "status": "ok",
     "timestamp": 1632204890674,
     "user": {
      "displayName": "Jongseob Jeon",
      "photoUrl": "https://lh3.googleusercontent.com/a/default-user=s64",
      "userId": "03523663544813654809"
     },
     "user_tz": -540
    },
    "id": "42Y5h3Jb8Ln8",
    "outputId": "2c7a94d8-267e-4b48-fed8-c9f14ec8e7f2"
   },
   "outputs": [
    {
     "data": {
      "text/plain": [
       "(442, 309, 133)"
      ]
     },
     "execution_count": 10,
     "metadata": {},
     "output_type": "execute_result"
    }
   ],
   "source": [
    "len(data), len(train_data), len(test_data)"
   ]
  },
  {
   "cell_type": "code",
   "execution_count": 11,
   "metadata": {
    "colab": {
     "base_uri": "https://localhost:8080/"
    },
    "executionInfo": {
     "elapsed": 268,
     "status": "ok",
     "timestamp": 1632204897434,
     "user": {
      "displayName": "Jongseob Jeon",
      "photoUrl": "https://lh3.googleusercontent.com/a/default-user=s64",
      "userId": "03523663544813654809"
     },
     "user_tz": -540
    },
    "id": "5LydL7Ft8Ln8",
    "outputId": "2fd1417f-f14b-44f2-a51a-c0bf0eec781f"
   },
   "outputs": [
    {
     "name": "stdout",
     "output_type": "stream",
     "text": [
      "train ratio : 0.70\n",
      "test ratio : 0.30\n"
     ]
    }
   ],
   "source": [
    "print(\"train ratio : {:.2f}\".format(len(train_data)/len(data)))\n",
    "print(\"test ratio : {:.2f}\".format(len(test_data)/len(data)))"
   ]
  },
  {
   "cell_type": "markdown",
   "metadata": {
    "id": "eXTOA5Mz8Ln9"
   },
   "source": [
    "## 2. Multivariate Regression"
   ]
  },
  {
   "cell_type": "markdown",
   "metadata": {
    "id": "GOA7Y7eN8Ln9"
   },
   "source": [
    "### 2.1 학습"
   ]
  },
  {
   "cell_type": "code",
   "execution_count": 12,
   "metadata": {
    "colab": {
     "base_uri": "https://localhost:8080/"
    },
    "executionInfo": {
     "elapsed": 276,
     "status": "ok",
     "timestamp": 1632204908967,
     "user": {
      "displayName": "Jongseob Jeon",
      "photoUrl": "https://lh3.googleusercontent.com/a/default-user=s64",
      "userId": "03523663544813654809"
     },
     "user_tz": -540
    },
    "id": "LDFIkOrW8Ln9",
    "outputId": "a5bc37b5-8398-447c-f4f8-c14e466af9e1"
   },
   "outputs": [
    {
     "data": {
      "text/plain": [
       "LinearRegression(copy_X=True, fit_intercept=True, n_jobs=None, normalize=False)"
      ]
     },
     "execution_count": 12,
     "metadata": {},
     "output_type": "execute_result"
    }
   ],
   "source": [
    "from sklearn.linear_model import LinearRegression\n",
    "\n",
    "\n",
    "multi_regressor = LinearRegression()\n",
    "multi_regressor.fit(train_data, train_target)"
   ]
  },
  {
   "cell_type": "markdown",
   "metadata": {
    "id": "obutUTGk8Ln9"
   },
   "source": [
    "### 2.2 회귀식 확인"
   ]
  },
  {
   "cell_type": "code",
   "execution_count": 13,
   "metadata": {
    "colab": {
     "base_uri": "https://localhost:8080/"
    },
    "executionInfo": {
     "elapsed": 245,
     "status": "ok",
     "timestamp": 1632204912192,
     "user": {
      "displayName": "Jongseob Jeon",
      "photoUrl": "https://lh3.googleusercontent.com/a/default-user=s64",
      "userId": "03523663544813654809"
     },
     "user_tz": -540
    },
    "id": "yJFAYUlf8Ln-",
    "outputId": "2cb2337e-30bb-49eb-d8aa-b4575433fc74"
   },
   "outputs": [
    {
     "data": {
      "text/plain": [
       "147.71524417759434"
      ]
     },
     "execution_count": 13,
     "metadata": {},
     "output_type": "execute_result"
    }
   ],
   "source": [
    "multi_regressor.intercept_"
   ]
  },
  {
   "cell_type": "code",
   "execution_count": 14,
   "metadata": {
    "colab": {
     "base_uri": "https://localhost:8080/"
    },
    "executionInfo": {
     "elapsed": 241,
     "status": "ok",
     "timestamp": 1632204914547,
     "user": {
      "displayName": "Jongseob Jeon",
      "photoUrl": "https://lh3.googleusercontent.com/a/default-user=s64",
      "userId": "03523663544813654809"
     },
     "user_tz": -540
    },
    "id": "AFtMZuB48Ln-",
    "outputId": "074bd66d-8f80-45d0-9ca3-72286b3e7cc5"
   },
   "outputs": [
    {
     "data": {
      "text/plain": [
       "array([  15.28529701, -218.59128442,  545.19999487,  263.6592052 ,\n",
       "       -582.66349612,  317.33684049,   48.53542723,  215.51374612,\n",
       "        655.7965519 ,   64.04030953])"
      ]
     },
     "execution_count": 14,
     "metadata": {},
     "output_type": "execute_result"
    }
   ],
   "source": [
    "multi_regressor.coef_"
   ]
  },
  {
   "cell_type": "markdown",
   "metadata": {
    "id": "48NKzUPb8Ln_"
   },
   "source": [
    "### 2.3 예측"
   ]
  },
  {
   "cell_type": "code",
   "execution_count": 15,
   "metadata": {
    "executionInfo": {
     "elapsed": 345,
     "status": "ok",
     "timestamp": 1632204923721,
     "user": {
      "displayName": "Jongseob Jeon",
      "photoUrl": "https://lh3.googleusercontent.com/a/default-user=s64",
      "userId": "03523663544813654809"
     },
     "user_tz": -540
    },
    "id": "0CLUlUuc8Ln_"
   },
   "outputs": [],
   "source": [
    "multi_train_pred = multi_regressor.predict(train_data)\n",
    "multi_test_pred = multi_regressor.predict(test_data)"
   ]
  },
  {
   "cell_type": "markdown",
   "metadata": {
    "id": "EhLHfxAf8LoA"
   },
   "source": [
    "### 2.4 평가"
   ]
  },
  {
   "cell_type": "markdown",
   "metadata": {
    "id": "FmjeIany8LoA"
   },
   "source": [
    "평가는 `sklearn.metrics` 의 `mean_squared_error`를 이용하겠습니다.\n",
    "mean_squared_error는 두 값의 차이의 제곱의 평균을 계산해줍니다."
   ]
  },
  {
   "cell_type": "code",
   "execution_count": 16,
   "metadata": {
    "executionInfo": {
     "elapsed": 242,
     "status": "ok",
     "timestamp": 1632204944408,
     "user": {
      "displayName": "Jongseob Jeon",
      "photoUrl": "https://lh3.googleusercontent.com/a/default-user=s64",
      "userId": "03523663544813654809"
     },
     "user_tz": -540
    },
    "id": "Ont82rpW8LoA"
   },
   "outputs": [],
   "source": [
    "from sklearn.metrics import mean_squared_error\n",
    "\n",
    "multi_train_mse = mean_squared_error(multi_train_pred, train_target)\n",
    "multi_test_mse = mean_squared_error(multi_test_pred, test_target)"
   ]
  },
  {
   "cell_type": "code",
   "execution_count": 17,
   "metadata": {
    "colab": {
     "base_uri": "https://localhost:8080/"
    },
    "executionInfo": {
     "elapsed": 384,
     "status": "ok",
     "timestamp": 1632204949621,
     "user": {
      "displayName": "Jongseob Jeon",
      "photoUrl": "https://lh3.googleusercontent.com/a/default-user=s64",
      "userId": "03523663544813654809"
     },
     "user_tz": -540
    },
    "id": "bf-O7Ehk8LoA",
    "outputId": "56459118-98dc-4bac-e4a7-8efc043004e5"
   },
   "outputs": [
    {
     "name": "stdout",
     "output_type": "stream",
     "text": [
      "Multi Regression Train MSE is 3034.2623\n",
      "Multi Regression Test MSE is 2562.2750\n"
     ]
    }
   ],
   "source": [
    "print(f\"Multi Regression Train MSE is {multi_train_mse:.4f}\")\n",
    "print(f\"Multi Regression Test MSE is {multi_test_mse:.4f}\")"
   ]
  },
  {
   "cell_type": "markdown",
   "metadata": {
    "id": "PxoYvoiL8LoB"
   },
   "source": [
    "## 3. Ridge Regression"
   ]
  },
  {
   "cell_type": "markdown",
   "metadata": {
    "id": "Qp_HwKpt8LoB"
   },
   "source": [
    "### 3.1 학습"
   ]
  },
  {
   "cell_type": "code",
   "execution_count": 18,
   "metadata": {
    "colab": {
     "base_uri": "https://localhost:8080/"
    },
    "executionInfo": {
     "elapsed": 257,
     "status": "ok",
     "timestamp": 1632204974088,
     "user": {
      "displayName": "Jongseob Jeon",
      "photoUrl": "https://lh3.googleusercontent.com/a/default-user=s64",
      "userId": "03523663544813654809"
     },
     "user_tz": -540
    },
    "id": "y7gOQKAg8LoB",
    "outputId": "69e8a7a6-d6b4-44d8-b85f-17e956d405b2"
   },
   "outputs": [
    {
     "data": {
      "text/plain": [
       "Ridge(alpha=1.0, copy_X=True, fit_intercept=True, max_iter=None,\n",
       "      normalize=False, random_state=None, solver='auto', tol=0.001)"
      ]
     },
     "execution_count": 18,
     "metadata": {},
     "output_type": "execute_result"
    }
   ],
   "source": [
    "from sklearn.linear_model import Ridge\n",
    "\n",
    "\n",
    "ridge_regressor = Ridge()\n",
    "ridge_regressor.fit(train_data, train_target)"
   ]
  },
  {
   "cell_type": "markdown",
   "metadata": {
    "id": "laYnPeL08LoC"
   },
   "source": [
    "### 3.2 회귀식 확인"
   ]
  },
  {
   "cell_type": "code",
   "execution_count": 19,
   "metadata": {
    "colab": {
     "base_uri": "https://localhost:8080/"
    },
    "executionInfo": {
     "elapsed": 269,
     "status": "ok",
     "timestamp": 1632204976343,
     "user": {
      "displayName": "Jongseob Jeon",
      "photoUrl": "https://lh3.googleusercontent.com/a/default-user=s64",
      "userId": "03523663544813654809"
     },
     "user_tz": -540
    },
    "id": "gO3oJ7rF8LoC",
    "outputId": "b5012807-969b-48e8-dacc-70aaa35de1a8"
   },
   "outputs": [
    {
     "data": {
      "text/plain": [
       "147.74060119766182"
      ]
     },
     "execution_count": 19,
     "metadata": {},
     "output_type": "execute_result"
    }
   ],
   "source": [
    "ridge_regressor.intercept_"
   ]
  },
  {
   "cell_type": "code",
   "execution_count": 21,
   "metadata": {
    "colab": {
     "base_uri": "https://localhost:8080/"
    },
    "executionInfo": {
     "elapsed": 244,
     "status": "ok",
     "timestamp": 1632204992365,
     "user": {
      "displayName": "Jongseob Jeon",
      "photoUrl": "https://lh3.googleusercontent.com/a/default-user=s64",
      "userId": "03523663544813654809"
     },
     "user_tz": -540
    },
    "id": "aSwEs1kL_5ZX",
    "outputId": "6820be5c-09c4-451d-f2a6-35c9be35d19f"
   },
   "outputs": [
    {
     "data": {
      "text/plain": [
       "array([  15.28529701, -218.59128442,  545.19999487,  263.6592052 ,\n",
       "       -582.66349612,  317.33684049,   48.53542723,  215.51374612,\n",
       "        655.7965519 ,   64.04030953])"
      ]
     },
     "execution_count": 21,
     "metadata": {},
     "output_type": "execute_result"
    }
   ],
   "source": [
    "multi_regressor.coef_"
   ]
  },
  {
   "cell_type": "code",
   "execution_count": 20,
   "metadata": {
    "colab": {
     "base_uri": "https://localhost:8080/"
    },
    "executionInfo": {
     "elapsed": 253,
     "status": "ok",
     "timestamp": 1632204978389,
     "user": {
      "displayName": "Jongseob Jeon",
      "photoUrl": "https://lh3.googleusercontent.com/a/default-user=s64",
      "userId": "03523663544813654809"
     },
     "user_tz": -540
    },
    "id": "DYHDU5Ya8LoC",
    "outputId": "343f9ef5-6c2f-4b6b-d1b4-72dc8e51a5fd"
   },
   "outputs": [
    {
     "data": {
      "text/plain": [
       "array([  46.89201977,  -55.64009506,  270.71747699,  158.68867814,\n",
       "         23.59440223,  -11.13019705, -130.05870493,  122.00237806,\n",
       "        225.92117758,  107.08728777])"
      ]
     },
     "execution_count": 20,
     "metadata": {},
     "output_type": "execute_result"
    }
   ],
   "source": [
    "ridge_regressor.coef_"
   ]
  },
  {
   "cell_type": "markdown",
   "metadata": {
    "id": "8oZ2SKAk8LoC"
   },
   "source": [
    "### 3.3 예측"
   ]
  },
  {
   "cell_type": "code",
   "execution_count": 22,
   "metadata": {
    "executionInfo": {
     "elapsed": 466,
     "status": "ok",
     "timestamp": 1632205009222,
     "user": {
      "displayName": "Jongseob Jeon",
      "photoUrl": "https://lh3.googleusercontent.com/a/default-user=s64",
      "userId": "03523663544813654809"
     },
     "user_tz": -540
    },
    "id": "riLU7Vy08LoD"
   },
   "outputs": [],
   "source": [
    "ridge_train_pred = ridge_regressor.predict(train_data)\n",
    "ridge_test_pred = ridge_regressor.predict(test_data)"
   ]
  },
  {
   "cell_type": "markdown",
   "metadata": {
    "id": "Vdqk5lF28LoD"
   },
   "source": [
    "### 3.4 평가"
   ]
  },
  {
   "cell_type": "code",
   "execution_count": 23,
   "metadata": {
    "executionInfo": {
     "elapsed": 282,
     "status": "ok",
     "timestamp": 1632205010886,
     "user": {
      "displayName": "Jongseob Jeon",
      "photoUrl": "https://lh3.googleusercontent.com/a/default-user=s64",
      "userId": "03523663544813654809"
     },
     "user_tz": -540
    },
    "id": "aEbYgONx8LoD"
   },
   "outputs": [],
   "source": [
    "ridge_train_mse = mean_squared_error(ridge_train_pred, train_target)\n",
    "ridge_test_mse = mean_squared_error(ridge_test_pred, test_target)"
   ]
  },
  {
   "cell_type": "code",
   "execution_count": 24,
   "metadata": {
    "colab": {
     "base_uri": "https://localhost:8080/"
    },
    "executionInfo": {
     "elapsed": 351,
     "status": "ok",
     "timestamp": 1632205012639,
     "user": {
      "displayName": "Jongseob Jeon",
      "photoUrl": "https://lh3.googleusercontent.com/a/default-user=s64",
      "userId": "03523663544813654809"
     },
     "user_tz": -540
    },
    "id": "VHAprJex8LoD",
    "outputId": "79129a00-6f5b-43ab-b436-7e33ea73e0db"
   },
   "outputs": [
    {
     "name": "stdout",
     "output_type": "stream",
     "text": [
      "Ridge Regression Train MSE is 3556.1983\n",
      "Ridge Regression Test MSE is 3200.4051\n"
     ]
    }
   ],
   "source": [
    "print(f\"Ridge Regression Train MSE is {ridge_train_mse:.4f}\")\n",
    "print(f\"Ridge Regression Test MSE is {ridge_test_mse:.4f}\")"
   ]
  },
  {
   "cell_type": "markdown",
   "metadata": {
    "id": "gyaCyVot8LoD"
   },
   "source": [
    "## 4. LASSO Regression"
   ]
  },
  {
   "cell_type": "markdown",
   "metadata": {
    "id": "FmDdfK7C8LoD"
   },
   "source": [
    "### 4.1 학습"
   ]
  },
  {
   "cell_type": "code",
   "execution_count": 25,
   "metadata": {
    "colab": {
     "base_uri": "https://localhost:8080/"
    },
    "executionInfo": {
     "elapsed": 244,
     "status": "ok",
     "timestamp": 1632205027755,
     "user": {
      "displayName": "Jongseob Jeon",
      "photoUrl": "https://lh3.googleusercontent.com/a/default-user=s64",
      "userId": "03523663544813654809"
     },
     "user_tz": -540
    },
    "id": "zh-YNLLo8LoE",
    "outputId": "b4e8b915-7c07-49d3-f8f5-a4f3101769c3"
   },
   "outputs": [
    {
     "data": {
      "text/plain": [
       "Lasso(alpha=1.0, copy_X=True, fit_intercept=True, max_iter=1000,\n",
       "      normalize=False, positive=False, precompute=False, random_state=None,\n",
       "      selection='cyclic', tol=0.0001, warm_start=False)"
      ]
     },
     "execution_count": 25,
     "metadata": {},
     "output_type": "execute_result"
    }
   ],
   "source": [
    "from sklearn.linear_model import Lasso\n",
    "\n",
    "\n",
    "lasso_regressor = Lasso()\n",
    "lasso_regressor.fit(train_data, train_target)"
   ]
  },
  {
   "cell_type": "markdown",
   "metadata": {
    "id": "FS-nGnQn8LoE"
   },
   "source": [
    "### 4.2 회귀식 확인"
   ]
  },
  {
   "cell_type": "code",
   "execution_count": 26,
   "metadata": {
    "colab": {
     "base_uri": "https://localhost:8080/"
    },
    "executionInfo": {
     "elapsed": 265,
     "status": "ok",
     "timestamp": 1632205032728,
     "user": {
      "displayName": "Jongseob Jeon",
      "photoUrl": "https://lh3.googleusercontent.com/a/default-user=s64",
      "userId": "03523663544813654809"
     },
     "user_tz": -540
    },
    "id": "V7v6gYwA8LoE",
    "outputId": "4927f2a2-0b62-4a48-ba40-2172048afc4c"
   },
   "outputs": [
    {
     "data": {
      "text/plain": [
       "148.13825690433762"
      ]
     },
     "execution_count": 26,
     "metadata": {},
     "output_type": "execute_result"
    }
   ],
   "source": [
    "lasso_regressor.intercept_"
   ]
  },
  {
   "cell_type": "code",
   "execution_count": 27,
   "metadata": {
    "colab": {
     "base_uri": "https://localhost:8080/"
    },
    "executionInfo": {
     "elapsed": 249,
     "status": "ok",
     "timestamp": 1632205034266,
     "user": {
      "displayName": "Jongseob Jeon",
      "photoUrl": "https://lh3.googleusercontent.com/a/default-user=s64",
      "userId": "03523663544813654809"
     },
     "user_tz": -540
    },
    "id": "tvcqhbpk8LoE",
    "outputId": "9188b764-c1cf-4ed4-a8e2-e40c486595f7"
   },
   "outputs": [
    {
     "data": {
      "text/plain": [
       "array([  0.        ,   0.        , 377.69541767,   0.        ,\n",
       "         0.        ,   0.        ,  -0.        ,   0.        ,\n",
       "       316.05550058,   0.        ])"
      ]
     },
     "execution_count": 27,
     "metadata": {},
     "output_type": "execute_result"
    }
   ],
   "source": [
    "lasso_regressor.coef_"
   ]
  },
  {
   "cell_type": "code",
   "execution_count": 28,
   "metadata": {
    "colab": {
     "base_uri": "https://localhost:8080/"
    },
    "executionInfo": {
     "elapsed": 378,
     "status": "ok",
     "timestamp": 1632205048561,
     "user": {
      "displayName": "Jongseob Jeon",
      "photoUrl": "https://lh3.googleusercontent.com/a/default-user=s64",
      "userId": "03523663544813654809"
     },
     "user_tz": -540
    },
    "id": "VcqNYWYA8LoE",
    "outputId": "83323184-ddac-46b8-8339-ba8f92bfbeb5"
   },
   "outputs": [
    {
     "data": {
      "text/plain": [
       "array(['bmi', 's5'], dtype='<U3')"
      ]
     },
     "execution_count": 28,
     "metadata": {},
     "output_type": "execute_result"
    }
   ],
   "source": [
    "np.array(diabetes[\"feature_names\"])[lasso_regressor.coef_ != 0]"
   ]
  },
  {
   "cell_type": "markdown",
   "metadata": {
    "id": "maAJ8z378LoF"
   },
   "source": [
    "### 4.3 예측"
   ]
  },
  {
   "cell_type": "code",
   "execution_count": 29,
   "metadata": {
    "executionInfo": {
     "elapsed": 280,
     "status": "ok",
     "timestamp": 1632205055405,
     "user": {
      "displayName": "Jongseob Jeon",
      "photoUrl": "https://lh3.googleusercontent.com/a/default-user=s64",
      "userId": "03523663544813654809"
     },
     "user_tz": -540
    },
    "id": "D5a-l2ce8LoF"
   },
   "outputs": [],
   "source": [
    "lasso_train_pred = lasso_regressor.predict(train_data)\n",
    "lasso_test_pred = lasso_regressor.predict(test_data)"
   ]
  },
  {
   "cell_type": "markdown",
   "metadata": {
    "id": "9PcVI10r8LoF"
   },
   "source": [
    "### 4.4 평가"
   ]
  },
  {
   "cell_type": "code",
   "execution_count": 30,
   "metadata": {
    "executionInfo": {
     "elapsed": 315,
     "status": "ok",
     "timestamp": 1632205058389,
     "user": {
      "displayName": "Jongseob Jeon",
      "photoUrl": "https://lh3.googleusercontent.com/a/default-user=s64",
      "userId": "03523663544813654809"
     },
     "user_tz": -540
    },
    "id": "2UuaabFz8LoF"
   },
   "outputs": [],
   "source": [
    "lasso_train_mse = mean_squared_error(lasso_train_pred, train_target)\n",
    "lasso_test_mse = mean_squared_error(lasso_test_pred, test_target)"
   ]
  },
  {
   "cell_type": "code",
   "execution_count": 31,
   "metadata": {
    "colab": {
     "base_uri": "https://localhost:8080/"
    },
    "executionInfo": {
     "elapsed": 256,
     "status": "ok",
     "timestamp": 1632205060017,
     "user": {
      "displayName": "Jongseob Jeon",
      "photoUrl": "https://lh3.googleusercontent.com/a/default-user=s64",
      "userId": "03523663544813654809"
     },
     "user_tz": -540
    },
    "id": "R6Gds1v78LoF",
    "outputId": "be31b447-9b91-4a87-ad91-76e3ef09818e"
   },
   "outputs": [
    {
     "name": "stdout",
     "output_type": "stream",
     "text": [
      "LASSO Regression Train MSE is 3897.9528\n",
      "LASSO Regression Test MSE is 3581.6843\n"
     ]
    }
   ],
   "source": [
    "print(f\"LASSO Regression Train MSE is {lasso_train_mse:.4f}\")\n",
    "print(f\"LASSO Regression Test MSE is {lasso_test_mse:.4f}\")"
   ]
  },
  {
   "cell_type": "markdown",
   "metadata": {
    "id": "-uVBMZGu8LoG",
    "tags": []
   },
   "source": [
    "## 5. 마무리"
   ]
  },
  {
   "cell_type": "markdown",
   "metadata": {
    "id": "YWXvkC9v8LoG"
   },
   "source": [
    "### 5.1 평가"
   ]
  },
  {
   "cell_type": "code",
   "execution_count": 32,
   "metadata": {
    "colab": {
     "base_uri": "https://localhost:8080/"
    },
    "executionInfo": {
     "elapsed": 250,
     "status": "ok",
     "timestamp": 1632205072887,
     "user": {
      "displayName": "Jongseob Jeon",
      "photoUrl": "https://lh3.googleusercontent.com/a/default-user=s64",
      "userId": "03523663544813654809"
     },
     "user_tz": -540
    },
    "id": "sAhRmO-78LoG",
    "outputId": "7dcbf9a5-4977-4869-9126-f9ed0103a059"
   },
   "outputs": [
    {
     "name": "stdout",
     "output_type": "stream",
     "text": [
      "Multi Regression Test MSE is 2562.2750\n",
      "Ridge Regression Test MSE is 3200.4051\n",
      "LASSO Regression Test MSE is 3581.6843\n"
     ]
    }
   ],
   "source": [
    "print(f\"Multi Regression Test MSE is {multi_test_mse:.4f}\")\n",
    "print(f\"Ridge Regression Test MSE is {ridge_test_mse:.4f}\")\n",
    "print(f\"LASSO Regression Test MSE is {lasso_test_mse:.4f}\")"
   ]
  },
  {
   "cell_type": "markdown",
   "metadata": {
    "id": "6b8OpBkN8LoG"
   },
   "source": [
    "### 5.2 예측값과 실제값의 관계 Plot"
   ]
  },
  {
   "cell_type": "code",
   "execution_count": 33,
   "metadata": {
    "colab": {
     "base_uri": "https://localhost:8080/",
     "height": 350
    },
    "executionInfo": {
     "elapsed": 918,
     "status": "ok",
     "timestamp": 1632205082505,
     "user": {
      "displayName": "Jongseob Jeon",
      "photoUrl": "https://lh3.googleusercontent.com/a/default-user=s64",
      "userId": "03523663544813654809"
     },
     "user_tz": -540
    },
    "id": "DdCqP7928LoH",
    "outputId": "97b0cf82-3bdd-4a14-c2d4-74319789822c"
   },
   "outputs": [
    {
     "data": {
      "image/png": "[encoded data removed]",
      "text/plain": [
       "<Figure size 1080x360 with 3 Axes>"
      ]
     },
     "metadata": {
      "needs_background": "light"
     },
     "output_type": "display_data"
    }
   ],
   "source": [
    "fig, axes = plt.subplots(nrows=1, ncols=3, figsize=(15, 5))\n",
    "preds = [\n",
    "    (\"Multi regression\", multi_test_pred),\n",
    "    (\"Ridge regression\", ridge_test_pred),\n",
    "    (\"LASSO regression\", lasso_test_pred),\n",
    "]\n",
    "\n",
    "for idx, (name, test_pred) in enumerate(preds):\n",
    "    ax = axes[idx]\n",
    "    ax.scatter(test_pred, test_target)\n",
    "    ax.plot(np.linspace(0, 330, 100), np.linspace(0, 330, 100), color=\"red\")\n",
    "    ax.set_xlabel(\"Predict\")\n",
    "    ax.set_ylabel(\"Real\")\n",
    "    ax.set_title(name)"
   ]
  },
  {
   "cell_type": "code",
   "execution_count": null,
   "metadata": {
    "id": "hcuxQxrOAQpy"
   },
   "outputs": [],
   "source": []
  }
 ],
 "metadata": {
  "colab": {
   "collapsed_sections": [],
   "name": "02_당뇨병 진행도 예측.ipynb",
   "provenance": [],
   "toc_visible": true
  },
  "interpreter": {
   "hash": "cccd584f7b4722b77d43dcc1cc37e76a0fc0e94b8ea209b288bb2157fa8ff404"
  },
  "kernelspec": {
   "display_name": "Python 3",
   "language": "python",
   "name": "python3"
  },
  "language_info": {
   "codemirror_mode": {
    "name": "ipython",
    "version": 3
   },
   "file_extension": ".py",
   "mimetype": "text/x-python",
   "name": "python",
   "nbconvert_exporter": "python",
   "pygments_lexer": "ipython3",
   "version": "3.8.8"
  }
 },
 "nbformat": 4,
 "nbformat_minor": 1
}
