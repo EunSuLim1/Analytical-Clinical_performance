{
 "cells": [
  {
   "cell_type": "code",
   "execution_count": 1,
   "id": "014f3bc9",
   "metadata": {},
   "outputs": [],
   "source": [
    "import pandas as pd\n",
    "import numpy as np\n",
    "import matplotlib.pyplot as plt\n",
    "\n",
    "np.random.seed(2021)"
   ]
  },
  {
   "cell_type": "code",
   "execution_count": 2,
   "id": "15b24162",
   "metadata": {},
   "outputs": [],
   "source": [
    "from sklearn.datasets import load_breast_cancer\n",
    "\n",
    "cancer = load_breast_cancer()"
   ]
  },
  {
   "cell_type": "code",
   "execution_count": 3,
   "id": "daf962f5",
   "metadata": {},
   "outputs": [
    {
     "data": {
      "text/plain": [
       "array(['mean radius', 'mean texture', 'mean perimeter', 'mean area',\n",
       "       'mean smoothness', 'mean compactness', 'mean concavity',\n",
       "       'mean concave points', 'mean symmetry', 'mean fractal dimension',\n",
       "       'radius error', 'texture error', 'perimeter error', 'area error',\n",
       "       'smoothness error', 'compactness error', 'concavity error',\n",
       "       'concave points error', 'symmetry error',\n",
       "       'fractal dimension error', 'worst radius', 'worst texture',\n",
       "       'worst perimeter', 'worst area', 'worst smoothness',\n",
       "       'worst compactness', 'worst concavity', 'worst concave points',\n",
       "       'worst symmetry', 'worst fractal dimension'], dtype='<U23')"
      ]
     },
     "execution_count": 3,
     "metadata": {},
     "output_type": "execute_result"
    }
   ],
   "source": [
    "cancer['feature_names']"
   ]
  },
  {
   "cell_type": "code",
   "execution_count": 4,
   "id": "688fd450",
   "metadata": {},
   "outputs": [
    {
     "data": {
      "text/plain": [
       "array(['malignant', 'benign'], dtype='<U9')"
      ]
     },
     "execution_count": 4,
     "metadata": {},
     "output_type": "execute_result"
    }
   ],
   "source": [
    "cancer['target_names']"
   ]
  },
  {
   "cell_type": "code",
   "execution_count": 5,
   "id": "3f0fcfc5",
   "metadata": {},
   "outputs": [],
   "source": [
    "data, target = cancer['data'], cancer['target']"
   ]
  },
  {
   "cell_type": "code",
   "execution_count": 6,
   "id": "b4921605",
   "metadata": {},
   "outputs": [
    {
     "data": {
      "text/plain": [
       "array([1.799e+01, 1.038e+01, 1.228e+02, 1.001e+03, 1.184e-01, 2.776e-01,\n",
       "       3.001e-01, 1.471e-01, 2.419e-01, 7.871e-02, 1.095e+00, 9.053e-01,\n",
       "       8.589e+00, 1.534e+02, 6.399e-03, 4.904e-02, 5.373e-02, 1.587e-02,\n",
       "       3.003e-02, 6.193e-03, 2.538e+01, 1.733e+01, 1.846e+02, 2.019e+03,\n",
       "       1.622e-01, 6.656e-01, 7.119e-01, 2.654e-01, 4.601e-01, 1.189e-01])"
      ]
     },
     "execution_count": 6,
     "metadata": {},
     "output_type": "execute_result"
    }
   ],
   "source": [
    "data[0]"
   ]
  },
  {
   "cell_type": "code",
   "execution_count": 7,
   "id": "1e9cd3be",
   "metadata": {},
   "outputs": [],
   "source": [
    "df=pd.DataFrame(data, columns = cancer['feature_names'])"
   ]
  },
  {
   "cell_type": "code",
   "execution_count": 8,
   "id": "1273700d",
   "metadata": {},
   "outputs": [
    {
     "data": {
      "text/html": [
       "<div>\n",
       "<style scoped>\n",
       "    .dataframe tbody tr th:only-of-type {\n",
       "        vertical-align: middle;\n",
       "    }\n",
       "\n",
       "    .dataframe tbody tr th {\n",
       "        vertical-align: top;\n",
       "    }\n",
       "\n",
       "    .dataframe thead th {\n",
       "        text-align: right;\n",
       "    }\n",
       "</style>\n",
       "<table border=\"1\" class=\"dataframe\">\n",
       "  <thead>\n",
       "    <tr style=\"text-align: right;\">\n",
       "      <th></th>\n",
       "      <th>mean radius</th>\n",
       "      <th>mean texture</th>\n",
       "      <th>mean perimeter</th>\n",
       "      <th>mean area</th>\n",
       "      <th>mean smoothness</th>\n",
       "      <th>mean compactness</th>\n",
       "      <th>mean concavity</th>\n",
       "      <th>mean concave points</th>\n",
       "      <th>mean symmetry</th>\n",
       "      <th>mean fractal dimension</th>\n",
       "      <th>...</th>\n",
       "      <th>worst radius</th>\n",
       "      <th>worst texture</th>\n",
       "      <th>worst perimeter</th>\n",
       "      <th>worst area</th>\n",
       "      <th>worst smoothness</th>\n",
       "      <th>worst compactness</th>\n",
       "      <th>worst concavity</th>\n",
       "      <th>worst concave points</th>\n",
       "      <th>worst symmetry</th>\n",
       "      <th>worst fractal dimension</th>\n",
       "    </tr>\n",
       "  </thead>\n",
       "  <tbody>\n",
       "    <tr>\n",
       "      <th>count</th>\n",
       "      <td>569.000000</td>\n",
       "      <td>569.000000</td>\n",
       "      <td>569.000000</td>\n",
       "      <td>569.000000</td>\n",
       "      <td>569.000000</td>\n",
       "      <td>569.000000</td>\n",
       "      <td>569.000000</td>\n",
       "      <td>569.000000</td>\n",
       "      <td>569.000000</td>\n",
       "      <td>569.000000</td>\n",
       "      <td>...</td>\n",
       "      <td>569.000000</td>\n",
       "      <td>569.000000</td>\n",
       "      <td>569.000000</td>\n",
       "      <td>569.000000</td>\n",
       "      <td>569.000000</td>\n",
       "      <td>569.000000</td>\n",
       "      <td>569.000000</td>\n",
       "      <td>569.000000</td>\n",
       "      <td>569.000000</td>\n",
       "      <td>569.000000</td>\n",
       "    </tr>\n",
       "    <tr>\n",
       "      <th>mean</th>\n",
       "      <td>14.127292</td>\n",
       "      <td>19.289649</td>\n",
       "      <td>91.969033</td>\n",
       "      <td>654.889104</td>\n",
       "      <td>0.096360</td>\n",
       "      <td>0.104341</td>\n",
       "      <td>0.088799</td>\n",
       "      <td>0.048919</td>\n",
       "      <td>0.181162</td>\n",
       "      <td>0.062798</td>\n",
       "      <td>...</td>\n",
       "      <td>16.269190</td>\n",
       "      <td>25.677223</td>\n",
       "      <td>107.261213</td>\n",
       "      <td>880.583128</td>\n",
       "      <td>0.132369</td>\n",
       "      <td>0.254265</td>\n",
       "      <td>0.272188</td>\n",
       "      <td>0.114606</td>\n",
       "      <td>0.290076</td>\n",
       "      <td>0.083946</td>\n",
       "    </tr>\n",
       "    <tr>\n",
       "      <th>std</th>\n",
       "      <td>3.524049</td>\n",
       "      <td>4.301036</td>\n",
       "      <td>24.298981</td>\n",
       "      <td>351.914129</td>\n",
       "      <td>0.014064</td>\n",
       "      <td>0.052813</td>\n",
       "      <td>0.079720</td>\n",
       "      <td>0.038803</td>\n",
       "      <td>0.027414</td>\n",
       "      <td>0.007060</td>\n",
       "      <td>...</td>\n",
       "      <td>4.833242</td>\n",
       "      <td>6.146258</td>\n",
       "      <td>33.602542</td>\n",
       "      <td>569.356993</td>\n",
       "      <td>0.022832</td>\n",
       "      <td>0.157336</td>\n",
       "      <td>0.208624</td>\n",
       "      <td>0.065732</td>\n",
       "      <td>0.061867</td>\n",
       "      <td>0.018061</td>\n",
       "    </tr>\n",
       "    <tr>\n",
       "      <th>min</th>\n",
       "      <td>6.981000</td>\n",
       "      <td>9.710000</td>\n",
       "      <td>43.790000</td>\n",
       "      <td>143.500000</td>\n",
       "      <td>0.052630</td>\n",
       "      <td>0.019380</td>\n",
       "      <td>0.000000</td>\n",
       "      <td>0.000000</td>\n",
       "      <td>0.106000</td>\n",
       "      <td>0.049960</td>\n",
       "      <td>...</td>\n",
       "      <td>7.930000</td>\n",
       "      <td>12.020000</td>\n",
       "      <td>50.410000</td>\n",
       "      <td>185.200000</td>\n",
       "      <td>0.071170</td>\n",
       "      <td>0.027290</td>\n",
       "      <td>0.000000</td>\n",
       "      <td>0.000000</td>\n",
       "      <td>0.156500</td>\n",
       "      <td>0.055040</td>\n",
       "    </tr>\n",
       "    <tr>\n",
       "      <th>25%</th>\n",
       "      <td>11.700000</td>\n",
       "      <td>16.170000</td>\n",
       "      <td>75.170000</td>\n",
       "      <td>420.300000</td>\n",
       "      <td>0.086370</td>\n",
       "      <td>0.064920</td>\n",
       "      <td>0.029560</td>\n",
       "      <td>0.020310</td>\n",
       "      <td>0.161900</td>\n",
       "      <td>0.057700</td>\n",
       "      <td>...</td>\n",
       "      <td>13.010000</td>\n",
       "      <td>21.080000</td>\n",
       "      <td>84.110000</td>\n",
       "      <td>515.300000</td>\n",
       "      <td>0.116600</td>\n",
       "      <td>0.147200</td>\n",
       "      <td>0.114500</td>\n",
       "      <td>0.064930</td>\n",
       "      <td>0.250400</td>\n",
       "      <td>0.071460</td>\n",
       "    </tr>\n",
       "    <tr>\n",
       "      <th>50%</th>\n",
       "      <td>13.370000</td>\n",
       "      <td>18.840000</td>\n",
       "      <td>86.240000</td>\n",
       "      <td>551.100000</td>\n",
       "      <td>0.095870</td>\n",
       "      <td>0.092630</td>\n",
       "      <td>0.061540</td>\n",
       "      <td>0.033500</td>\n",
       "      <td>0.179200</td>\n",
       "      <td>0.061540</td>\n",
       "      <td>...</td>\n",
       "      <td>14.970000</td>\n",
       "      <td>25.410000</td>\n",
       "      <td>97.660000</td>\n",
       "      <td>686.500000</td>\n",
       "      <td>0.131300</td>\n",
       "      <td>0.211900</td>\n",
       "      <td>0.226700</td>\n",
       "      <td>0.099930</td>\n",
       "      <td>0.282200</td>\n",
       "      <td>0.080040</td>\n",
       "    </tr>\n",
       "    <tr>\n",
       "      <th>75%</th>\n",
       "      <td>15.780000</td>\n",
       "      <td>21.800000</td>\n",
       "      <td>104.100000</td>\n",
       "      <td>782.700000</td>\n",
       "      <td>0.105300</td>\n",
       "      <td>0.130400</td>\n",
       "      <td>0.130700</td>\n",
       "      <td>0.074000</td>\n",
       "      <td>0.195700</td>\n",
       "      <td>0.066120</td>\n",
       "      <td>...</td>\n",
       "      <td>18.790000</td>\n",
       "      <td>29.720000</td>\n",
       "      <td>125.400000</td>\n",
       "      <td>1084.000000</td>\n",
       "      <td>0.146000</td>\n",
       "      <td>0.339100</td>\n",
       "      <td>0.382900</td>\n",
       "      <td>0.161400</td>\n",
       "      <td>0.317900</td>\n",
       "      <td>0.092080</td>\n",
       "    </tr>\n",
       "    <tr>\n",
       "      <th>max</th>\n",
       "      <td>28.110000</td>\n",
       "      <td>39.280000</td>\n",
       "      <td>188.500000</td>\n",
       "      <td>2501.000000</td>\n",
       "      <td>0.163400</td>\n",
       "      <td>0.345400</td>\n",
       "      <td>0.426800</td>\n",
       "      <td>0.201200</td>\n",
       "      <td>0.304000</td>\n",
       "      <td>0.097440</td>\n",
       "      <td>...</td>\n",
       "      <td>36.040000</td>\n",
       "      <td>49.540000</td>\n",
       "      <td>251.200000</td>\n",
       "      <td>4254.000000</td>\n",
       "      <td>0.222600</td>\n",
       "      <td>1.058000</td>\n",
       "      <td>1.252000</td>\n",
       "      <td>0.291000</td>\n",
       "      <td>0.663800</td>\n",
       "      <td>0.207500</td>\n",
       "    </tr>\n",
       "  </tbody>\n",
       "</table>\n",
       "<p>8 rows × 30 columns</p>\n",
       "</div>"
      ],
      "text/plain": [
       "       mean radius  mean texture  mean perimeter    mean area  \\\n",
       "count   569.000000    569.000000      569.000000   569.000000   \n",
       "mean     14.127292     19.289649       91.969033   654.889104   \n",
       "std       3.524049      4.301036       24.298981   351.914129   \n",
       "min       6.981000      9.710000       43.790000   143.500000   \n",
       "25%      11.700000     16.170000       75.170000   420.300000   \n",
       "50%      13.370000     18.840000       86.240000   551.100000   \n",
       "75%      15.780000     21.800000      104.100000   782.700000   \n",
       "max      28.110000     39.280000      188.500000  2501.000000   \n",
       "\n",
       "       mean smoothness  mean compactness  mean concavity  mean concave points  \\\n",
       "count       569.000000        569.000000      569.000000           569.000000   \n",
       "mean          0.096360          0.104341        0.088799             0.048919   \n",
       "std           0.014064          0.052813        0.079720             0.038803   \n",
       "min           0.052630          0.019380        0.000000             0.000000   \n",
       "25%           0.086370          0.064920        0.029560             0.020310   \n",
       "50%           0.095870          0.092630        0.061540             0.033500   \n",
       "75%           0.105300          0.130400        0.130700             0.074000   \n",
       "max           0.163400          0.345400        0.426800             0.201200   \n",
       "\n",
       "       mean symmetry  mean fractal dimension  ...  worst radius  \\\n",
       "count     569.000000              569.000000  ...    569.000000   \n",
       "mean        0.181162                0.062798  ...     16.269190   \n",
       "std         0.027414                0.007060  ...      4.833242   \n",
       "min         0.106000                0.049960  ...      7.930000   \n",
       "25%         0.161900                0.057700  ...     13.010000   \n",
       "50%         0.179200                0.061540  ...     14.970000   \n",
       "75%         0.195700                0.066120  ...     18.790000   \n",
       "max         0.304000                0.097440  ...     36.040000   \n",
       "\n",
       "       worst texture  worst perimeter   worst area  worst smoothness  \\\n",
       "count     569.000000       569.000000   569.000000        569.000000   \n",
       "mean       25.677223       107.261213   880.583128          0.132369   \n",
       "std         6.146258        33.602542   569.356993          0.022832   \n",
       "min        12.020000        50.410000   185.200000          0.071170   \n",
       "25%        21.080000        84.110000   515.300000          0.116600   \n",
       "50%        25.410000        97.660000   686.500000          0.131300   \n",
       "75%        29.720000       125.400000  1084.000000          0.146000   \n",
       "max        49.540000       251.200000  4254.000000          0.222600   \n",
       "\n",
       "       worst compactness  worst concavity  worst concave points  \\\n",
       "count         569.000000       569.000000            569.000000   \n",
       "mean            0.254265         0.272188              0.114606   \n",
       "std             0.157336         0.208624              0.065732   \n",
       "min             0.027290         0.000000              0.000000   \n",
       "25%             0.147200         0.114500              0.064930   \n",
       "50%             0.211900         0.226700              0.099930   \n",
       "75%             0.339100         0.382900              0.161400   \n",
       "max             1.058000         1.252000              0.291000   \n",
       "\n",
       "       worst symmetry  worst fractal dimension  \n",
       "count      569.000000               569.000000  \n",
       "mean         0.290076                 0.083946  \n",
       "std          0.061867                 0.018061  \n",
       "min          0.156500                 0.055040  \n",
       "25%          0.250400                 0.071460  \n",
       "50%          0.282200                 0.080040  \n",
       "75%          0.317900                 0.092080  \n",
       "max          0.663800                 0.207500  \n",
       "\n",
       "[8 rows x 30 columns]"
      ]
     },
     "execution_count": 8,
     "metadata": {},
     "output_type": "execute_result"
    }
   ],
   "source": [
    "\n",
    "df.describe()"
   ]
  },
  {
   "cell_type": "code",
   "execution_count": 9,
   "id": "2ed26ac5",
   "metadata": {},
   "outputs": [
    {
     "data": {
      "text/plain": [
       "1    357\n",
       "0    212\n",
       "dtype: int64"
      ]
     },
     "execution_count": 9,
     "metadata": {},
     "output_type": "execute_result"
    }
   ],
   "source": [
    "pd.Series(target).value_counts()"
   ]
  },
  {
   "cell_type": "code",
   "execution_count": 10,
   "id": "a49e0d6f",
   "metadata": {},
   "outputs": [
    {
     "data": {
      "text/plain": [
       "(array([212.,   0.,   0.,   0.,   0.,   0.,   0.,   0.,   0., 357.]),\n",
       " array([0. , 0.1, 0.2, 0.3, 0.4, 0.5, 0.6, 0.7, 0.8, 0.9, 1. ]),\n",
       " <BarContainer object of 10 artists>)"
      ]
     },
     "execution_count": 10,
     "metadata": {},
     "output_type": "execute_result"
    },
    {
     "data": {
      "image/png": "[encoded data removed]",
      "text/plain": [
       "<Figure size 432x288 with 1 Axes>"
      ]
     },
     "metadata": {
      "needs_background": "light"
     },
     "output_type": "display_data"
    }
   ],
   "source": [
    "plt.hist(target)"
   ]
  },
  {
   "cell_type": "code",
   "execution_count": 11,
   "id": "5b8db235",
   "metadata": {},
   "outputs": [
    {
     "data": {
      "text/plain": [
       "Text(0, 0.5, 'target')"
      ]
     },
     "execution_count": 11,
     "metadata": {},
     "output_type": "execute_result"
    },
    {
     "data": {
      "image/png": "[encoded data removed]",
      "text/plain": [
       "<Figure size 432x288 with 1 Axes>"
      ]
     },
     "metadata": {
      "needs_background": "light"
     },
     "output_type": "display_data"
    }
   ],
   "source": [
    "plt.scatter(x=data[:,0],y=target)\n",
    "plt.xlabel('mean radius')\n",
    "plt.ylabel('target')"
   ]
  },
  {
   "cell_type": "code",
   "execution_count": 12,
   "id": "dd18e4e0",
   "metadata": {},
   "outputs": [],
   "source": [
    "from sklearn.model_selection import train_test_split\n",
    "\n",
    "train_data, test_data, train_target, test_target = train_test_split(\n",
    "    data, target, train_size =0.7, random_state=2021)"
   ]
  },
  {
   "cell_type": "code",
   "execution_count": 13,
   "id": "e5f518f3",
   "metadata": {},
   "outputs": [
    {
     "name": "stdout",
     "output_type": "stream",
     "text": [
      "train data 개수 : 398\n",
      "test data 개수 : 171\n"
     ]
    }
   ],
   "source": [
    "print('train data 개수 :', len(train_data))\n",
    "print('test data 개수 :', len(test_data))"
   ]
  },
  {
   "cell_type": "code",
   "execution_count": 14,
   "id": "624cbacd",
   "metadata": {},
   "outputs": [],
   "source": [
    "from sklearn.linear_model import LinearRegression\n",
    "\n",
    "linear_regressor =LinearRegression()"
   ]
  },
  {
   "cell_type": "code",
   "execution_count": 15,
   "id": "e3218d04",
   "metadata": {},
   "outputs": [
    {
     "data": {
      "text/plain": [
       "LinearRegression()"
      ]
     },
     "execution_count": 15,
     "metadata": {},
     "output_type": "execute_result"
    }
   ],
   "source": [
    "linear_regressor.fit(train_data, train_target)"
   ]
  },
  {
   "cell_type": "code",
   "execution_count": 16,
   "id": "1d28bdf6",
   "metadata": {},
   "outputs": [],
   "source": [
    "train_pred = linear_regressor.predict(train_data)\n",
    "test_pred = linear_regressor.predict(test_data)"
   ]
  },
  {
   "cell_type": "code",
   "execution_count": 17,
   "id": "dec848ef",
   "metadata": {},
   "outputs": [
    {
     "data": {
      "text/plain": [
       "array([ 0.65079698, -0.33739828,  0.76995559,  1.07473181,  0.98981797,\n",
       "       -0.14066351,  0.91330917,  0.56950769,  1.12592692,  1.08459606])"
      ]
     },
     "execution_count": 17,
     "metadata": {},
     "output_type": "execute_result"
    }
   ],
   "source": [
    "train_pred[:10]"
   ]
  },
  {
   "cell_type": "code",
   "execution_count": 18,
   "id": "0d2a4f3b",
   "metadata": {},
   "outputs": [
    {
     "data": {
      "image/png": "[encoded data removed]",
      "text/plain": [
       "<Figure size 720x360 with 2 Axes>"
      ]
     },
     "metadata": {
      "needs_background": "light"
     },
     "output_type": "display_data"
    }
   ],
   "source": [
    "fig, axes = plt.subplots(nrows=1, ncols=2, figsize=(10,5))\n",
    "\n",
    "preds =[('train', train_data, train_pred),\n",
    "      ('test', test_data, test_pred),\n",
    "       ]\n",
    "\n",
    "for idx, (name, d, pred) in enumerate(preds):\n",
    "    ax = axes[idx]\n",
    "    ax.scatter(x=d[:,0], y=pred)\n",
    "    ax.axhline(0, color='red', linestyle='--')\n",
    "    ax.axhline(1, color='red', linestyle='--')\n",
    "    ax.set_xlabel('mean_radius')\n",
    "    ax.set_ylabel('predict')\n",
    "    ax.set_title(f'{name} Data')"
   ]
  },
  {
   "cell_type": "code",
   "execution_count": 19,
   "id": "53bd9a0f",
   "metadata": {},
   "outputs": [],
   "source": [
    "from sklearn.metrics import auc, roc_curve\n",
    "\n",
    "fpr, tpr, threshold = roc_curve(train_target, train_pred)\n",
    "auroc = auc(fpr, tpr)"
   ]
  },
  {
   "cell_type": "code",
   "execution_count": 20,
   "id": "e74da064",
   "metadata": {},
   "outputs": [
    {
     "data": {
      "text/plain": [
       "(array([0.        , 0.        , 0.        , 0.00675676, 0.00675676,\n",
       "        0.01351351, 0.01351351, 0.02027027, 0.02027027, 0.02702703,\n",
       "        0.02702703, 0.05405405, 0.05405405, 0.10810811, 0.10810811,\n",
       "        1.        ]),\n",
       " array([0.   , 0.004, 0.86 , 0.86 , 0.928, 0.928, 0.98 , 0.98 , 0.988,\n",
       "        0.988, 0.992, 0.992, 0.996, 0.996, 1.   , 1.   ]),\n",
       " array([ 2.3431729 ,  1.3431729 ,  0.74268219,  0.74137999,  0.69609319,\n",
       "         0.68867913,  0.63316544,  0.62480986,  0.58612053,  0.58042965,\n",
       "         0.57594808,  0.55461919,  0.53720045,  0.44439165,  0.44218128,\n",
       "        -0.56296658]))"
      ]
     },
     "execution_count": 20,
     "metadata": {},
     "output_type": "execute_result"
    }
   ],
   "source": [
    "roc_curve(train_target, train_pred)"
   ]
  },
  {
   "cell_type": "code",
   "execution_count": 21,
   "id": "ce41809d",
   "metadata": {
    "scrolled": true
   },
   "outputs": [
    {
     "data": {
      "text/plain": [
       "Text(0, 0.5, 'tpr')"
      ]
     },
     "execution_count": 21,
     "metadata": {},
     "output_type": "execute_result"
    },
    {
     "data": {
      "image/png": "[encoded data removed]",
      "text/plain": [
       "<Figure size 432x288 with 1 Axes>"
      ]
     },
     "metadata": {
      "needs_background": "light"
     },
     "output_type": "display_data"
    }
   ],
   "source": [
    "plt.plot(fpr,tpr)\n",
    "plt.xlabel('fpr')\n",
    "plt.ylabel('tpr')"
   ]
  },
  {
   "cell_type": "code",
   "execution_count": 22,
   "id": "20b8635a",
   "metadata": {
    "scrolled": true
   },
   "outputs": [
    {
     "name": "stdout",
     "output_type": "stream",
     "text": [
      "AUROC : 0.9979\n"
     ]
    }
   ],
   "source": [
    "print(f'AUROC : {auroc:.4f}')"
   ]
  },
  {
   "cell_type": "code",
   "execution_count": 23,
   "id": "2b1abbf2",
   "metadata": {},
   "outputs": [
    {
     "name": "stdout",
     "output_type": "stream",
     "text": [
      "best threshold is 0.5861\n",
      "best threshold sensirivity 0.9880\n",
      "best threshold specificty 0.9797\n",
      "best threshold j 0.9677\n"
     ]
    }
   ],
   "source": [
    "J=tpr-fpr\n",
    "idx = np.argmax(J)\n",
    "best_thresh = threshold[idx]\n",
    "print(f'best threshold is {best_thresh:.4f}')\n",
    "print(f'best threshold sensirivity {tpr[idx]:.4f}')\n",
    "print(f'best threshold specificty {1-fpr[idx]:.4f}')\n",
    "print(f'best threshold j {J[idx]:.4f}')"
   ]
  },
  {
   "cell_type": "code",
   "execution_count": 24,
   "id": "c3f97de0",
   "metadata": {},
   "outputs": [
    {
     "data": {
      "text/plain": [
       "((0.02027027027027027, 0.02027027027027027), (0.02027027027027027, 0.988))"
      ]
     },
     "execution_count": 24,
     "metadata": {},
     "output_type": "execute_result"
    }
   ],
   "source": [
    "(fpr[idx], fpr[idx]), (fpr[idx], tpr[idx])"
   ]
  },
  {
   "cell_type": "code",
   "execution_count": 25,
   "id": "c4e70d68",
   "metadata": {
    "scrolled": true
   },
   "outputs": [
    {
     "data": {
      "text/plain": [
       "[<matplotlib.lines.Line2D at 0x16a3d947970>]"
      ]
     },
     "execution_count": 25,
     "metadata": {},
     "output_type": "execute_result"
    },
    {
     "data": {
      "image/png": "[encoded data removed]",
      "text/plain": [
       "<Figure size 432x288 with 1 Axes>"
      ]
     },
     "metadata": {
      "needs_background": "light"
     },
     "output_type": "display_data"
    }
   ],
   "source": [
    "plt.plot(fpr,tpr)\n",
    "plt.plot(np.linspace(0,1,10), np.linspace(0,1,10))\n",
    "plt.plot((fpr[idx], fpr[idx]), (fpr[idx], tpr[idx]), color ='red', linestyle = '--')"
   ]
  },
  {
   "cell_type": "code",
   "execution_count": 26,
   "id": "36ab6149",
   "metadata": {},
   "outputs": [
    {
     "data": {
      "image/png": "[encoded data removed]",
      "text/plain": [
       "<Figure size 720x360 with 2 Axes>"
      ]
     },
     "metadata": {
      "needs_background": "light"
     },
     "output_type": "display_data"
    }
   ],
   "source": [
    "fig, axes = plt.subplots(nrows=1, ncols=2, figsize=(10,5))\n",
    "preds=[('Train', train_data, train_pred),\n",
    "      ('Test', test_data,test_pred)]\n",
    "for idx, (name, data, pred) in enumerate(preds):\n",
    "    ax=axes[idx]\n",
    "    ax.scatter(x=data[:,0], y=pred)\n",
    "    ax.axhline(0, color ='red', linestyle='--')\n",
    "    ax.axhline(1, color ='red', linestyle='--')\n",
    "    ax.set_xlabel('mean_radius')\n",
    "    ax.set_ylabel('predict')\n",
    "    ax.set_title(f'{name} data')\n",
    "    ax.axhline(best_thresh, color='blue')"
   ]
  },
  {
   "cell_type": "code",
   "execution_count": 27,
   "id": "cddf363d",
   "metadata": {},
   "outputs": [],
   "source": [
    "train_pred_label = list(map(int, (train_pred > best_thresh)))\n",
    "test_pred_label = list(map(int, (test_pred > best_thresh)))"
   ]
  },
  {
   "cell_type": "code",
   "execution_count": 28,
   "id": "d5b8d9e2",
   "metadata": {},
   "outputs": [],
   "source": [
    "from sklearn.metrics import accuracy_score\n",
    "\n",
    "linear_train_accuracy = accuracy_score(train_target, train_pred_label)\n",
    "linear_test_accuracy = accuracy_score(test_target, test_pred_label)"
   ]
  },
  {
   "cell_type": "markdown",
   "id": "3a6595d8",
   "metadata": {},
   "source": [
    "#### logistic"
   ]
  },
  {
   "cell_type": "code",
   "execution_count": 29,
   "id": "cf6a04be",
   "metadata": {},
   "outputs": [],
   "source": [
    "# logistic regresssion 하기전에 데이터 정규화, exp가 클경우 overflow가 일어날수 있음\n",
    "from sklearn.preprocessing import StandardScaler\n",
    "\n",
    "scaler=StandardScaler()"
   ]
  },
  {
   "cell_type": "markdown",
   "id": "e35ec28e",
   "metadata": {},
   "source": [
    "#### 정규화는 항상 train data를 이용해 학습하고, vaild, test 데이터를 변환해야한다.\n",
    "#### 모든 데이터를 한번에 학습할 경우 본적이 없는 vaild data의 평균과 분사이 반영되고 overfitting을 유발"
   ]
  },
  {
   "cell_type": "code",
   "execution_count": 30,
   "id": "717b9d21",
   "metadata": {},
   "outputs": [
    {
     "data": {
      "text/plain": [
       "StandardScaler()"
      ]
     },
     "execution_count": 30,
     "metadata": {},
     "output_type": "execute_result"
    }
   ],
   "source": [
    "scaler.fit(train_data)"
   ]
  },
  {
   "cell_type": "code",
   "execution_count": 34,
   "id": "07cbb099",
   "metadata": {},
   "outputs": [
    {
     "data": {
      "text/plain": [
       "array([[1.130e+01, 1.819e+01, 7.393e+01, ..., 1.218e-01, 3.308e-01,\n",
       "        1.297e-01],\n",
       "       [2.156e+01, 2.239e+01, 1.420e+02, ..., 2.216e-01, 2.060e-01,\n",
       "        7.115e-02],\n",
       "       [1.225e+01, 2.244e+01, 7.818e+01, ..., 6.335e-02, 3.100e-01,\n",
       "        8.203e-02],\n",
       "       ...,\n",
       "       [1.471e+01, 2.159e+01, 9.555e+01, ..., 1.834e-01, 3.698e-01,\n",
       "        1.094e-01],\n",
       "       [9.606e+00, 1.684e+01, 6.164e+01, ..., 8.120e-02, 2.982e-01,\n",
       "        9.825e-02],\n",
       "       [8.950e+00, 1.576e+01, 5.874e+01, ..., 3.846e-02, 1.652e-01,\n",
       "        7.722e-02]])"
      ]
     },
     "execution_count": 34,
     "metadata": {},
     "output_type": "execute_result"
    }
   ],
   "source": [
    "train_data"
   ]
  },
  {
   "cell_type": "code",
   "execution_count": 32,
   "id": "dd420653",
   "metadata": {},
   "outputs": [],
   "source": [
    "scaled_train_data = scaler.transform(train_data)\n",
    "scaled_test_data = scaler.transform(test_data)"
   ]
  },
  {
   "cell_type": "code",
   "execution_count": 33,
   "id": "63f1e1a2",
   "metadata": {},
   "outputs": [
    {
     "data": {
      "text/plain": [
       "array([[-0.77241528, -0.25350148, -0.71766034, ...,  0.09272995,\n",
       "         0.71316397,  2.55107451],\n",
       "       [ 2.01040187,  0.71869911,  1.96629776, ...,  1.60064734,\n",
       "        -1.44299713, -0.74501615],\n",
       "       [-0.51474703,  0.73027293, -0.55008547, ..., -0.79041406,\n",
       "         0.35380378, -0.13252313],\n",
       "       ...,\n",
       "       [ 0.15247814,  0.53351805,  0.13480292, ...,  1.02346854,\n",
       "         1.38696431,  1.40827963],\n",
       "       [-1.23187846, -0.56599453, -1.20224746, ..., -0.5207114 ,\n",
       "         0.14993599,  0.78058687],\n",
       "       [-1.40980518, -0.81598896, -1.31659267, ..., -1.16648684,\n",
       "        -2.14789595, -0.40330359]])"
      ]
     },
     "execution_count": 33,
     "metadata": {},
     "output_type": "execute_result"
    }
   ],
   "source": [
    "scaler.transform(train_data)"
   ]
  },
  {
   "cell_type": "markdown",
   "id": "f73e727d",
   "metadata": {},
   "source": [
    "#### 학습 \n",
    "- 이제 표준화된 데이터로 logistic regression 학습"
   ]
  },
  {
   "cell_type": "code",
   "execution_count": 35,
   "id": "be413156",
   "metadata": {},
   "outputs": [],
   "source": [
    "from sklearn.linear_model import LogisticRegression\n",
    "\n",
    "logit_regressor = LogisticRegression()"
   ]
  },
  {
   "cell_type": "code",
   "execution_count": 37,
   "id": "c74ad6d7",
   "metadata": {},
   "outputs": [
    {
     "data": {
      "text/plain": [
       "LogisticRegression()"
      ]
     },
     "execution_count": 37,
     "metadata": {},
     "output_type": "execute_result"
    }
   ],
   "source": [
    "logit_regressor.fit(scaled_train_data, train_target)"
   ]
  },
  {
   "cell_type": "markdown",
   "id": "296affa1",
   "metadata": {},
   "source": [
    "#### 예측\n",
    "- classification 을 하는 모델의 경우 예측을 하는 방법은 두 가지\n",
    "1. predict\n",
    "2. predict_proba\n",
    "predict 는 해당 데이터가 어떤 class 로 분류할지 바로 알려줌\n",
    "predict_proba는 각 class에 속할 확률을 보여줍니다."
   ]
  },
  {
   "cell_type": "code",
   "execution_count": 39,
   "id": "76e966dc",
   "metadata": {},
   "outputs": [],
   "source": [
    "train_pred = logit_regressor.predict(scaled_train_data)\n",
    "test_pred = logit_regressor.predict(scaled_test_data)"
   ]
  },
  {
   "cell_type": "code",
   "execution_count": 40,
   "id": "afcaab1f",
   "metadata": {},
   "outputs": [
    {
     "data": {
      "text/plain": [
       "array([1, 0, 1, 1, 1, 0, 1, 0, 1, 1])"
      ]
     },
     "execution_count": 40,
     "metadata": {},
     "output_type": "execute_result"
    }
   ],
   "source": [
    "train_pred[:10]"
   ]
  },
  {
   "cell_type": "code",
   "execution_count": 41,
   "id": "caa03a62",
   "metadata": {},
   "outputs": [],
   "source": [
    "train_pred_logit = logit_regressor.predict_proba(scaled_train_data)\n",
    "test_pred_logit =logit_regressor.predict_proba(scaled_test_data)"
   ]
  },
  {
   "cell_type": "code",
   "execution_count": 42,
   "id": "901ff469",
   "metadata": {},
   "outputs": [
    {
     "data": {
      "text/plain": [
       "array([[9.77486880e-03, 9.90225131e-01],\n",
       "       [9.99999999e-01, 1.10444571e-09],\n",
       "       [2.00315051e-02, 9.79968495e-01],\n",
       "       [1.74273407e-06, 9.99998257e-01],\n",
       "       [4.94023919e-04, 9.99505976e-01]])"
      ]
     },
     "execution_count": 42,
     "metadata": {},
     "output_type": "execute_result"
    }
   ],
   "source": [
    "train_pred_logit[:5]"
   ]
  },
  {
   "cell_type": "code",
   "execution_count": 43,
   "id": "63748775",
   "metadata": {},
   "outputs": [
    {
     "data": {
      "text/plain": [
       "array([0.00977487, 0.99022513])"
      ]
     },
     "execution_count": 43,
     "metadata": {},
     "output_type": "execute_result"
    }
   ],
   "source": [
    "train_pred_logit[0]"
   ]
  },
  {
   "cell_type": "code",
   "execution_count": null,
   "id": "d4e300c3",
   "metadata": {},
   "outputs": [],
   "source": []
  }
 ],
 "metadata": {
  "kernelspec": {
   "display_name": "Python 3",
   "language": "python",
   "name": "python3"
  },
  "language_info": {
   "codemirror_mode": {
    "name": "ipython",
    "version": 3
   },
   "file_extension": ".py",
   "mimetype": "text/x-python",
   "name": "python",
   "nbconvert_exporter": "python",
   "pygments_lexer": "ipython3",
   "version": "3.8.8"
  }
 },
 "nbformat": 4,
 "nbformat_minor": 5
}
