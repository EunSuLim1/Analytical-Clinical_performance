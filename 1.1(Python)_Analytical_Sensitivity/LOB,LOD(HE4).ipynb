{
 "cells": [
  {
   "cell_type": "code",
   "execution_count": 2,
   "id": "77199a9b",
   "metadata": {},
   "outputs": [
    {
     "name": "stdout",
     "output_type": "stream",
     "text": [
      "Requirement already satisfied: mlxtend in c:\\users\\pcl\\anaconda3\\lib\\site-packages (0.19.0)\n",
      "Requirement already satisfied: matplotlib>=3.0.0 in c:\\users\\pcl\\anaconda3\\lib\\site-packages (from mlxtend) (3.3.4)\n",
      "Requirement already satisfied: pandas>=0.24.2 in c:\\users\\pcl\\anaconda3\\lib\\site-packages (from mlxtend) (1.2.4)\n",
      "Requirement already satisfied: scikit-learn>=0.20.3 in c:\\users\\pcl\\anaconda3\\lib\\site-packages (from mlxtend) (0.24.1)\n",
      "Requirement already satisfied: setuptools in c:\\users\\pcl\\anaconda3\\lib\\site-packages (from mlxtend) (52.0.0.post20210125)\n",
      "Requirement already satisfied: numpy>=1.16.2 in c:\\users\\pcl\\anaconda3\\lib\\site-packages (from mlxtend) (1.20.1)\n",
      "Requirement already satisfied: joblib>=0.13.2 in c:\\users\\pcl\\anaconda3\\lib\\site-packages (from mlxtend) (1.0.1)\n",
      "Requirement already satisfied: scipy>=1.2.1 in c:\\users\\pcl\\anaconda3\\lib\\site-packages (from mlxtend) (1.6.2)\n",
      "Requirement already satisfied: cycler>=0.10 in c:\\users\\pcl\\anaconda3\\lib\\site-packages (from matplotlib>=3.0.0->mlxtend) (0.10.0)\n",
      "Requirement already satisfied: pyparsing!=2.0.4,!=2.1.2,!=2.1.6,>=2.0.3 in c:\\users\\pcl\\anaconda3\\lib\\site-packages (from matplotlib>=3.0.0->mlxtend) (2.4.7)\n",
      "Requirement already satisfied: pillow>=6.2.0 in c:\\users\\pcl\\anaconda3\\lib\\site-packages (from matplotlib>=3.0.0->mlxtend) (8.2.0)\n",
      "Requirement already satisfied: python-dateutil>=2.1 in c:\\users\\pcl\\anaconda3\\lib\\site-packages (from matplotlib>=3.0.0->mlxtend) (2.8.1)\n",
      "Requirement already satisfied: kiwisolver>=1.0.1 in c:\\users\\pcl\\anaconda3\\lib\\site-packages (from matplotlib>=3.0.0->mlxtend) (1.3.1)\n",
      "Requirement already satisfied: six in c:\\users\\pcl\\anaconda3\\lib\\site-packages (from cycler>=0.10->matplotlib>=3.0.0->mlxtend) (1.15.0)\n",
      "Requirement already satisfied: pytz>=2017.3 in c:\\users\\pcl\\anaconda3\\lib\\site-packages (from pandas>=0.24.2->mlxtend) (2021.1)\n",
      "Requirement already satisfied: threadpoolctl>=2.0.0 in c:\\users\\pcl\\anaconda3\\lib\\site-packages (from scikit-learn>=0.20.3->mlxtend) (2.1.0)\n"
     ]
    }
   ],
   "source": [
    "import pandas as pd\n",
    "import seaborn as sns\n",
    "import matplotlib as mpl\n",
    "import scipy.stats as stats\n",
    "import random\n",
    "import numpy as np\n",
    "import math\n",
    "!pip install mlxtend\n",
    "from mlxtend.preprocessing import TransactionEncoder\n",
    "from mlxtend.frequent_patterns import apriori"
   ]
  },
  {
   "cell_type": "code",
   "execution_count": 14,
   "id": "93f7be4b",
   "metadata": {},
   "outputs": [
    {
     "name": "stdout",
     "output_type": "stream",
     "text": [
      "(72, 10)\n"
     ]
    },
    {
     "data": {
      "text/html": [
       "<div>\n",
       "<style scoped>\n",
       "    .dataframe tbody tr th:only-of-type {\n",
       "        vertical-align: middle;\n",
       "    }\n",
       "\n",
       "    .dataframe tbody tr th {\n",
       "        vertical-align: top;\n",
       "    }\n",
       "\n",
       "    .dataframe thead th {\n",
       "        text-align: right;\n",
       "    }\n",
       "</style>\n",
       "<table border=\"1\" class=\"dataframe\">\n",
       "  <thead>\n",
       "    <tr style=\"text-align: right;\">\n",
       "      <th></th>\n",
       "      <th>Result.no</th>\n",
       "      <th>Day</th>\n",
       "      <th>Lot</th>\n",
       "      <th>Sample</th>\n",
       "      <th>rep</th>\n",
       "      <th>Blank_S/G</th>\n",
       "      <th>Blank_Conc</th>\n",
       "      <th>Blank_S/G(0.5)</th>\n",
       "      <th>Blank_Conc(0.5s)</th>\n",
       "      <th>rank</th>\n",
       "    </tr>\n",
       "  </thead>\n",
       "  <tbody>\n",
       "    <tr>\n",
       "      <th>0</th>\n",
       "      <td>1.0</td>\n",
       "      <td>1.0</td>\n",
       "      <td>1.0</td>\n",
       "      <td>Bovine</td>\n",
       "      <td>1.0</td>\n",
       "      <td>1.313579</td>\n",
       "      <td>0.260000</td>\n",
       "      <td>1.176635</td>\n",
       "      <td>0.31</td>\n",
       "      <td>68.0</td>\n",
       "    </tr>\n",
       "    <tr>\n",
       "      <th>1</th>\n",
       "      <td>2.0</td>\n",
       "      <td>1.0</td>\n",
       "      <td>1.0</td>\n",
       "      <td>Goat</td>\n",
       "      <td>1.0</td>\n",
       "      <td>1.211673</td>\n",
       "      <td>0.160000</td>\n",
       "      <td>1.069746</td>\n",
       "      <td>0.1</td>\n",
       "      <td>15.0</td>\n",
       "    </tr>\n",
       "    <tr>\n",
       "      <th>2</th>\n",
       "      <td>3.0</td>\n",
       "      <td>1.0</td>\n",
       "      <td>1.0</td>\n",
       "      <td>Horse</td>\n",
       "      <td>1.0</td>\n",
       "      <td>1.264356</td>\n",
       "      <td>0.210000</td>\n",
       "      <td>1.127301</td>\n",
       "      <td>0.2</td>\n",
       "      <td>53.0</td>\n",
       "    </tr>\n",
       "    <tr>\n",
       "      <th>3</th>\n",
       "      <td>4.0</td>\n",
       "      <td>1.0</td>\n",
       "      <td>1.0</td>\n",
       "      <td>CalF</td>\n",
       "      <td>1.0</td>\n",
       "      <td>1.072208</td>\n",
       "      <td>0.040000</td>\n",
       "      <td>1.048079</td>\n",
       "      <td>0.06</td>\n",
       "      <td>5.0</td>\n",
       "    </tr>\n",
       "    <tr>\n",
       "      <th>4</th>\n",
       "      <td>5.0</td>\n",
       "      <td>1.0</td>\n",
       "      <td>1.0</td>\n",
       "      <td>10% BSA</td>\n",
       "      <td>1.0</td>\n",
       "      <td>1.335059</td>\n",
       "      <td>0.280000</td>\n",
       "      <td>1.109935</td>\n",
       "      <td>0.17</td>\n",
       "      <td>39.0</td>\n",
       "    </tr>\n",
       "    <tr>\n",
       "      <th>...</th>\n",
       "      <td>...</td>\n",
       "      <td>...</td>\n",
       "      <td>...</td>\n",
       "      <td>...</td>\n",
       "      <td>...</td>\n",
       "      <td>...</td>\n",
       "      <td>...</td>\n",
       "      <td>...</td>\n",
       "      <td>...</td>\n",
       "      <td>...</td>\n",
       "    </tr>\n",
       "    <tr>\n",
       "      <th>67</th>\n",
       "      <td>68.0</td>\n",
       "      <td>3.0</td>\n",
       "      <td>2.0</td>\n",
       "      <td>Goat</td>\n",
       "      <td>2.0</td>\n",
       "      <td>1.164185</td>\n",
       "      <td>0.143171</td>\n",
       "      <td>1.051318</td>\n",
       "      <td>0.052964</td>\n",
       "      <td>4.0</td>\n",
       "    </tr>\n",
       "    <tr>\n",
       "      <th>68</th>\n",
       "      <td>69.0</td>\n",
       "      <td>3.0</td>\n",
       "      <td>2.0</td>\n",
       "      <td>Horse</td>\n",
       "      <td>2.0</td>\n",
       "      <td>1.201729</td>\n",
       "      <td>0.186560</td>\n",
       "      <td>1.113810</td>\n",
       "      <td>0.155737</td>\n",
       "      <td>33.0</td>\n",
       "    </tr>\n",
       "    <tr>\n",
       "      <th>69</th>\n",
       "      <td>70.0</td>\n",
       "      <td>3.0</td>\n",
       "      <td>2.0</td>\n",
       "      <td>CalF</td>\n",
       "      <td>2.0</td>\n",
       "      <td>1.259824</td>\n",
       "      <td>0.258127</td>\n",
       "      <td>1.090731</td>\n",
       "      <td>0.114935</td>\n",
       "      <td>19.0</td>\n",
       "    </tr>\n",
       "    <tr>\n",
       "      <th>70</th>\n",
       "      <td>71.0</td>\n",
       "      <td>3.0</td>\n",
       "      <td>2.0</td>\n",
       "      <td>10% BSA</td>\n",
       "      <td>2.0</td>\n",
       "      <td>1.196076</td>\n",
       "      <td>0.179872</td>\n",
       "      <td>1.066294</td>\n",
       "      <td>0.075196</td>\n",
       "      <td>8.0</td>\n",
       "    </tr>\n",
       "    <tr>\n",
       "      <th>71</th>\n",
       "      <td>72.0</td>\n",
       "      <td>3.0</td>\n",
       "      <td>2.0</td>\n",
       "      <td>SD</td>\n",
       "      <td>2.0</td>\n",
       "      <td>1.143027</td>\n",
       "      <td>0.119866</td>\n",
       "      <td>1.130906</td>\n",
       "      <td>0.187717</td>\n",
       "      <td>48.0</td>\n",
       "    </tr>\n",
       "  </tbody>\n",
       "</table>\n",
       "<p>72 rows × 10 columns</p>\n",
       "</div>"
      ],
      "text/plain": [
       "    Result.no  Day  Lot   Sample  rep  Blank_S/G  Blank_Conc  Blank_S/G(0.5)  \\\n",
       "0         1.0  1.0  1.0   Bovine  1.0   1.313579    0.260000        1.176635   \n",
       "1         2.0  1.0  1.0     Goat  1.0   1.211673    0.160000        1.069746   \n",
       "2         3.0  1.0  1.0    Horse  1.0   1.264356    0.210000        1.127301   \n",
       "3         4.0  1.0  1.0     CalF  1.0   1.072208    0.040000        1.048079   \n",
       "4         5.0  1.0  1.0  10% BSA  1.0   1.335059    0.280000        1.109935   \n",
       "..        ...  ...  ...      ...  ...        ...         ...             ...   \n",
       "67       68.0  3.0  2.0     Goat  2.0   1.164185    0.143171        1.051318   \n",
       "68       69.0  3.0  2.0    Horse  2.0   1.201729    0.186560        1.113810   \n",
       "69       70.0  3.0  2.0     CalF  2.0   1.259824    0.258127        1.090731   \n",
       "70       71.0  3.0  2.0  10% BSA  2.0   1.196076    0.179872        1.066294   \n",
       "71       72.0  3.0  2.0       SD  2.0   1.143027    0.119866        1.130906   \n",
       "\n",
       "   Blank_Conc(0.5s)  rank  \n",
       "0              0.31  68.0  \n",
       "1               0.1  15.0  \n",
       "2               0.2  53.0  \n",
       "3              0.06   5.0  \n",
       "4              0.17  39.0  \n",
       "..              ...   ...  \n",
       "67         0.052964   4.0  \n",
       "68         0.155737  33.0  \n",
       "69         0.114935  19.0  \n",
       "70         0.075196   8.0  \n",
       "71         0.187717  48.0  \n",
       "\n",
       "[72 rows x 10 columns]"
      ]
     },
     "execution_count": 14,
     "metadata": {},
     "output_type": "execute_result"
    }
   ],
   "source": [
    "df2 = pd.read_excel(\"F:\\ROMA_LOB_LOD.xlsx\", sheet_name=0).dropna()\n",
    "print(df2.shape)\n",
    "df2"
   ]
  },
  {
   "cell_type": "code",
   "execution_count": 3,
   "id": "bd6723c5",
   "metadata": {},
   "outputs": [],
   "source": [
    "# blank_random = [random.random() for i in range(1,61)]\n",
    "# rep = [i for i in range(1,61)]\n",
    "# df2 = pd.DataFrame({'rep': rep, 'Blank_Conc' : blank_random})\n",
    "# df2.head(3)"
   ]
  },
  {
   "cell_type": "code",
   "execution_count": 4,
   "id": "e2c87763",
   "metadata": {},
   "outputs": [],
   "source": [
    "# df2=df1.rename(columns={'Unnamed: 1' : 'rep'}).drop(columns=['Unnamed: 0']).set_index('rep')"
   ]
  },
  {
   "cell_type": "code",
   "execution_count": 15,
   "id": "cceed42b",
   "metadata": {},
   "outputs": [
    {
     "data": {
      "text/plain": [
       "<AxesSubplot:xlabel='Blank_Conc', ylabel='Count'>"
      ]
     },
     "execution_count": 15,
     "metadata": {},
     "output_type": "execute_result"
    },
    {
     "data": {
      "image/png": "[encoded data removed]",
      "text/plain": [
       "<Figure size 432x288 with 1 Axes>"
      ]
     },
     "metadata": {
      "needs_background": "light"
     },
     "output_type": "display_data"
    }
   ],
   "source": [
    "sns.histplot(data=df2, x='Blank_Conc', kde = True)"
   ]
  },
  {
   "cell_type": "code",
   "execution_count": 16,
   "id": "6a4787df",
   "metadata": {},
   "outputs": [
    {
     "data": {
      "text/plain": [
       "0.7800705193623075"
      ]
     },
     "execution_count": 16,
     "metadata": {},
     "output_type": "execute_result"
    }
   ],
   "source": [
    "# 정규성 검정, 귀무가설: 정규성이다. 대립가설: 정규성 아니다.\n",
    "p_val=stats.normaltest(df2['Blank_Conc'])[1]\n",
    "p_val"
   ]
  },
  {
   "cell_type": "code",
   "execution_count": 7,
   "id": "610224e1",
   "metadata": {
    "scrolled": true
   },
   "outputs": [],
   "source": [
    "# print(len(df2['rep']))\n",
    "# print(np.mean(df2['Blank']))\n",
    "# print(np.std(df2['Blank']))"
   ]
  },
  {
   "cell_type": "code",
   "execution_count": 19,
   "id": "fcce012b",
   "metadata": {
    "scrolled": true
   },
   "outputs": [],
   "source": [
    "df3 = df2.sort_values(by= 'Blank_Conc')"
   ]
  },
  {
   "cell_type": "markdown",
   "id": "49a37218",
   "metadata": {},
   "source": [
    "### LOB\n",
    " 1. two reagent lot\n",
    " 2. one instrument system\n",
    " 3. Tree days\n",
    " 4. Four blank sample -> LOB\n",
    " 5. Four low measurand sample (positive) -> LOD\n",
    " 6. Two replicates per sample\n",
    " 7. 60 total blank (low sample) replicates per reagent , "
   ]
  },
  {
   "cell_type": "markdown",
   "id": "152fae72",
   "metadata": {},
   "source": [
    "#### 실수에서 정수부분 소수 부분 분리하는 함수 marh.modf\n",
    "a = 1.2345\n",
    "math.modf(a)[0]"
   ]
  },
  {
   "cell_type": "code",
   "execution_count": 22,
   "id": "8ba66f86",
   "metadata": {
    "scrolled": true
   },
   "outputs": [],
   "source": [
    "df3['rank_position'] = df3['Blank_Conc'].rank(method='dense')\n",
    "df4=df3.reset_index()\n",
    "# df4=df3[['Blank_Conc', 'rank_position']].loc[(df3['rank_position'] == 30)]\n",
    "# df4"
   ]
  },
  {
   "cell_type": "code",
   "execution_count": 23,
   "id": "e35529ee",
   "metadata": {},
   "outputs": [
    {
     "name": "stdout",
     "output_type": "stream",
     "text": [
      "LOB는 0.26 입니다.\n"
     ]
    }
   ],
   "source": [
    "# LOB ,a=bate = type\n",
    "# K= Sample 종류 식을 생각해보지\n",
    "B = len(df2['rep'])  # Total result of blank samples\n",
    "M=df4['Blank_Conc'].mean()\n",
    "SD=df4['Blank_Conc'].std()\n",
    "if p_val > 0.05:\n",
    "    R_P =  (0.5+B*0.95)\n",
    "    if type(R_P) == float:\n",
    "        f=math.modf(R_P)[0]\n",
    "        n=math.modf(R_P)[1]\n",
    "        LoB = df4['Blank_Conc'][n-1]+f*(df4['Blank_Conc'][n-1]-df4['Blank_Conc'][n-2])\n",
    "        print('LOB는 %s 입니다.' %round(LoB,3))\n",
    "else:\n",
    "    c = (1.645 / (1-(1/(4*(B-6)))))\n",
    "    LoB = M + c*SD\n",
    "    print('LOB는 %s 입니다.' %round(LoB,3))\n",
    "        \n",
    "#         df4=df3[['Blank', 'rank_position']].loc[(df3['rank_position'] == round(rank_LoB))]\n",
    "#         result = df4['rank_position'].tolist()[0]\n",
    "#         print(df4)"
   ]
  },
  {
   "cell_type": "code",
   "execution_count": 11,
   "id": "3659e8fa",
   "metadata": {},
   "outputs": [],
   "source": [
    "# LOD 5 day, 5 sample, 최소 sample lot day 합쳐서 40 반복\n",
    "\n",
    "# randam_LOD = [random.uniform(1,5) for i in range(1,201)]\n",
    "# rep_LOD = [i for i in range(1,201)]\n",
    "# df5 = pd.DataFrame({'rep':rep_LOD, 'Low_sample':randam_LOD})\n",
    "# df5.head(10)"
   ]
  },
  {
   "cell_type": "code",
   "execution_count": 26,
   "id": "4365fb1e",
   "metadata": {},
   "outputs": [
    {
     "data": {
      "text/html": [
       "<div>\n",
       "<style scoped>\n",
       "    .dataframe tbody tr th:only-of-type {\n",
       "        vertical-align: middle;\n",
       "    }\n",
       "\n",
       "    .dataframe tbody tr th {\n",
       "        vertical-align: top;\n",
       "    }\n",
       "\n",
       "    .dataframe thead th {\n",
       "        text-align: right;\n",
       "    }\n",
       "</style>\n",
       "<table border=\"1\" class=\"dataframe\">\n",
       "  <thead>\n",
       "    <tr style=\"text-align: right;\">\n",
       "      <th></th>\n",
       "      <th>LOT1</th>\n",
       "      <th>LOT2</th>\n",
       "    </tr>\n",
       "  </thead>\n",
       "  <tbody>\n",
       "    <tr>\n",
       "      <th>0</th>\n",
       "      <td>2.515356</td>\n",
       "      <td>1.413715</td>\n",
       "    </tr>\n",
       "    <tr>\n",
       "      <th>1</th>\n",
       "      <td>1.105887</td>\n",
       "      <td>3.517155</td>\n",
       "    </tr>\n",
       "    <tr>\n",
       "      <th>2</th>\n",
       "      <td>0.481196</td>\n",
       "      <td>1.222709</td>\n",
       "    </tr>\n",
       "    <tr>\n",
       "      <th>3</th>\n",
       "      <td>0.531692</td>\n",
       "      <td>0.291668</td>\n",
       "    </tr>\n",
       "    <tr>\n",
       "      <th>4</th>\n",
       "      <td>2.035649</td>\n",
       "      <td>1.171695</td>\n",
       "    </tr>\n",
       "    <tr>\n",
       "      <th>5</th>\n",
       "      <td>1.153459</td>\n",
       "      <td>1.342437</td>\n",
       "    </tr>\n",
       "  </tbody>\n",
       "</table>\n",
       "</div>"
      ],
      "text/plain": [
       "       LOT1      LOT2\n",
       "0  2.515356  1.413715\n",
       "1  1.105887  3.517155\n",
       "2  0.481196  1.222709\n",
       "3  0.531692  0.291668\n",
       "4  2.035649  1.171695\n",
       "5  1.153459  1.342437"
      ]
     },
     "execution_count": 26,
     "metadata": {},
     "output_type": "execute_result"
    }
   ],
   "source": [
    "LOD_raw = pd.read_excel(\"F:\\ROMA_LOB_LOD.xlsx\", sheet_name=1)\n",
    "lot1 = (LOD_raw['Lot'] == 1)\n",
    "lot2 =(LOD_raw['Lot'] == 2)\n",
    "cond1 = (LOD_raw['Sample'] == 'L1')\n",
    "cond2 = (LOD_raw['Sample'] == 'L2')\n",
    "cond3 = (LOD_raw['Sample'] == 'L3')\n",
    "cond4 = (LOD_raw['Sample'] == 'L4')\n",
    "cond5 = (LOD_raw['Sample'] == 'L5')\n",
    "cond6 = (LOD_raw['Sample'] == 'L6')\n",
    "\n",
    "lot1_L1 = LOD_raw.loc[lot1&cond1]\n",
    "lot1_L2 = LOD_raw.loc[lot1&cond2]\n",
    "lot1_L3 = LOD_raw.loc[lot1&cond3]\n",
    "lot1_L4 = LOD_raw.loc[lot1&cond4]\n",
    "lot1_L5 = LOD_raw.loc[lot1&cond5]\n",
    "lot1_L6 = LOD_raw.loc[lot1&cond6]\n",
    "\n",
    "lot2_L1 = LOD_raw.loc[lot2&cond1]\n",
    "lot2_L2 = LOD_raw.loc[lot2&cond2]\n",
    "lot2_L3 = LOD_raw.loc[lot2&cond3]\n",
    "lot2_L4 = LOD_raw.loc[lot2&cond4]\n",
    "lot2_L5 = LOD_raw.loc[lot2&cond5]\n",
    "lot2_L6 = LOD_raw.loc[lot2&cond6]\n",
    "\n",
    "SD1_1=lot1_L1['LOW_Conc'].std()\n",
    "SD1_2=lot1_L2['LOW_Conc'].std()\n",
    "SD1_3=lot1_L3['LOW_Conc'].std()\n",
    "SD1_4=lot1_L4['LOW_Conc'].std()\n",
    "SD1_5=lot1_L5['LOW_Conc'].std()\n",
    "SD1_6=lot1_L6['LOW_Conc'].std()\n",
    "\n",
    "SD2_1=lot2_L1['LOW_Conc'].std()\n",
    "SD2_2=lot2_L2['LOW_Conc'].std()\n",
    "SD2_3=lot2_L3['LOW_Conc'].std()\n",
    "SD2_4=lot2_L4['LOW_Conc'].std()\n",
    "SD2_5=lot2_L5['LOW_Conc'].std()\n",
    "SD2_6=lot2_L6['LOW_Conc'].std()\n",
    "\n",
    "LOD_SD = pd.DataFrame({'LOT1':[SD1_1,SD1_2,SD1_3,SD1_4,SD1_5,SD1_6], 'LOT2' : [SD2_1,SD2_2,SD2_3,SD2_4,SD2_5,SD2_6]})\n",
    "# LOD_raw.loc(cond1)\n",
    "LOD_SD"
   ]
  },
  {
   "cell_type": "code",
   "execution_count": 27,
   "id": "68f4b954",
   "metadata": {},
   "outputs": [
    {
     "data": {
      "text/plain": [
       "<AxesSubplot:xlabel='LOW_Conc', ylabel='Count'>"
      ]
     },
     "execution_count": 27,
     "metadata": {},
     "output_type": "execute_result"
    },
    {
     "data": {
      "image/png": "[encoded data removed]",
      "text/plain": [
       "<Figure size 432x288 with 1 Axes>"
      ]
     },
     "metadata": {
      "needs_background": "light"
     },
     "output_type": "display_data"
    }
   ],
   "source": [
    "# 정규성 확인\n",
    "sns.histplot(data=LOD_raw, x='LOW_Conc', kde=True)"
   ]
  },
  {
   "cell_type": "code",
   "execution_count": 28,
   "id": "cbb54450",
   "metadata": {},
   "outputs": [
    {
     "data": {
      "text/plain": [
       "0.004452175888064227"
      ]
     },
     "execution_count": 28,
     "metadata": {},
     "output_type": "execute_result"
    }
   ],
   "source": [
    "# 정규성 검정 : 귀무-정규성을 갖는다\n",
    "\n",
    "p_low_sample = stats.normaltest(LOD_raw['LOW_Conc'])\n",
    "p_low_sample[1]"
   ]
  },
  {
   "cell_type": "code",
   "execution_count": 19,
   "id": "a6c76e60",
   "metadata": {},
   "outputs": [],
   "source": [
    "# L : total number, J : Low sample numder\n",
    "L=len(LOD_raw.index)\n",
    "J=LOD_raw['Sample'].nunique()\n",
    "N=LOD_raw['Sample'].value_counts()[0]\n",
    "\n",
    "LOT1_SDL= math.sqrt(np.sum((N-1)*LOD_SD**2)[0]/(N-1)*J)\n",
    "LOT2_SDL= math.sqrt(np.sum((N-1)*LOD_SD**2)[1]/(N-1)*J)"
   ]
  },
  {
   "cell_type": "code",
   "execution_count": 20,
   "id": "ee05e929",
   "metadata": {},
   "outputs": [
    {
     "name": "stdout",
     "output_type": "stream",
     "text": [
      "LoD 값은 19.944 입니다.\n"
     ]
    }
   ],
   "source": [
    "LOD_raw\n",
    "LOD_SD\n",
    "c = (1.645/(1-(1/(4*(L-N)))))\n",
    "LoD1 = LoB + c*LOT1_SDL\n",
    "LoD2 = LoB + c*LOT2_SDL\n",
    "\n",
    "print('LoD 값은 %s 입니다.' %round(max([LoD1,LoD2]),3))"
   ]
  }
 ],
 "metadata": {
  "kernelspec": {
   "display_name": "Python 3",
   "language": "python",
   "name": "python3"
  },
  "language_info": {
   "codemirror_mode": {
    "name": "ipython",
    "version": 3
   },
   "file_extension": ".py",
   "mimetype": "text/x-python",
   "name": "python",
   "nbconvert_exporter": "python",
   "pygments_lexer": "ipython3",
   "version": "3.8.8"
  }
 },
 "nbformat": 4,
 "nbformat_minor": 5
}
