{
 "cells": [
  {
   "cell_type": "code",
   "execution_count": 1,
   "id": "77199a9b",
   "metadata": {},
   "outputs": [
    {
     "name": "stdout",
     "output_type": "stream",
     "text": [
      "Requirement already satisfied: mlxtend in c:\\users\\pcl\\anaconda3\\lib\\site-packages (0.19.0)\n",
      "Requirement already satisfied: joblib>=0.13.2 in c:\\users\\pcl\\anaconda3\\lib\\site-packages (from mlxtend) (1.0.1)\n",
      "Requirement already satisfied: pandas>=0.24.2 in c:\\users\\pcl\\anaconda3\\lib\\site-packages (from mlxtend) (1.2.4)\n",
      "Requirement already satisfied: scipy>=1.2.1 in c:\\users\\pcl\\anaconda3\\lib\\site-packages (from mlxtend) (1.6.2)\n",
      "Requirement already satisfied: scikit-learn>=0.20.3 in c:\\users\\pcl\\anaconda3\\lib\\site-packages (from mlxtend) (0.24.1)\n",
      "Requirement already satisfied: setuptools in c:\\users\\pcl\\anaconda3\\lib\\site-packages (from mlxtend) (52.0.0.post20210125)\n",
      "Requirement already satisfied: numpy>=1.16.2 in c:\\users\\pcl\\anaconda3\\lib\\site-packages (from mlxtend) (1.20.1)\n",
      "Requirement already satisfied: matplotlib>=3.0.0 in c:\\users\\pcl\\anaconda3\\lib\\site-packages (from mlxtend) (3.3.4)\n",
      "Requirement already satisfied: python-dateutil>=2.1 in c:\\users\\pcl\\anaconda3\\lib\\site-packages (from matplotlib>=3.0.0->mlxtend) (2.8.1)\n",
      "Requirement already satisfied: pillow>=6.2.0 in c:\\users\\pcl\\anaconda3\\lib\\site-packages (from matplotlib>=3.0.0->mlxtend) (8.2.0)\n",
      "Requirement already satisfied: kiwisolver>=1.0.1 in c:\\users\\pcl\\anaconda3\\lib\\site-packages (from matplotlib>=3.0.0->mlxtend) (1.3.1)\n",
      "Requirement already satisfied: pyparsing!=2.0.4,!=2.1.2,!=2.1.6,>=2.0.3 in c:\\users\\pcl\\anaconda3\\lib\\site-packages (from matplotlib>=3.0.0->mlxtend) (2.4.7)\n",
      "Requirement already satisfied: cycler>=0.10 in c:\\users\\pcl\\anaconda3\\lib\\site-packages (from matplotlib>=3.0.0->mlxtend) (0.10.0)\n",
      "Requirement already satisfied: six in c:\\users\\pcl\\anaconda3\\lib\\site-packages (from cycler>=0.10->matplotlib>=3.0.0->mlxtend) (1.15.0)\n",
      "Requirement already satisfied: pytz>=2017.3 in c:\\users\\pcl\\anaconda3\\lib\\site-packages (from pandas>=0.24.2->mlxtend) (2021.1)\n",
      "Requirement already satisfied: threadpoolctl>=2.0.0 in c:\\users\\pcl\\anaconda3\\lib\\site-packages (from scikit-learn>=0.20.3->mlxtend) (2.1.0)\n"
     ]
    }
   ],
   "source": [
    "import pandas as pd\n",
    "import seaborn as sns\n",
    "import matplotlib as mpl\n",
    "import scipy.stats as stats\n",
    "import random\n",
    "import numpy as np\n",
    "import math\n",
    "!pip install mlxtend\n",
    "from mlxtend.preprocessing import TransactionEncoder\n",
    "from mlxtend.frequent_patterns import apriori"
   ]
  },
  {
   "cell_type": "code",
   "execution_count": 21,
   "id": "93f7be4b",
   "metadata": {},
   "outputs": [
    {
     "name": "stdout",
     "output_type": "stream",
     "text": [
      "(72, 8)\n"
     ]
    },
    {
     "data": {
      "text/html": [
       "<div>\n",
       "<style scoped>\n",
       "    .dataframe tbody tr th:only-of-type {\n",
       "        vertical-align: middle;\n",
       "    }\n",
       "\n",
       "    .dataframe tbody tr th {\n",
       "        vertical-align: top;\n",
       "    }\n",
       "\n",
       "    .dataframe thead th {\n",
       "        text-align: right;\n",
       "    }\n",
       "</style>\n",
       "<table border=\"1\" class=\"dataframe\">\n",
       "  <thead>\n",
       "    <tr style=\"text-align: right;\">\n",
       "      <th></th>\n",
       "      <th>Result.no</th>\n",
       "      <th>Day</th>\n",
       "      <th>Lot</th>\n",
       "      <th>Sample</th>\n",
       "      <th>rep</th>\n",
       "      <th>Blank_S/G</th>\n",
       "      <th>Blank_Conc</th>\n",
       "      <th>Rank</th>\n",
       "    </tr>\n",
       "  </thead>\n",
       "  <tbody>\n",
       "    <tr>\n",
       "      <th>0</th>\n",
       "      <td>1</td>\n",
       "      <td>1</td>\n",
       "      <td>1</td>\n",
       "      <td>Bovine</td>\n",
       "      <td>1</td>\n",
       "      <td>1.195652</td>\n",
       "      <td>1.01</td>\n",
       "      <td>9</td>\n",
       "    </tr>\n",
       "    <tr>\n",
       "      <th>1</th>\n",
       "      <td>2</td>\n",
       "      <td>1</td>\n",
       "      <td>1</td>\n",
       "      <td>Goat</td>\n",
       "      <td>1</td>\n",
       "      <td>1.241082</td>\n",
       "      <td>1.32</td>\n",
       "      <td>18</td>\n",
       "    </tr>\n",
       "    <tr>\n",
       "      <th>2</th>\n",
       "      <td>3</td>\n",
       "      <td>1</td>\n",
       "      <td>1</td>\n",
       "      <td>Horse</td>\n",
       "      <td>1</td>\n",
       "      <td>1.183984</td>\n",
       "      <td>0.93</td>\n",
       "      <td>6</td>\n",
       "    </tr>\n",
       "    <tr>\n",
       "      <th>3</th>\n",
       "      <td>4</td>\n",
       "      <td>1</td>\n",
       "      <td>1</td>\n",
       "      <td>CalF</td>\n",
       "      <td>1</td>\n",
       "      <td>1.047848</td>\n",
       "      <td>0.17</td>\n",
       "      <td>-23</td>\n",
       "    </tr>\n",
       "    <tr>\n",
       "      <th>4</th>\n",
       "      <td>5</td>\n",
       "      <td>1</td>\n",
       "      <td>1</td>\n",
       "      <td>10% BSA</td>\n",
       "      <td>1</td>\n",
       "      <td>1.331099</td>\n",
       "      <td>1.96</td>\n",
       "      <td>30</td>\n",
       "    </tr>\n",
       "    <tr>\n",
       "      <th>5</th>\n",
       "      <td>6</td>\n",
       "      <td>1</td>\n",
       "      <td>1</td>\n",
       "      <td>SD</td>\n",
       "      <td>1</td>\n",
       "      <td>1.242113</td>\n",
       "      <td>1.32</td>\n",
       "      <td>19</td>\n",
       "    </tr>\n",
       "    <tr>\n",
       "      <th>6</th>\n",
       "      <td>7</td>\n",
       "      <td>1</td>\n",
       "      <td>1</td>\n",
       "      <td>Bovine</td>\n",
       "      <td>2</td>\n",
       "      <td>1.168667</td>\n",
       "      <td>0.84</td>\n",
       "      <td>-1</td>\n",
       "    </tr>\n",
       "    <tr>\n",
       "      <th>7</th>\n",
       "      <td>8</td>\n",
       "      <td>1</td>\n",
       "      <td>1</td>\n",
       "      <td>Goat</td>\n",
       "      <td>2</td>\n",
       "      <td>1.136390</td>\n",
       "      <td>0.64</td>\n",
       "      <td>-12</td>\n",
       "    </tr>\n",
       "    <tr>\n",
       "      <th>8</th>\n",
       "      <td>9</td>\n",
       "      <td>1</td>\n",
       "      <td>1</td>\n",
       "      <td>Horse</td>\n",
       "      <td>2</td>\n",
       "      <td>1.163678</td>\n",
       "      <td>0.81</td>\n",
       "      <td>-3</td>\n",
       "    </tr>\n",
       "    <tr>\n",
       "      <th>9</th>\n",
       "      <td>10</td>\n",
       "      <td>1</td>\n",
       "      <td>1</td>\n",
       "      <td>CalF</td>\n",
       "      <td>2</td>\n",
       "      <td>1.152574</td>\n",
       "      <td>0.74</td>\n",
       "      <td>-8</td>\n",
       "    </tr>\n",
       "  </tbody>\n",
       "</table>\n",
       "</div>"
      ],
      "text/plain": [
       "   Result.no  Day  Lot   Sample  rep  Blank_S/G  Blank_Conc  Rank\n",
       "0          1    1    1   Bovine    1   1.195652        1.01     9\n",
       "1          2    1    1     Goat    1   1.241082        1.32    18\n",
       "2          3    1    1    Horse    1   1.183984        0.93     6\n",
       "3          4    1    1     CalF    1   1.047848        0.17   -23\n",
       "4          5    1    1  10% BSA    1   1.331099        1.96    30\n",
       "5          6    1    1       SD    1   1.242113        1.32    19\n",
       "6          7    1    1   Bovine    2   1.168667        0.84    -1\n",
       "7          8    1    1     Goat    2   1.136390        0.64   -12\n",
       "8          9    1    1    Horse    2   1.163678        0.81    -3\n",
       "9         10    1    1     CalF    2   1.152574        0.74    -8"
      ]
     },
     "execution_count": 21,
     "metadata": {},
     "output_type": "execute_result"
    }
   ],
   "source": [
    "df2 = pd.read_excel(\"F:\\ROMA_LOB_LOD.xlsx\", sheet_name=2)\n",
    "print(df2.shape)\n",
    "df2.head(10)"
   ]
  },
  {
   "cell_type": "code",
   "execution_count": 3,
   "id": "b4036fab",
   "metadata": {},
   "outputs": [],
   "source": [
    "# blank_random = [random.random() for i in range(1,61)]\n",
    "# rep = [i for i in range(1,61)]\n",
    "# df2 = pd.DataFrame({'rep': rep, 'Blank_Conc' : blank_random})\n",
    "# df2.head(3)"
   ]
  },
  {
   "cell_type": "code",
   "execution_count": 4,
   "id": "e2c87763",
   "metadata": {},
   "outputs": [],
   "source": [
    "# df2=df1.rename(columns={'Unnamed: 1' : 'rep'}).drop(columns=['Unnamed: 0']).set_index('rep')"
   ]
  },
  {
   "cell_type": "code",
   "execution_count": 22,
   "id": "cceed42b",
   "metadata": {},
   "outputs": [
    {
     "data": {
      "text/plain": [
       "<AxesSubplot:xlabel='Blank_Conc', ylabel='Count'>"
      ]
     },
     "execution_count": 22,
     "metadata": {},
     "output_type": "execute_result"
    },
    {
     "data": {
      "image/png": "[encoded data removed]",
      "text/plain": [
       "<Figure size 432x288 with 1 Axes>"
      ]
     },
     "metadata": {
      "needs_background": "light"
     },
     "output_type": "display_data"
    }
   ],
   "source": [
    "sns.histplot(data=df2, x='Blank_Conc', kde = True)"
   ]
  },
  {
   "cell_type": "code",
   "execution_count": 23,
   "id": "6a4787df",
   "metadata": {},
   "outputs": [
    {
     "data": {
      "text/plain": [
       "0.02144458970721707"
      ]
     },
     "execution_count": 23,
     "metadata": {},
     "output_type": "execute_result"
    }
   ],
   "source": [
    "# 정규성 검정, 귀무가설: 정규성이다. 대립가설: 정규성 아니다.\n",
    "p_val=stats.normaltest(df2['Blank_Conc'])[1]\n",
    "p_val"
   ]
  },
  {
   "cell_type": "code",
   "execution_count": 7,
   "id": "610224e1",
   "metadata": {
    "scrolled": true
   },
   "outputs": [],
   "source": [
    "# print(len(df2['rep']))\n",
    "# print(np.mean(df2['Blank']))\n",
    "# print(np.std(df2['Blank']))"
   ]
  },
  {
   "cell_type": "code",
   "execution_count": 24,
   "id": "fcce012b",
   "metadata": {
    "scrolled": true
   },
   "outputs": [],
   "source": [
    "df3 = df2.sort_values(by= 'Blank_Conc')"
   ]
  },
  {
   "cell_type": "markdown",
   "id": "49a37218",
   "metadata": {},
   "source": [
    "### LOB\n",
    " 1. two reagent lot\n",
    " 2. one instrument system\n",
    " 3. Tree days\n",
    " 4. Four blank sample -> LOB\n",
    " 5. Four low measurand sample (positive) -> LOD\n",
    " 6. Two replicates per sample\n",
    " 7. 60 total blank (low sample) replicates per reagent , "
   ]
  },
  {
   "cell_type": "markdown",
   "id": "152fae72",
   "metadata": {},
   "source": [
    "#### 실수에서 정수부분 소수 부분 분리하는 함수 marh.modf\n",
    "a = 1.2345\n",
    "math.modf(a)[0]"
   ]
  },
  {
   "cell_type": "code",
   "execution_count": 102,
   "id": "8ba66f86",
   "metadata": {},
   "outputs": [
    {
     "data": {
      "text/html": [
       "<div>\n",
       "<style scoped>\n",
       "    .dataframe tbody tr th:only-of-type {\n",
       "        vertical-align: middle;\n",
       "    }\n",
       "\n",
       "    .dataframe tbody tr th {\n",
       "        vertical-align: top;\n",
       "    }\n",
       "\n",
       "    .dataframe thead th {\n",
       "        text-align: right;\n",
       "    }\n",
       "</style>\n",
       "<table border=\"1\" class=\"dataframe\">\n",
       "  <thead>\n",
       "    <tr style=\"text-align: right;\">\n",
       "      <th></th>\n",
       "      <th>rank_position</th>\n",
       "      <th>Result.no</th>\n",
       "      <th>Day</th>\n",
       "      <th>Lot</th>\n",
       "      <th>Sample</th>\n",
       "      <th>rep</th>\n",
       "      <th>Blank_S/G</th>\n",
       "      <th>Blank_Conc</th>\n",
       "      <th>Rank</th>\n",
       "    </tr>\n",
       "  </thead>\n",
       "  <tbody>\n",
       "    <tr>\n",
       "      <th>0</th>\n",
       "      <td>1.0</td>\n",
       "      <td>68</td>\n",
       "      <td>3</td>\n",
       "      <td>2</td>\n",
       "      <td>Goat</td>\n",
       "      <td>2</td>\n",
       "      <td>1.055922</td>\n",
       "      <td>0.13</td>\n",
       "      <td>0</td>\n",
       "    </tr>\n",
       "    <tr>\n",
       "      <th>1</th>\n",
       "      <td>2.0</td>\n",
       "      <td>4</td>\n",
       "      <td>1</td>\n",
       "      <td>1</td>\n",
       "      <td>CalF</td>\n",
       "      <td>1</td>\n",
       "      <td>1.047848</td>\n",
       "      <td>0.17</td>\n",
       "      <td>-23</td>\n",
       "    </tr>\n",
       "    <tr>\n",
       "      <th>2</th>\n",
       "      <td>3.0</td>\n",
       "      <td>56</td>\n",
       "      <td>3</td>\n",
       "      <td>1</td>\n",
       "      <td>Goat</td>\n",
       "      <td>2</td>\n",
       "      <td>1.055922</td>\n",
       "      <td>0.20</td>\n",
       "      <td>2</td>\n",
       "    </tr>\n",
       "    <tr>\n",
       "      <th>3</th>\n",
       "      <td>4.0</td>\n",
       "      <td>13</td>\n",
       "      <td>1</td>\n",
       "      <td>2</td>\n",
       "      <td>Bovine</td>\n",
       "      <td>1</td>\n",
       "      <td>1.069275</td>\n",
       "      <td>0.25</td>\n",
       "      <td>-21</td>\n",
       "    </tr>\n",
       "    <tr>\n",
       "      <th>4</th>\n",
       "      <td>5.0</td>\n",
       "      <td>58</td>\n",
       "      <td>3</td>\n",
       "      <td>1</td>\n",
       "      <td>CalF</td>\n",
       "      <td>2</td>\n",
       "      <td>1.091319</td>\n",
       "      <td>0.38</td>\n",
       "      <td>4</td>\n",
       "    </tr>\n",
       "    <tr>\n",
       "      <th>...</th>\n",
       "      <td>...</td>\n",
       "      <td>...</td>\n",
       "      <td>...</td>\n",
       "      <td>...</td>\n",
       "      <td>...</td>\n",
       "      <td>...</td>\n",
       "      <td>...</td>\n",
       "      <td>...</td>\n",
       "      <td>...</td>\n",
       "    </tr>\n",
       "    <tr>\n",
       "      <th>67</th>\n",
       "      <td>59.0</td>\n",
       "      <td>16</td>\n",
       "      <td>1</td>\n",
       "      <td>2</td>\n",
       "      <td>CalF</td>\n",
       "      <td>1</td>\n",
       "      <td>1.316926</td>\n",
       "      <td>2.94</td>\n",
       "      <td>43</td>\n",
       "    </tr>\n",
       "    <tr>\n",
       "      <th>68</th>\n",
       "      <td>60.0</td>\n",
       "      <td>47</td>\n",
       "      <td>2</td>\n",
       "      <td>2</td>\n",
       "      <td>10% BSA</td>\n",
       "      <td>2</td>\n",
       "      <td>1.320789</td>\n",
       "      <td>2.99</td>\n",
       "      <td>44</td>\n",
       "    </tr>\n",
       "    <tr>\n",
       "      <th>69</th>\n",
       "      <td>61.0</td>\n",
       "      <td>41</td>\n",
       "      <td>2</td>\n",
       "      <td>2</td>\n",
       "      <td>10% BSA</td>\n",
       "      <td>1</td>\n",
       "      <td>1.327636</td>\n",
       "      <td>3.07</td>\n",
       "      <td>45</td>\n",
       "    </tr>\n",
       "    <tr>\n",
       "      <th>70</th>\n",
       "      <td>62.0</td>\n",
       "      <td>17</td>\n",
       "      <td>1</td>\n",
       "      <td>2</td>\n",
       "      <td>10% BSA</td>\n",
       "      <td>1</td>\n",
       "      <td>1.351686</td>\n",
       "      <td>3.35</td>\n",
       "      <td>46</td>\n",
       "    </tr>\n",
       "    <tr>\n",
       "      <th>71</th>\n",
       "      <td>63.0</td>\n",
       "      <td>46</td>\n",
       "      <td>2</td>\n",
       "      <td>2</td>\n",
       "      <td>CalF</td>\n",
       "      <td>2</td>\n",
       "      <td>1.375914</td>\n",
       "      <td>3.64</td>\n",
       "      <td>47</td>\n",
       "    </tr>\n",
       "  </tbody>\n",
       "</table>\n",
       "<p>72 rows × 9 columns</p>\n",
       "</div>"
      ],
      "text/plain": [
       "    rank_position  Result.no  Day  Lot   Sample  rep  Blank_S/G  Blank_Conc  \\\n",
       "0             1.0         68    3    2     Goat    2   1.055922        0.13   \n",
       "1             2.0          4    1    1     CalF    1   1.047848        0.17   \n",
       "2             3.0         56    3    1     Goat    2   1.055922        0.20   \n",
       "3             4.0         13    1    2   Bovine    1   1.069275        0.25   \n",
       "4             5.0         58    3    1     CalF    2   1.091319        0.38   \n",
       "..            ...        ...  ...  ...      ...  ...        ...         ...   \n",
       "67           59.0         16    1    2     CalF    1   1.316926        2.94   \n",
       "68           60.0         47    2    2  10% BSA    2   1.320789        2.99   \n",
       "69           61.0         41    2    2  10% BSA    1   1.327636        3.07   \n",
       "70           62.0         17    1    2  10% BSA    1   1.351686        3.35   \n",
       "71           63.0         46    2    2     CalF    2   1.375914        3.64   \n",
       "\n",
       "    Rank  \n",
       "0      0  \n",
       "1    -23  \n",
       "2      2  \n",
       "3    -21  \n",
       "4      4  \n",
       "..   ...  \n",
       "67    43  \n",
       "68    44  \n",
       "69    45  \n",
       "70    46  \n",
       "71    47  \n",
       "\n",
       "[72 rows x 9 columns]"
      ]
     },
     "execution_count": 102,
     "metadata": {},
     "output_type": "execute_result"
    }
   ],
   "source": [
    "df3['rank_position'] = df3['Blank_Conc'].rank(method='dense')\n",
    "df4=df3.drop('rank_position', axis=1).reset_index()\n",
    "# df4=df3[['Blank_Conc', 'rank_position']].loc[(df3['rank_position'] == 30)]\n",
    "df4"
   ]
  },
  {
   "cell_type": "code",
   "execution_count": 103,
   "id": "e35529ee",
   "metadata": {},
   "outputs": [
    {
     "name": "stdout",
     "output_type": "stream",
     "text": [
      "LOB는 2.985 입니다.\n"
     ]
    }
   ],
   "source": [
    "# LOB ,a=bate = type\n",
    "# K= Sample 종류 식을 생각해보지\n",
    "B = len(df2['rep'])  # Total result of blank samples\n",
    "M=df4['Blank_Conc'].mean()\n",
    "SD=df4['Blank_Conc'].std()\n",
    "if p_val < 0.05:\n",
    "    R_P =  (0.5+B*0.95)\n",
    "    if type(R_P) == float:\n",
    "        f=math.modf(R_P)[0]\n",
    "        n=math.modf(R_P)[1]\n",
    "        LoB = df4['Blank_Conc'][n-1]+f*(df4['Blank_Conc'][n-1]-df4['Blank_Conc'][n-2])\n",
    "        print('LOB는 %s 입니다.' %round(LoB,3))\n",
    "else:\n",
    "    c = (1.645 / (1-(1/(4*(B-6)))))\n",
    "    LoB = M + c*SD\n",
    "    print('LOB는 %s 입니다.' %round(LoB,3))\n",
    "        \n",
    "#         df4=df3[['Blank', 'rank_position']].loc[(df3['rank_position'] == round(rank_LoB))]\n",
    "#         result = df4['rank_position'].tolist()[0]\n",
    "#         print(df4)"
   ]
  },
  {
   "cell_type": "code",
   "execution_count": 112,
   "id": "68c7fb42",
   "metadata": {},
   "outputs": [
    {
     "data": {
      "text/plain": [
       "68.89999999999999"
      ]
     },
     "execution_count": 112,
     "metadata": {},
     "output_type": "execute_result"
    }
   ],
   "source": [
    "R_P"
   ]
  },
  {
   "cell_type": "code",
   "execution_count": 12,
   "id": "3659e8fa",
   "metadata": {},
   "outputs": [],
   "source": [
    "# LOD 5 day, 5 sample, 최소 sample lot day 합쳐서 40 반복\n",
    "\n",
    "# randam_LOD = [random.uniform(1,5) for i in range(1,201)]\n",
    "# rep_LOD = [i for i in range(1,201)]\n",
    "# df5 = pd.DataFrame({'rep':rep_LOD, 'Low_sample':randam_LOD})\n",
    "# df5.head(10)"
   ]
  },
  {
   "cell_type": "code",
   "execution_count": 115,
   "id": "4365fb1e",
   "metadata": {
    "scrolled": true
   },
   "outputs": [
    {
     "data": {
      "text/html": [
       "<div>\n",
       "<style scoped>\n",
       "    .dataframe tbody tr th:only-of-type {\n",
       "        vertical-align: middle;\n",
       "    }\n",
       "\n",
       "    .dataframe tbody tr th {\n",
       "        vertical-align: top;\n",
       "    }\n",
       "\n",
       "    .dataframe thead th {\n",
       "        text-align: right;\n",
       "    }\n",
       "</style>\n",
       "<table border=\"1\" class=\"dataframe\">\n",
       "  <thead>\n",
       "    <tr style=\"text-align: right;\">\n",
       "      <th></th>\n",
       "      <th>LOT1</th>\n",
       "      <th>LOT2</th>\n",
       "    </tr>\n",
       "  </thead>\n",
       "  <tbody>\n",
       "    <tr>\n",
       "      <th>0</th>\n",
       "      <td>2.086956</td>\n",
       "      <td>3.755655</td>\n",
       "    </tr>\n",
       "    <tr>\n",
       "      <th>1</th>\n",
       "      <td>0.548805</td>\n",
       "      <td>6.599487</td>\n",
       "    </tr>\n",
       "    <tr>\n",
       "      <th>2</th>\n",
       "      <td>0.900431</td>\n",
       "      <td>1.860925</td>\n",
       "    </tr>\n",
       "    <tr>\n",
       "      <th>3</th>\n",
       "      <td>0.565995</td>\n",
       "      <td>0.814807</td>\n",
       "    </tr>\n",
       "    <tr>\n",
       "      <th>4</th>\n",
       "      <td>2.291302</td>\n",
       "      <td>1.136194</td>\n",
       "    </tr>\n",
       "    <tr>\n",
       "      <th>5</th>\n",
       "      <td>1.086278</td>\n",
       "      <td>2.236619</td>\n",
       "    </tr>\n",
       "  </tbody>\n",
       "</table>\n",
       "</div>"
      ],
      "text/plain": [
       "       LOT1      LOT2\n",
       "0  2.086956  3.755655\n",
       "1  0.548805  6.599487\n",
       "2  0.900431  1.860925\n",
       "3  0.565995  0.814807\n",
       "4  2.291302  1.136194\n",
       "5  1.086278  2.236619"
      ]
     },
     "execution_count": 115,
     "metadata": {},
     "output_type": "execute_result"
    }
   ],
   "source": [
    "LOD_raw = pd.read_excel(\"F:\\ROMA_LOB_LOD.xlsx\", sheet_name=3)\n",
    "lot1 = (LOD_raw['Lot'] == 1)\n",
    "lot2 =(LOD_raw['Lot'] == 2)\n",
    "cond1 = (LOD_raw['Sample'] == 'L1')\n",
    "cond2 = (LOD_raw['Sample'] == 'L2')\n",
    "cond3 = (LOD_raw['Sample'] == 'L3')\n",
    "cond4 = (LOD_raw['Sample'] == 'L4')\n",
    "cond5 = (LOD_raw['Sample'] == 'L5')\n",
    "cond6 = (LOD_raw['Sample'] == 'L6')\n",
    "\n",
    "lot1_L1 = LOD_raw.loc[lot1&cond1]\n",
    "lot1_L2 = LOD_raw.loc[lot1&cond2]\n",
    "lot1_L3 = LOD_raw.loc[lot1&cond3]\n",
    "lot1_L4 = LOD_raw.loc[lot1&cond4]\n",
    "lot1_L5 = LOD_raw.loc[lot1&cond5]\n",
    "lot1_L6 = LOD_raw.loc[lot1&cond6]\n",
    "\n",
    "lot2_L1 = LOD_raw.loc[lot2&cond1]\n",
    "lot2_L2 = LOD_raw.loc[lot2&cond2]\n",
    "lot2_L3 = LOD_raw.loc[lot2&cond3]\n",
    "lot2_L4 = LOD_raw.loc[lot2&cond4]\n",
    "lot2_L5 = LOD_raw.loc[lot2&cond5]\n",
    "lot2_L6 = LOD_raw.loc[lot2&cond6]\n",
    "\n",
    "SD1_1=lot1_L1['LOW_Conc'].std()\n",
    "SD1_2=lot1_L2['LOW_Conc'].std()\n",
    "SD1_3=lot1_L3['LOW_Conc'].std()\n",
    "SD1_4=lot1_L4['LOW_Conc'].std()\n",
    "SD1_5=lot1_L5['LOW_Conc'].std()\n",
    "SD1_6=lot1_L6['LOW_Conc'].std()\n",
    "\n",
    "SD2_1=lot2_L1['LOW_Conc'].std()\n",
    "SD2_2=lot2_L2['LOW_Conc'].std()\n",
    "SD2_3=lot2_L3['LOW_Conc'].std()\n",
    "SD2_4=lot2_L4['LOW_Conc'].std()\n",
    "SD2_5=lot2_L5['LOW_Conc'].std()\n",
    "SD2_6=lot2_L6['LOW_Conc'].std()\n",
    "\n",
    "LOD_SD = pd.DataFrame({'LOT1':[SD1_1,SD1_2,SD1_3,SD1_4,SD1_5,SD1_6], 'LOT2' : [SD2_1,SD2_2,SD2_3,SD2_4,SD2_5,SD2_6]})\n",
    "# LOD_raw.loc(cond1)\n",
    "LOD_SD"
   ]
  },
  {
   "cell_type": "code",
   "execution_count": 116,
   "id": "2db6cb6a",
   "metadata": {
    "scrolled": true
   },
   "outputs": [
    {
     "data": {
      "text/html": [
       "<div>\n",
       "<style scoped>\n",
       "    .dataframe tbody tr th:only-of-type {\n",
       "        vertical-align: middle;\n",
       "    }\n",
       "\n",
       "    .dataframe tbody tr th {\n",
       "        vertical-align: top;\n",
       "    }\n",
       "\n",
       "    .dataframe thead th {\n",
       "        text-align: right;\n",
       "    }\n",
       "</style>\n",
       "<table border=\"1\" class=\"dataframe\">\n",
       "  <thead>\n",
       "    <tr style=\"text-align: right;\">\n",
       "      <th></th>\n",
       "      <th>Result.no</th>\n",
       "      <th>Day</th>\n",
       "      <th>Lot</th>\n",
       "      <th>Sample</th>\n",
       "      <th>Sample_conc</th>\n",
       "      <th>rep</th>\n",
       "      <th>LOW_S/G</th>\n",
       "      <th>LOW_Conc</th>\n",
       "    </tr>\n",
       "  </thead>\n",
       "  <tbody>\n",
       "    <tr>\n",
       "      <th>17</th>\n",
       "      <td>18</td>\n",
       "      <td>1</td>\n",
       "      <td>2</td>\n",
       "      <td>L6</td>\n",
       "      <td>2.9</td>\n",
       "      <td>1</td>\n",
       "      <td>1.580890</td>\n",
       "      <td>6.18</td>\n",
       "    </tr>\n",
       "    <tr>\n",
       "      <th>23</th>\n",
       "      <td>24</td>\n",
       "      <td>1</td>\n",
       "      <td>2</td>\n",
       "      <td>L6</td>\n",
       "      <td>2.9</td>\n",
       "      <td>2</td>\n",
       "      <td>1.065837</td>\n",
       "      <td>0.22</td>\n",
       "    </tr>\n",
       "    <tr>\n",
       "      <th>41</th>\n",
       "      <td>42</td>\n",
       "      <td>2</td>\n",
       "      <td>2</td>\n",
       "      <td>L6</td>\n",
       "      <td>2.9</td>\n",
       "      <td>1</td>\n",
       "      <td>1.574501</td>\n",
       "      <td>6.10</td>\n",
       "    </tr>\n",
       "    <tr>\n",
       "      <th>47</th>\n",
       "      <td>48</td>\n",
       "      <td>2</td>\n",
       "      <td>2</td>\n",
       "      <td>L6</td>\n",
       "      <td>2.9</td>\n",
       "      <td>2</td>\n",
       "      <td>1.312708</td>\n",
       "      <td>2.89</td>\n",
       "    </tr>\n",
       "    <tr>\n",
       "      <th>65</th>\n",
       "      <td>66</td>\n",
       "      <td>3</td>\n",
       "      <td>2</td>\n",
       "      <td>L6</td>\n",
       "      <td>2.9</td>\n",
       "      <td>1</td>\n",
       "      <td>1.450883</td>\n",
       "      <td>4.56</td>\n",
       "    </tr>\n",
       "    <tr>\n",
       "      <th>71</th>\n",
       "      <td>72</td>\n",
       "      <td>3</td>\n",
       "      <td>2</td>\n",
       "      <td>L6</td>\n",
       "      <td>2.9</td>\n",
       "      <td>2</td>\n",
       "      <td>1.416360</td>\n",
       "      <td>4.13</td>\n",
       "    </tr>\n",
       "  </tbody>\n",
       "</table>\n",
       "</div>"
      ],
      "text/plain": [
       "    Result.no  Day  Lot Sample  Sample_conc  rep   LOW_S/G  LOW_Conc\n",
       "17         18    1    2     L6          2.9    1  1.580890      6.18\n",
       "23         24    1    2     L6          2.9    2  1.065837      0.22\n",
       "41         42    2    2     L6          2.9    1  1.574501      6.10\n",
       "47         48    2    2     L6          2.9    2  1.312708      2.89\n",
       "65         66    3    2     L6          2.9    1  1.450883      4.56\n",
       "71         72    3    2     L6          2.9    2  1.416360      4.13"
      ]
     },
     "execution_count": 116,
     "metadata": {},
     "output_type": "execute_result"
    }
   ],
   "source": [
    "lot2_L6"
   ]
  },
  {
   "cell_type": "code",
   "execution_count": 117,
   "id": "68f4b954",
   "metadata": {
    "scrolled": true
   },
   "outputs": [
    {
     "data": {
      "text/plain": [
       "<AxesSubplot:xlabel='LOW_Conc', ylabel='Count'>"
      ]
     },
     "execution_count": 117,
     "metadata": {},
     "output_type": "execute_result"
    },
    {
     "data": {
      "image/png": "[encoded data removed]",
      "text/plain": [
       "<Figure size 432x288 with 1 Axes>"
      ]
     },
     "metadata": {
      "needs_background": "light"
     },
     "output_type": "display_data"
    }
   ],
   "source": [
    "# 정규성 확인\n",
    "sns.histplot(data=LOD_raw, x='LOW_Conc', kde=True)"
   ]
  },
  {
   "cell_type": "code",
   "execution_count": 119,
   "id": "cbb54450",
   "metadata": {},
   "outputs": [
    {
     "data": {
      "text/plain": [
       "1.9953572821283364e-05"
      ]
     },
     "execution_count": 119,
     "metadata": {},
     "output_type": "execute_result"
    }
   ],
   "source": [
    "# 정규성 검정 : 귀무-정규성을 갖는다\n",
    "\n",
    "p_low_sample = stats.normaltest(LOD_raw['LOW_Conc'])\n",
    "p_low_sample[1]"
   ]
  },
  {
   "cell_type": "code",
   "execution_count": 107,
   "id": "a6c76e60",
   "metadata": {},
   "outputs": [
    {
     "data": {
      "text/plain": [
       "17.51145196721277"
      ]
     },
     "execution_count": 107,
     "metadata": {},
     "output_type": "execute_result"
    }
   ],
   "source": [
    "# L : total number, J : Low sample numder\n",
    "L=(len(LOD_raw)+1)\n",
    "J=LOD_raw['Sample'].nunique()\n",
    "N=LOD_raw['Sample'].value_counts()[0]\n",
    "\n",
    "LOT1_SDL= math.sqrt(np.sum((N-1)*LOD_SD**2)[0]/(N-1)*J)\n",
    "LOT2_SDL= math.sqrt(np.sum((N-1)*LOD_SD**2)[1]/(N-1)*J)\n",
    "LOT1_SDL\n",
    "LOT2_SDL"
   ]
  },
  {
   "cell_type": "code",
   "execution_count": 114,
   "id": "29d56095",
   "metadata": {},
   "outputs": [
    {
     "data": {
      "text/plain": [
       "8"
      ]
     },
     "execution_count": 114,
     "metadata": {},
     "output_type": "execute_result"
    }
   ],
   "source": [
    "N"
   ]
  },
  {
   "cell_type": "code",
   "execution_count": 19,
   "id": "ee05e929",
   "metadata": {},
   "outputs": [
    {
     "name": "stdout",
     "output_type": "stream",
     "text": [
      "LoD 값은 32.022 입니다.\n"
     ]
    }
   ],
   "source": [
    "LOD_raw\n",
    "LOD_SD\n",
    "c = (1.645/(1-(1/(4*(L-N)))))\n",
    "LoD1 = LoB + c*LOT1_SDL\n",
    "LoD2 = LoB + c*LOT2_SDL\n",
    "\n",
    "print('LoD 값은 %s 입니다.' %round(max([LoD1,LoD2]),3))"
   ]
  },
  {
   "cell_type": "code",
   "execution_count": 20,
   "id": "735683fb",
   "metadata": {},
   "outputs": [
    {
     "data": {
      "text/plain": [
       "15.193021679724815"
      ]
     },
     "execution_count": 20,
     "metadata": {},
     "output_type": "execute_result"
    }
   ],
   "source": [
    "LoD1"
   ]
  }
 ],
 "metadata": {
  "kernelspec": {
   "display_name": "Python 3",
   "language": "python",
   "name": "python3"
  },
  "language_info": {
   "codemirror_mode": {
    "name": "ipython",
    "version": 3
   },
   "file_extension": ".py",
   "mimetype": "text/x-python",
   "name": "python",
   "nbconvert_exporter": "python",
   "pygments_lexer": "ipython3",
   "version": "3.8.8"
  }
 },
 "nbformat": 4,
 "nbformat_minor": 5
}
